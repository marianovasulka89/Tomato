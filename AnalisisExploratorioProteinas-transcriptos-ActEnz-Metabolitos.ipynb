{
 "cells": [
  {
   "cell_type": "code",
   "execution_count": 1,
   "metadata": {},
   "outputs": [
    {
     "name": "stdout",
     "output_type": "stream",
     "text": [
      "(19248, 13) (19248, 25) (424, 25) (26, 25) (26, 26)\n"
     ]
    }
   ],
   "source": [
    "import pandas as pd\n",
    "\n",
    "media_transcriptos = pd.read_csv('MediaTodosTranscriptos.csv')\n",
    "\n",
    "all_transcripts = pd.read_csv('AllTranscripts.csv')\n",
    "\n",
    "proteinas = pd.read_csv('TablaProteinas.csv')\n",
    "\n",
    "act_enz = pd.read_csv('ActividadEnzimatica.csv')\n",
    "\n",
    "metab = pd.read_csv('metabolitos.csv')\n",
    "\n",
    "print(media_transcriptos.shape , all_transcripts.shape , proteinas.shape , act_enz.shape , metab.shape)"
   ]
  },
  {
   "cell_type": "code",
   "execution_count": null,
   "metadata": {},
   "outputs": [],
   "source": []
  },
  {
   "cell_type": "code",
   "execution_count": 16,
   "metadata": {},
   "outputs": [
    {
     "data": {
      "text/plain": [
       "Index(['Locus', 'CervilMean', 'LevovilMean', 'FerumMean', 'LA1420Mean',\n",
       "       'PlovdivMean', 'LA0147Mean', 'SPRMean', 'CriolloMean',\n",
       "       'FerumxLA1420Mean', 'CervilxLevovilMean', 'SPRxCriollo',\n",
       "       'LA0147xPlovdiv'],\n",
       "      dtype='object')"
      ]
     },
     "execution_count": 16,
     "metadata": {},
     "output_type": "execute_result"
    }
   ],
   "source": [
    "#vamos a arrancar con cada dataset por separado, generando un pca y un knn para cada dataset, discriminando\n",
    "#por estadio celular, para validar el tema del num de genotipos, y que entre ellos sean distintos\n",
    "media_transcriptos.columns"
   ]
  },
  {
   "cell_type": "code",
   "execution_count": 2,
   "metadata": {},
   "outputs": [],
   "source": [
    "media_transcriptos = media_transcriptos.loc[: , ['CervilMean', 'LevovilMean', 'FerumMean', 'LA1420Mean',\n",
    "'PlovdivMean', 'LA0147Mean','FerumxLA1420Mean', 'CervilxLevovilMean','LA0147xPlovdiv']]"
   ]
  },
  {
   "cell_type": "code",
   "execution_count": null,
   "metadata": {},
   "outputs": [],
   "source": []
  },
  {
   "cell_type": "code",
   "execution_count": 18,
   "metadata": {},
   "outputs": [
    {
     "data": {
      "text/html": [
       "<div>\n",
       "<style scoped>\n",
       "    .dataframe tbody tr th:only-of-type {\n",
       "        vertical-align: middle;\n",
       "    }\n",
       "\n",
       "    .dataframe tbody tr th {\n",
       "        vertical-align: top;\n",
       "    }\n",
       "\n",
       "    .dataframe thead th {\n",
       "        text-align: right;\n",
       "    }\n",
       "</style>\n",
       "<table border=\"1\" class=\"dataframe\">\n",
       "  <thead>\n",
       "    <tr style=\"text-align: right;\">\n",
       "      <th></th>\n",
       "      <th>CervilMean</th>\n",
       "      <th>LevovilMean</th>\n",
       "      <th>FerumMean</th>\n",
       "      <th>LA1420Mean</th>\n",
       "      <th>PlovdivMean</th>\n",
       "      <th>LA0147Mean</th>\n",
       "      <th>FerumxLA1420Mean</th>\n",
       "      <th>CervilxLevovilMean</th>\n",
       "      <th>LA0147xPlovdiv</th>\n",
       "    </tr>\n",
       "  </thead>\n",
       "  <tbody>\n",
       "    <tr>\n",
       "      <th>0</th>\n",
       "      <td>28.492240</td>\n",
       "      <td>37.842904</td>\n",
       "      <td>22.362841</td>\n",
       "      <td>33.497084</td>\n",
       "      <td>20.199535</td>\n",
       "      <td>25.653553</td>\n",
       "      <td>14.061612</td>\n",
       "      <td>33.370647</td>\n",
       "      <td>21.379897</td>\n",
       "    </tr>\n",
       "    <tr>\n",
       "      <th>1</th>\n",
       "      <td>23.788539</td>\n",
       "      <td>39.415068</td>\n",
       "      <td>32.367191</td>\n",
       "      <td>38.152594</td>\n",
       "      <td>31.259668</td>\n",
       "      <td>40.849439</td>\n",
       "      <td>25.980639</td>\n",
       "      <td>29.144475</td>\n",
       "      <td>31.566601</td>\n",
       "    </tr>\n",
       "    <tr>\n",
       "      <th>2</th>\n",
       "      <td>190.270861</td>\n",
       "      <td>202.485253</td>\n",
       "      <td>135.372770</td>\n",
       "      <td>204.731228</td>\n",
       "      <td>128.395849</td>\n",
       "      <td>114.971221</td>\n",
       "      <td>166.770359</td>\n",
       "      <td>194.514185</td>\n",
       "      <td>127.440662</td>\n",
       "    </tr>\n",
       "    <tr>\n",
       "      <th>3</th>\n",
       "      <td>20.341800</td>\n",
       "      <td>14.456985</td>\n",
       "      <td>24.443495</td>\n",
       "      <td>16.523091</td>\n",
       "      <td>24.578072</td>\n",
       "      <td>21.474084</td>\n",
       "      <td>24.512475</td>\n",
       "      <td>15.108102</td>\n",
       "      <td>22.722442</td>\n",
       "    </tr>\n",
       "    <tr>\n",
       "      <th>4</th>\n",
       "      <td>17.343025</td>\n",
       "      <td>14.094959</td>\n",
       "      <td>4.591615</td>\n",
       "      <td>7.236849</td>\n",
       "      <td>11.458846</td>\n",
       "      <td>12.092857</td>\n",
       "      <td>6.367684</td>\n",
       "      <td>13.322762</td>\n",
       "      <td>11.479487</td>\n",
       "    </tr>\n",
       "    <tr>\n",
       "      <th>...</th>\n",
       "      <td>...</td>\n",
       "      <td>...</td>\n",
       "      <td>...</td>\n",
       "      <td>...</td>\n",
       "      <td>...</td>\n",
       "      <td>...</td>\n",
       "      <td>...</td>\n",
       "      <td>...</td>\n",
       "      <td>...</td>\n",
       "    </tr>\n",
       "    <tr>\n",
       "      <th>19243</th>\n",
       "      <td>0.000000</td>\n",
       "      <td>3.943561</td>\n",
       "      <td>2.736839</td>\n",
       "      <td>3.342046</td>\n",
       "      <td>0.032568</td>\n",
       "      <td>3.821104</td>\n",
       "      <td>3.314712</td>\n",
       "      <td>1.959368</td>\n",
       "      <td>1.626370</td>\n",
       "    </tr>\n",
       "    <tr>\n",
       "      <th>19244</th>\n",
       "      <td>72.878382</td>\n",
       "      <td>48.812501</td>\n",
       "      <td>113.020736</td>\n",
       "      <td>42.075091</td>\n",
       "      <td>81.266034</td>\n",
       "      <td>69.342089</td>\n",
       "      <td>86.876210</td>\n",
       "      <td>52.671197</td>\n",
       "      <td>73.164069</td>\n",
       "    </tr>\n",
       "    <tr>\n",
       "      <th>19245</th>\n",
       "      <td>0.000000</td>\n",
       "      <td>0.000000</td>\n",
       "      <td>0.194430</td>\n",
       "      <td>0.224818</td>\n",
       "      <td>0.650277</td>\n",
       "      <td>0.440910</td>\n",
       "      <td>0.060884</td>\n",
       "      <td>0.148837</td>\n",
       "      <td>0.765429</td>\n",
       "    </tr>\n",
       "    <tr>\n",
       "      <th>19246</th>\n",
       "      <td>0.150369</td>\n",
       "      <td>0.504333</td>\n",
       "      <td>0.336654</td>\n",
       "      <td>0.927120</td>\n",
       "      <td>0.134418</td>\n",
       "      <td>0.221020</td>\n",
       "      <td>0.898132</td>\n",
       "      <td>0.543392</td>\n",
       "      <td>0.188897</td>\n",
       "    </tr>\n",
       "    <tr>\n",
       "      <th>19247</th>\n",
       "      <td>1.435428</td>\n",
       "      <td>0.087741</td>\n",
       "      <td>0.166685</td>\n",
       "      <td>0.136844</td>\n",
       "      <td>0.457631</td>\n",
       "      <td>0.115432</td>\n",
       "      <td>0.097414</td>\n",
       "      <td>0.098680</td>\n",
       "      <td>0.817352</td>\n",
       "    </tr>\n",
       "  </tbody>\n",
       "</table>\n",
       "<p>19248 rows × 9 columns</p>\n",
       "</div>"
      ],
      "text/plain": [
       "       CervilMean  LevovilMean   FerumMean  LA1420Mean  PlovdivMean  \\\n",
       "0       28.492240    37.842904   22.362841   33.497084    20.199535   \n",
       "1       23.788539    39.415068   32.367191   38.152594    31.259668   \n",
       "2      190.270861   202.485253  135.372770  204.731228   128.395849   \n",
       "3       20.341800    14.456985   24.443495   16.523091    24.578072   \n",
       "4       17.343025    14.094959    4.591615    7.236849    11.458846   \n",
       "...           ...          ...         ...         ...          ...   \n",
       "19243    0.000000     3.943561    2.736839    3.342046     0.032568   \n",
       "19244   72.878382    48.812501  113.020736   42.075091    81.266034   \n",
       "19245    0.000000     0.000000    0.194430    0.224818     0.650277   \n",
       "19246    0.150369     0.504333    0.336654    0.927120     0.134418   \n",
       "19247    1.435428     0.087741    0.166685    0.136844     0.457631   \n",
       "\n",
       "       LA0147Mean  FerumxLA1420Mean  CervilxLevovilMean  LA0147xPlovdiv  \n",
       "0       25.653553         14.061612           33.370647       21.379897  \n",
       "1       40.849439         25.980639           29.144475       31.566601  \n",
       "2      114.971221        166.770359          194.514185      127.440662  \n",
       "3       21.474084         24.512475           15.108102       22.722442  \n",
       "4       12.092857          6.367684           13.322762       11.479487  \n",
       "...           ...               ...                 ...             ...  \n",
       "19243    3.821104          3.314712            1.959368        1.626370  \n",
       "19244   69.342089         86.876210           52.671197       73.164069  \n",
       "19245    0.440910          0.060884            0.148837        0.765429  \n",
       "19246    0.221020          0.898132            0.543392        0.188897  \n",
       "19247    0.115432          0.097414            0.098680        0.817352  \n",
       "\n",
       "[19248 rows x 9 columns]"
      ]
     },
     "execution_count": 18,
     "metadata": {},
     "output_type": "execute_result"
    }
   ],
   "source": [
    "media_transcriptos"
   ]
  },
  {
   "cell_type": "code",
   "execution_count": 19,
   "metadata": {},
   "outputs": [
    {
     "data": {
      "text/html": [
       "<div>\n",
       "<style scoped>\n",
       "    .dataframe tbody tr th:only-of-type {\n",
       "        vertical-align: middle;\n",
       "    }\n",
       "\n",
       "    .dataframe tbody tr th {\n",
       "        vertical-align: top;\n",
       "    }\n",
       "\n",
       "    .dataframe thead th {\n",
       "        text-align: right;\n",
       "    }\n",
       "</style>\n",
       "<table border=\"1\" class=\"dataframe\">\n",
       "  <thead>\n",
       "    <tr style=\"text-align: right;\">\n",
       "      <th></th>\n",
       "      <th>0</th>\n",
       "      <th>1</th>\n",
       "      <th>2</th>\n",
       "      <th>3</th>\n",
       "      <th>4</th>\n",
       "      <th>5</th>\n",
       "      <th>6</th>\n",
       "      <th>7</th>\n",
       "      <th>8</th>\n",
       "      <th>9</th>\n",
       "      <th>...</th>\n",
       "      <th>19238</th>\n",
       "      <th>19239</th>\n",
       "      <th>19240</th>\n",
       "      <th>19241</th>\n",
       "      <th>19242</th>\n",
       "      <th>19243</th>\n",
       "      <th>19244</th>\n",
       "      <th>19245</th>\n",
       "      <th>19246</th>\n",
       "      <th>19247</th>\n",
       "    </tr>\n",
       "  </thead>\n",
       "  <tbody>\n",
       "    <tr>\n",
       "      <th>CervilMean</th>\n",
       "      <td>28.492240</td>\n",
       "      <td>23.788539</td>\n",
       "      <td>190.270861</td>\n",
       "      <td>20.341800</td>\n",
       "      <td>17.343025</td>\n",
       "      <td>12.722341</td>\n",
       "      <td>19.617464</td>\n",
       "      <td>0.424791</td>\n",
       "      <td>38.975900</td>\n",
       "      <td>19.870831</td>\n",
       "      <td>...</td>\n",
       "      <td>882.184313</td>\n",
       "      <td>1.851060</td>\n",
       "      <td>34.657836</td>\n",
       "      <td>1.151966</td>\n",
       "      <td>247.626103</td>\n",
       "      <td>0.000000</td>\n",
       "      <td>72.878382</td>\n",
       "      <td>0.000000</td>\n",
       "      <td>0.150369</td>\n",
       "      <td>1.435428</td>\n",
       "    </tr>\n",
       "    <tr>\n",
       "      <th>LevovilMean</th>\n",
       "      <td>37.842904</td>\n",
       "      <td>39.415068</td>\n",
       "      <td>202.485253</td>\n",
       "      <td>14.456985</td>\n",
       "      <td>14.094959</td>\n",
       "      <td>15.563449</td>\n",
       "      <td>19.111693</td>\n",
       "      <td>0.340635</td>\n",
       "      <td>43.410143</td>\n",
       "      <td>19.025062</td>\n",
       "      <td>...</td>\n",
       "      <td>730.159293</td>\n",
       "      <td>1.443004</td>\n",
       "      <td>28.677239</td>\n",
       "      <td>0.000000</td>\n",
       "      <td>277.895400</td>\n",
       "      <td>3.943561</td>\n",
       "      <td>48.812501</td>\n",
       "      <td>0.000000</td>\n",
       "      <td>0.504333</td>\n",
       "      <td>0.087741</td>\n",
       "    </tr>\n",
       "    <tr>\n",
       "      <th>FerumMean</th>\n",
       "      <td>22.362841</td>\n",
       "      <td>32.367191</td>\n",
       "      <td>135.372770</td>\n",
       "      <td>24.443495</td>\n",
       "      <td>4.591615</td>\n",
       "      <td>17.022573</td>\n",
       "      <td>22.966607</td>\n",
       "      <td>0.424924</td>\n",
       "      <td>32.013142</td>\n",
       "      <td>26.593905</td>\n",
       "      <td>...</td>\n",
       "      <td>941.639692</td>\n",
       "      <td>2.837479</td>\n",
       "      <td>109.097142</td>\n",
       "      <td>0.000000</td>\n",
       "      <td>323.800211</td>\n",
       "      <td>2.736839</td>\n",
       "      <td>113.020736</td>\n",
       "      <td>0.194430</td>\n",
       "      <td>0.336654</td>\n",
       "      <td>0.166685</td>\n",
       "    </tr>\n",
       "    <tr>\n",
       "      <th>LA1420Mean</th>\n",
       "      <td>33.497084</td>\n",
       "      <td>38.152594</td>\n",
       "      <td>204.731228</td>\n",
       "      <td>16.523091</td>\n",
       "      <td>7.236849</td>\n",
       "      <td>10.508899</td>\n",
       "      <td>14.881177</td>\n",
       "      <td>0.177670</td>\n",
       "      <td>44.887991</td>\n",
       "      <td>23.775856</td>\n",
       "      <td>...</td>\n",
       "      <td>900.435712</td>\n",
       "      <td>1.818349</td>\n",
       "      <td>78.709506</td>\n",
       "      <td>0.000000</td>\n",
       "      <td>284.121476</td>\n",
       "      <td>3.342046</td>\n",
       "      <td>42.075091</td>\n",
       "      <td>0.224818</td>\n",
       "      <td>0.927120</td>\n",
       "      <td>0.136844</td>\n",
       "    </tr>\n",
       "    <tr>\n",
       "      <th>PlovdivMean</th>\n",
       "      <td>20.199535</td>\n",
       "      <td>31.259668</td>\n",
       "      <td>128.395849</td>\n",
       "      <td>24.578072</td>\n",
       "      <td>11.458846</td>\n",
       "      <td>14.867246</td>\n",
       "      <td>20.411920</td>\n",
       "      <td>0.316306</td>\n",
       "      <td>25.132419</td>\n",
       "      <td>26.399616</td>\n",
       "      <td>...</td>\n",
       "      <td>895.560829</td>\n",
       "      <td>2.799575</td>\n",
       "      <td>59.871055</td>\n",
       "      <td>0.000000</td>\n",
       "      <td>203.125954</td>\n",
       "      <td>0.032568</td>\n",
       "      <td>81.266034</td>\n",
       "      <td>0.650277</td>\n",
       "      <td>0.134418</td>\n",
       "      <td>0.457631</td>\n",
       "    </tr>\n",
       "    <tr>\n",
       "      <th>LA0147Mean</th>\n",
       "      <td>25.653553</td>\n",
       "      <td>40.849439</td>\n",
       "      <td>114.971221</td>\n",
       "      <td>21.474084</td>\n",
       "      <td>12.092857</td>\n",
       "      <td>19.688495</td>\n",
       "      <td>12.160373</td>\n",
       "      <td>0.502150</td>\n",
       "      <td>30.927041</td>\n",
       "      <td>24.891183</td>\n",
       "      <td>...</td>\n",
       "      <td>1326.846802</td>\n",
       "      <td>3.464191</td>\n",
       "      <td>48.531566</td>\n",
       "      <td>0.000000</td>\n",
       "      <td>207.850006</td>\n",
       "      <td>3.821104</td>\n",
       "      <td>69.342089</td>\n",
       "      <td>0.440910</td>\n",
       "      <td>0.221020</td>\n",
       "      <td>0.115432</td>\n",
       "    </tr>\n",
       "    <tr>\n",
       "      <th>FerumxLA1420Mean</th>\n",
       "      <td>14.061612</td>\n",
       "      <td>25.980639</td>\n",
       "      <td>166.770359</td>\n",
       "      <td>24.512475</td>\n",
       "      <td>6.367684</td>\n",
       "      <td>9.905629</td>\n",
       "      <td>17.020599</td>\n",
       "      <td>0.282441</td>\n",
       "      <td>39.491317</td>\n",
       "      <td>23.773590</td>\n",
       "      <td>...</td>\n",
       "      <td>829.294918</td>\n",
       "      <td>3.270480</td>\n",
       "      <td>104.862588</td>\n",
       "      <td>0.000000</td>\n",
       "      <td>347.949653</td>\n",
       "      <td>3.314712</td>\n",
       "      <td>86.876210</td>\n",
       "      <td>0.060884</td>\n",
       "      <td>0.898132</td>\n",
       "      <td>0.097414</td>\n",
       "    </tr>\n",
       "    <tr>\n",
       "      <th>CervilxLevovilMean</th>\n",
       "      <td>33.370647</td>\n",
       "      <td>29.144475</td>\n",
       "      <td>194.514185</td>\n",
       "      <td>15.108102</td>\n",
       "      <td>13.322762</td>\n",
       "      <td>13.368676</td>\n",
       "      <td>16.509039</td>\n",
       "      <td>0.357428</td>\n",
       "      <td>43.001902</td>\n",
       "      <td>20.462443</td>\n",
       "      <td>...</td>\n",
       "      <td>350.587893</td>\n",
       "      <td>1.339429</td>\n",
       "      <td>36.090875</td>\n",
       "      <td>0.378256</td>\n",
       "      <td>319.080374</td>\n",
       "      <td>1.959368</td>\n",
       "      <td>52.671197</td>\n",
       "      <td>0.148837</td>\n",
       "      <td>0.543392</td>\n",
       "      <td>0.098680</td>\n",
       "    </tr>\n",
       "    <tr>\n",
       "      <th>LA0147xPlovdiv</th>\n",
       "      <td>21.379897</td>\n",
       "      <td>31.566601</td>\n",
       "      <td>127.440662</td>\n",
       "      <td>22.722442</td>\n",
       "      <td>11.479487</td>\n",
       "      <td>18.187961</td>\n",
       "      <td>19.407490</td>\n",
       "      <td>0.226587</td>\n",
       "      <td>29.202785</td>\n",
       "      <td>27.621993</td>\n",
       "      <td>...</td>\n",
       "      <td>1196.274219</td>\n",
       "      <td>3.432103</td>\n",
       "      <td>46.482787</td>\n",
       "      <td>0.172401</td>\n",
       "      <td>200.209688</td>\n",
       "      <td>1.626370</td>\n",
       "      <td>73.164069</td>\n",
       "      <td>0.765429</td>\n",
       "      <td>0.188897</td>\n",
       "      <td>0.817352</td>\n",
       "    </tr>\n",
       "  </tbody>\n",
       "</table>\n",
       "<p>9 rows × 19248 columns</p>\n",
       "</div>"
      ],
      "text/plain": [
       "                        0          1           2          3          4      \\\n",
       "CervilMean          28.492240  23.788539  190.270861  20.341800  17.343025   \n",
       "LevovilMean         37.842904  39.415068  202.485253  14.456985  14.094959   \n",
       "FerumMean           22.362841  32.367191  135.372770  24.443495   4.591615   \n",
       "LA1420Mean          33.497084  38.152594  204.731228  16.523091   7.236849   \n",
       "PlovdivMean         20.199535  31.259668  128.395849  24.578072  11.458846   \n",
       "LA0147Mean          25.653553  40.849439  114.971221  21.474084  12.092857   \n",
       "FerumxLA1420Mean    14.061612  25.980639  166.770359  24.512475   6.367684   \n",
       "CervilxLevovilMean  33.370647  29.144475  194.514185  15.108102  13.322762   \n",
       "LA0147xPlovdiv      21.379897  31.566601  127.440662  22.722442  11.479487   \n",
       "\n",
       "                        5          6         7          8          9      ...  \\\n",
       "CervilMean          12.722341  19.617464  0.424791  38.975900  19.870831  ...   \n",
       "LevovilMean         15.563449  19.111693  0.340635  43.410143  19.025062  ...   \n",
       "FerumMean           17.022573  22.966607  0.424924  32.013142  26.593905  ...   \n",
       "LA1420Mean          10.508899  14.881177  0.177670  44.887991  23.775856  ...   \n",
       "PlovdivMean         14.867246  20.411920  0.316306  25.132419  26.399616  ...   \n",
       "LA0147Mean          19.688495  12.160373  0.502150  30.927041  24.891183  ...   \n",
       "FerumxLA1420Mean     9.905629  17.020599  0.282441  39.491317  23.773590  ...   \n",
       "CervilxLevovilMean  13.368676  16.509039  0.357428  43.001902  20.462443  ...   \n",
       "LA0147xPlovdiv      18.187961  19.407490  0.226587  29.202785  27.621993  ...   \n",
       "\n",
       "                          19238     19239       19240     19241       19242  \\\n",
       "CervilMean           882.184313  1.851060   34.657836  1.151966  247.626103   \n",
       "LevovilMean          730.159293  1.443004   28.677239  0.000000  277.895400   \n",
       "FerumMean            941.639692  2.837479  109.097142  0.000000  323.800211   \n",
       "LA1420Mean           900.435712  1.818349   78.709506  0.000000  284.121476   \n",
       "PlovdivMean          895.560829  2.799575   59.871055  0.000000  203.125954   \n",
       "LA0147Mean          1326.846802  3.464191   48.531566  0.000000  207.850006   \n",
       "FerumxLA1420Mean     829.294918  3.270480  104.862588  0.000000  347.949653   \n",
       "CervilxLevovilMean   350.587893  1.339429   36.090875  0.378256  319.080374   \n",
       "LA0147xPlovdiv      1196.274219  3.432103   46.482787  0.172401  200.209688   \n",
       "\n",
       "                       19243       19244     19245     19246     19247  \n",
       "CervilMean          0.000000   72.878382  0.000000  0.150369  1.435428  \n",
       "LevovilMean         3.943561   48.812501  0.000000  0.504333  0.087741  \n",
       "FerumMean           2.736839  113.020736  0.194430  0.336654  0.166685  \n",
       "LA1420Mean          3.342046   42.075091  0.224818  0.927120  0.136844  \n",
       "PlovdivMean         0.032568   81.266034  0.650277  0.134418  0.457631  \n",
       "LA0147Mean          3.821104   69.342089  0.440910  0.221020  0.115432  \n",
       "FerumxLA1420Mean    3.314712   86.876210  0.060884  0.898132  0.097414  \n",
       "CervilxLevovilMean  1.959368   52.671197  0.148837  0.543392  0.098680  \n",
       "LA0147xPlovdiv      1.626370   73.164069  0.765429  0.188897  0.817352  \n",
       "\n",
       "[9 rows x 19248 columns]"
      ]
     },
     "execution_count": 19,
     "metadata": {},
     "output_type": "execute_result"
    }
   ],
   "source": [
    "media_transcriptos.T"
   ]
  },
  {
   "cell_type": "code",
   "execution_count": null,
   "metadata": {},
   "outputs": [],
   "source": []
  },
  {
   "cell_type": "code",
   "execution_count": 3,
   "metadata": {},
   "outputs": [],
   "source": [
    "genotipo = media_transcriptos.T.index"
   ]
  },
  {
   "cell_type": "code",
   "execution_count": null,
   "metadata": {},
   "outputs": [],
   "source": []
  },
  {
   "cell_type": "code",
   "execution_count": null,
   "metadata": {},
   "outputs": [],
   "source": []
  },
  {
   "cell_type": "code",
   "execution_count": null,
   "metadata": {},
   "outputs": [],
   "source": []
  },
  {
   "cell_type": "code",
   "execution_count": 4,
   "metadata": {},
   "outputs": [
    {
     "data": {
      "text/plain": [
       "(9, 3)"
      ]
     },
     "execution_count": 4,
     "metadata": {},
     "output_type": "execute_result"
    }
   ],
   "source": [
    "#voy a importar librerias que me hacen falta para hacer los graficos, y modelos\n",
    "import matplotlib.pyplot as plt\n",
    "from sklearn.decomposition import PCA\n",
    "\n",
    "pca_media_transcriptos = PCA(n_components = 2)#creo el objeto con el num de compoenentes deseados\n",
    "\n",
    "fitting_media_transcriptos = pca_media_transcriptos.fit(media_transcriptos.T)#fiteo la traspuesta del dataset, para pdoer pintar por genotipo\n",
    "\n",
    "comp_princ_media_transcriptos = fitting_media_transcriptos.transform(media_transcriptos.T)#transformo el dataset.T a la reduccion de dimencional\n",
    "\n",
    "df_comp_princ_media_transcriptos = pd.DataFrame(data = comp_princ_media_transcriptos , columns = ['principal component 1', 'principal component 2'])\n",
    "\n",
    "df_comp_princ_media_transcriptos['Genotipo'] = genotipo\n",
    "\n",
    "df_comp_princ_media_transcriptos.shape"
   ]
  },
  {
   "cell_type": "code",
   "execution_count": null,
   "metadata": {},
   "outputs": [],
   "source": []
  },
  {
   "cell_type": "code",
   "execution_count": null,
   "metadata": {},
   "outputs": [],
   "source": []
  },
  {
   "cell_type": "code",
   "execution_count": null,
   "metadata": {},
   "outputs": [],
   "source": []
  },
  {
   "cell_type": "code",
   "execution_count": null,
   "metadata": {},
   "outputs": [],
   "source": []
  },
  {
   "cell_type": "code",
   "execution_count": null,
   "metadata": {},
   "outputs": [],
   "source": []
  },
  {
   "cell_type": "code",
   "execution_count": null,
   "metadata": {},
   "outputs": [],
   "source": []
  },
  {
   "cell_type": "code",
   "execution_count": null,
   "metadata": {},
   "outputs": [],
   "source": []
  },
  {
   "cell_type": "code",
   "execution_count": 5,
   "metadata": {},
   "outputs": [
    {
     "name": "stdout",
     "output_type": "stream",
     "text": [
      "25.930262574933653\n"
     ]
    }
   ],
   "source": [
    "print(pca_media_transcriptos.explained_variance_ratio_[1]*100)"
   ]
  },
  {
   "cell_type": "code",
   "execution_count": 6,
   "metadata": {},
   "outputs": [
    {
     "name": "stdout",
     "output_type": "stream",
     "text": [
      "49.77254639037862\n"
     ]
    }
   ],
   "source": [
    "print(pca_media_transcriptos.explained_variance_ratio_[0]*100)"
   ]
  },
  {
   "cell_type": "code",
   "execution_count": null,
   "metadata": {},
   "outputs": [],
   "source": []
  },
  {
   "cell_type": "code",
   "execution_count": null,
   "metadata": {},
   "outputs": [],
   "source": []
  },
  {
   "cell_type": "code",
   "execution_count": null,
   "metadata": {},
   "outputs": [],
   "source": []
  },
  {
   "cell_type": "code",
   "execution_count": null,
   "metadata": {},
   "outputs": [],
   "source": []
  },
  {
   "cell_type": "code",
   "execution_count": 6,
   "metadata": {},
   "outputs": [
    {
     "data": {
      "text/plain": [
       "<matplotlib.legend.Legend at 0x7f55956d9b00>"
      ]
     },
     "execution_count": 6,
     "metadata": {},
     "output_type": "execute_result"
    },
    {
     "data": {
      "image/png": "[encoded data removed]",
      "text/plain": [
       "<Figure size 432x288 with 1 Axes>"
      ]
     },
     "metadata": {
      "needs_background": "light"
     },
     "output_type": "display_data"
    }
   ],
   "source": [
    "#ahora hay que graficarlo\n",
    "\n",
    "#comp1  (49.77%) , comp2  (25.93%)\n",
    "import seaborn as sns\n",
    "ax = sns.scatterplot(data = df_comp_princ_media_transcriptos , x = 'principal component 1' , y = 'principal component 2' , \n",
    "hue = 'Genotipo')\n",
    "ax.legend(fontsize='8')"
   ]
  },
  {
   "cell_type": "code",
   "execution_count": null,
   "metadata": {},
   "outputs": [],
   "source": []
  },
  {
   "cell_type": "code",
   "execution_count": 17,
   "metadata": {},
   "outputs": [
    {
     "name": "stdout",
     "output_type": "stream",
     "text": [
      "comp1: 47.00814147640752 comp2: 24.09959923742621\n"
     ]
    },
    {
     "data": {
      "image/png": "[encoded data removed]",
      "text/plain": [
       "<Figure size 432x288 with 1 Axes>"
      ]
     },
     "metadata": {
      "needs_background": "light"
     },
     "output_type": "display_data"
    }
   ],
   "source": [
    "#quiero hacer lo mismo, pero con datos normalizados\n",
    "\n",
    "#from matplotlib import markers as mark\n",
    "\n",
    "from sklearn import preprocessing\n",
    "\n",
    "media_transcriptos_norm = preprocessing.normalize(media_transcriptos, axis=0)\n",
    "\n",
    "pca_media_transcriptos_norm = PCA(n_components = 2)#creo el objeto con el num de compoenentes deseados\n",
    "\n",
    "fitting_media_transcriptos_norm = pca_media_transcriptos_norm.fit(media_transcriptos_norm.T)#fiteo la traspuesta del dataset, para pdoer pintar por genotipo\n",
    "\n",
    "comp_princ_media_transcriptos_norm = fitting_media_transcriptos_norm.transform(media_transcriptos_norm.T)#transformo el dataset.T a la reduccion de dimencional\n",
    "\n",
    "df_comp_princ_media_transcriptos_norm = pd.DataFrame(data = comp_princ_media_transcriptos_norm , columns = ['principal component 1', 'principal component 2'])\n",
    "\n",
    "df_comp_princ_media_transcriptos_norm['Genotipo'] = genotipo\n",
    "\n",
    "print(f'comp1: {pca_media_transcriptos_norm.explained_variance_ratio_[0]*100} comp2: {pca_media_transcriptos_norm.explained_variance_ratio_[1]*100}')\n",
    "\n",
    "#df_comp_princ_media_transcriptos_norm.shape\n",
    "\n",
    "ax = sns.scatterplot(data = df_comp_princ_media_transcriptos_norm , x = 'principal component 1' , y = 'principal component 2' , \n",
    "hue = ['b' , 'b' , 'g' , 'g' , 'r' , 'r' , 'g' , 'b' , 'r'] , style = 'Genotipo' , markers = [\"s\" , \"o\" , \"s\" , \"o\" ,\"s\" , \"o\" , \"^\" , \"^\" , \"^\"])\n",
    "\n",
    "ax.legend(fontsize='8')\n",
    "\n",
    "#ax.figsize(10)\n",
    "\n",
    "#ax.xlabel('Componente principal 1 (47%)')\n",
    "\n",
    "#ax.ylabel('Componente principal 2 (24.09%)')\n",
    "\n",
    "ax.set(title='Analisis de componentes principales sobre media transcriptos',xlabel = 'Componente principal 1 (47%)' , ylabel = 'Componente principal 2 (24.09%)')\n",
    "\n",
    "plt.savefig('/home/mariano/Documents/tomate/A2B2C2023/imagenes_poster/AnalisisComponentesPrincipalesMediaTranscriptos.png')"
   ]
  },
  {
   "cell_type": "code",
   "execution_count": null,
   "metadata": {},
   "outputs": [],
   "source": []
  },
  {
   "cell_type": "code",
   "execution_count": null,
   "metadata": {},
   "outputs": [],
   "source": []
  },
  {
   "cell_type": "code",
   "execution_count": null,
   "metadata": {},
   "outputs": [],
   "source": []
  },
  {
   "cell_type": "code",
   "execution_count": null,
   "metadata": {},
   "outputs": [],
   "source": []
  },
  {
   "cell_type": "code",
   "execution_count": 23,
   "metadata": {},
   "outputs": [],
   "source": [
    "#vamos a hacerl o mismo para all_transcripts"
   ]
  },
  {
   "cell_type": "code",
   "execution_count": null,
   "metadata": {},
   "outputs": [],
   "source": []
  },
  {
   "cell_type": "code",
   "execution_count": 24,
   "metadata": {},
   "outputs": [
    {
     "data": {
      "text/plain": [
       "Index(['Locus', 'Cervil_A', 'Cervil_B', 'Levovil_A', 'Levovil_B', 'Ferum_A',\n",
       "       'Ferum_B', 'LA1420_A', 'LA1420_B', 'Plovdiv_A', 'Plovdiv_B', 'LA0147_A',\n",
       "       'LA0147_B', 'Stupicke_A', 'Stupicke_B', 'Criollo_A', 'Criollo_B',\n",
       "       'FerumXLA1420_A', 'FerumXLA1420_B', 'CervilXLevovil_A',\n",
       "       'CervilXLevovil_B', 'StupickeXCriollo_A', 'StupickeXCriollo_B',\n",
       "       'LA0147XPlovdiv_A', 'LA0147XPlovdiv_B'],\n",
       "      dtype='object')"
      ]
     },
     "execution_count": 24,
     "metadata": {},
     "output_type": "execute_result"
    }
   ],
   "source": [
    "all_transcripts.columns"
   ]
  },
  {
   "cell_type": "code",
   "execution_count": 10,
   "metadata": {},
   "outputs": [],
   "source": [
    "all_transcripts = all_transcripts.loc[: , ['Cervil_A', 'Cervil_B', 'Levovil_A', 'Levovil_B', 'Ferum_A',\n",
    "       'Ferum_B', 'LA1420_A', 'LA1420_B', 'Plovdiv_A', 'Plovdiv_B', 'LA0147_A',\n",
    "       'LA0147_B', 'FerumXLA1420_A', 'FerumXLA1420_B', 'CervilXLevovil_A',\n",
    "       'CervilXLevovil_B', 'LA0147XPlovdiv_A', 'LA0147XPlovdiv_B']]"
   ]
  },
  {
   "cell_type": "code",
   "execution_count": null,
   "metadata": {},
   "outputs": [],
   "source": []
  },
  {
   "cell_type": "code",
   "execution_count": null,
   "metadata": {},
   "outputs": [],
   "source": []
  },
  {
   "cell_type": "code",
   "execution_count": null,
   "metadata": {},
   "outputs": [],
   "source": []
  },
  {
   "cell_type": "code",
   "execution_count": 26,
   "metadata": {},
   "outputs": [],
   "source": [
    "#all_transcripts = all_transcripts.iloc[: , 1:]"
   ]
  },
  {
   "cell_type": "code",
   "execution_count": 11,
   "metadata": {},
   "outputs": [],
   "source": [
    "genotipo_all = all_transcripts.T.index"
   ]
  },
  {
   "cell_type": "code",
   "execution_count": null,
   "metadata": {},
   "outputs": [],
   "source": []
  },
  {
   "cell_type": "code",
   "execution_count": null,
   "metadata": {},
   "outputs": [],
   "source": []
  },
  {
   "cell_type": "code",
   "execution_count": 12,
   "metadata": {},
   "outputs": [
    {
     "data": {
      "text/plain": [
       "(18, 3)"
      ]
     },
     "execution_count": 12,
     "metadata": {},
     "output_type": "execute_result"
    }
   ],
   "source": [
    "pca_all_transcripts = PCA(n_components = 2)#creo el objeto con el num de compoenentes deseados\n",
    "\n",
    "fitting_all_transcripts = pca_all_transcripts.fit(all_transcripts.T)#fiteo la traspuesta del dataset, para pdoer pintar por genotipo\n",
    "\n",
    "comp_princ_all_transcripts = fitting_all_transcripts.transform(all_transcripts.T)#transformo el dataset.T a la reduccion de dimencional\n",
    "\n",
    "df_comp_princ_all_transcripts = pd.DataFrame(data = comp_princ_all_transcripts , columns = ['principal component 1', 'principal component 2'])\n",
    "\n",
    "df_comp_princ_all_transcripts['Genotipo'] = genotipo_all\n",
    "\n",
    "df_comp_princ_all_transcripts.shape"
   ]
  },
  {
   "cell_type": "code",
   "execution_count": null,
   "metadata": {},
   "outputs": [],
   "source": []
  },
  {
   "cell_type": "code",
   "execution_count": 13,
   "metadata": {},
   "outputs": [
    {
     "data": {
      "text/plain": [
       "<matplotlib.legend.Legend at 0x7f84147d00b8>"
      ]
     },
     "execution_count": 13,
     "metadata": {},
     "output_type": "execute_result"
    },
    {
     "data": {
      "image/png": "[encoded data removed]",
      "text/plain": [
       "<Figure size 432x288 with 1 Axes>"
      ]
     },
     "metadata": {
      "needs_background": "light"
     },
     "output_type": "display_data"
    }
   ],
   "source": [
    "#grafico\n",
    "ax = sns.scatterplot(data = df_comp_princ_all_transcripts , x = 'principal component 1' , y = 'principal component 2' , \n",
    "hue = 'Genotipo')\n",
    "sns.color_palette(\"icefire\")\n",
    "ax.legend(fontsize='6')"
   ]
  },
  {
   "cell_type": "code",
   "execution_count": null,
   "metadata": {},
   "outputs": [],
   "source": []
  },
  {
   "cell_type": "code",
   "execution_count": 30,
   "metadata": {},
   "outputs": [
    {
     "data": {
      "text/html": [
       "<div>\n",
       "<style scoped>\n",
       "    .dataframe tbody tr th:only-of-type {\n",
       "        vertical-align: middle;\n",
       "    }\n",
       "\n",
       "    .dataframe tbody tr th {\n",
       "        vertical-align: top;\n",
       "    }\n",
       "\n",
       "    .dataframe thead th {\n",
       "        text-align: right;\n",
       "    }\n",
       "</style>\n",
       "<table border=\"1\" class=\"dataframe\">\n",
       "  <thead>\n",
       "    <tr style=\"text-align: right;\">\n",
       "      <th></th>\n",
       "      <th>principal component 1</th>\n",
       "      <th>principal component 2</th>\n",
       "      <th>Genotipo</th>\n",
       "    </tr>\n",
       "  </thead>\n",
       "  <tbody>\n",
       "    <tr>\n",
       "      <th>0</th>\n",
       "      <td>131.747592</td>\n",
       "      <td>3107.602933</td>\n",
       "      <td>Cervil_A</td>\n",
       "    </tr>\n",
       "    <tr>\n",
       "      <th>1</th>\n",
       "      <td>-15247.608068</td>\n",
       "      <td>1853.034665</td>\n",
       "      <td>Cervil_B</td>\n",
       "    </tr>\n",
       "    <tr>\n",
       "      <th>2</th>\n",
       "      <td>-18305.541720</td>\n",
       "      <td>-1139.886788</td>\n",
       "      <td>Levovil_A</td>\n",
       "    </tr>\n",
       "    <tr>\n",
       "      <th>3</th>\n",
       "      <td>-15116.933147</td>\n",
       "      <td>-1096.279626</td>\n",
       "      <td>Levovil_B</td>\n",
       "    </tr>\n",
       "    <tr>\n",
       "      <th>4</th>\n",
       "      <td>23674.579489</td>\n",
       "      <td>-12203.941543</td>\n",
       "      <td>Ferum_A</td>\n",
       "    </tr>\n",
       "    <tr>\n",
       "      <th>5</th>\n",
       "      <td>11179.385905</td>\n",
       "      <td>-12718.628531</td>\n",
       "      <td>Ferum_B</td>\n",
       "    </tr>\n",
       "    <tr>\n",
       "      <th>6</th>\n",
       "      <td>-9106.333794</td>\n",
       "      <td>-4416.800345</td>\n",
       "      <td>LA1420_A</td>\n",
       "    </tr>\n",
       "    <tr>\n",
       "      <th>7</th>\n",
       "      <td>-7337.138052</td>\n",
       "      <td>-7111.635511</td>\n",
       "      <td>LA1420_B</td>\n",
       "    </tr>\n",
       "    <tr>\n",
       "      <th>8</th>\n",
       "      <td>11897.450918</td>\n",
       "      <td>16024.027198</td>\n",
       "      <td>Plovdiv_A</td>\n",
       "    </tr>\n",
       "    <tr>\n",
       "      <th>9</th>\n",
       "      <td>12831.835819</td>\n",
       "      <td>14310.252913</td>\n",
       "      <td>Plovdiv_B</td>\n",
       "    </tr>\n",
       "    <tr>\n",
       "      <th>10</th>\n",
       "      <td>2028.171139</td>\n",
       "      <td>3352.456961</td>\n",
       "      <td>LA0147_A</td>\n",
       "    </tr>\n",
       "    <tr>\n",
       "      <th>11</th>\n",
       "      <td>-669.419217</td>\n",
       "      <td>3335.739555</td>\n",
       "      <td>LA0147_B</td>\n",
       "    </tr>\n",
       "    <tr>\n",
       "      <th>12</th>\n",
       "      <td>17780.653907</td>\n",
       "      <td>-7210.746489</td>\n",
       "      <td>FerumXLA1420_A</td>\n",
       "    </tr>\n",
       "    <tr>\n",
       "      <th>13</th>\n",
       "      <td>3262.652741</td>\n",
       "      <td>-8626.530178</td>\n",
       "      <td>FerumXLA1420_B</td>\n",
       "    </tr>\n",
       "    <tr>\n",
       "      <th>14</th>\n",
       "      <td>-8964.965704</td>\n",
       "      <td>-2243.351256</td>\n",
       "      <td>CervilXLevovil_A</td>\n",
       "    </tr>\n",
       "    <tr>\n",
       "      <th>15</th>\n",
       "      <td>-13768.926088</td>\n",
       "      <td>-2827.396306</td>\n",
       "      <td>CervilXLevovil_B</td>\n",
       "    </tr>\n",
       "    <tr>\n",
       "      <th>16</th>\n",
       "      <td>-736.313473</td>\n",
       "      <td>9204.328153</td>\n",
       "      <td>LA0147XPlovdiv_A</td>\n",
       "    </tr>\n",
       "    <tr>\n",
       "      <th>17</th>\n",
       "      <td>6466.701753</td>\n",
       "      <td>8407.754195</td>\n",
       "      <td>LA0147XPlovdiv_B</td>\n",
       "    </tr>\n",
       "  </tbody>\n",
       "</table>\n",
       "</div>"
      ],
      "text/plain": [
       "    principal component 1  principal component 2          Genotipo\n",
       "0              131.747592            3107.602933          Cervil_A\n",
       "1           -15247.608068            1853.034665          Cervil_B\n",
       "2           -18305.541720           -1139.886788         Levovil_A\n",
       "3           -15116.933147           -1096.279626         Levovil_B\n",
       "4            23674.579489          -12203.941543           Ferum_A\n",
       "5            11179.385905          -12718.628531           Ferum_B\n",
       "6            -9106.333794           -4416.800345          LA1420_A\n",
       "7            -7337.138052           -7111.635511          LA1420_B\n",
       "8            11897.450918           16024.027198         Plovdiv_A\n",
       "9            12831.835819           14310.252913         Plovdiv_B\n",
       "10            2028.171139            3352.456961          LA0147_A\n",
       "11            -669.419217            3335.739555          LA0147_B\n",
       "12           17780.653907           -7210.746489    FerumXLA1420_A\n",
       "13            3262.652741           -8626.530178    FerumXLA1420_B\n",
       "14           -8964.965704           -2243.351256  CervilXLevovil_A\n",
       "15          -13768.926088           -2827.396306  CervilXLevovil_B\n",
       "16            -736.313473            9204.328153  LA0147XPlovdiv_A\n",
       "17            6466.701753            8407.754195  LA0147XPlovdiv_B"
      ]
     },
     "execution_count": 30,
     "metadata": {},
     "output_type": "execute_result"
    }
   ],
   "source": [
    "df_comp_princ_all_transcripts"
   ]
  },
  {
   "cell_type": "code",
   "execution_count": null,
   "metadata": {},
   "outputs": [],
   "source": []
  },
  {
   "cell_type": "code",
   "execution_count": null,
   "metadata": {},
   "outputs": [],
   "source": []
  },
  {
   "cell_type": "code",
   "execution_count": 29,
   "metadata": {},
   "outputs": [
    {
     "data": {
      "text/plain": [
       "Index(['spotID', 'CervilCEMean', 'CervilORMean', 'LevovilxCervilCEMean',\n",
       "       'LevovilxCervilORMean', 'LevovilCEMean', 'LevovilORMean',\n",
       "       'CriolloCEMean', 'CriolloORMean', 'SPRxCriolloCEMean',\n",
       "       'SPRxCriolloORMean', 'SPRCEMean', 'SPRORMean', 'PlovdivCEMean',\n",
       "       'PlovdivORMean', 'LA0147xPlovdivCEMean', 'LA0147xPlovdivORMean',\n",
       "       'LA0147CEMean', 'LA0147ORMean', 'LA1420CEMean', 'LA1420ORMean',\n",
       "       'FerumxLA1420CEMean', 'FerumxLA1420ORMean', 'FerumCEMean',\n",
       "       'FerumORMean'],\n",
       "      dtype='object')"
      ]
     },
     "execution_count": 29,
     "metadata": {},
     "output_type": "execute_result"
    }
   ],
   "source": [
    "#ahora viene proteinas\n",
    "proteinas.columns"
   ]
  },
  {
   "cell_type": "code",
   "execution_count": 18,
   "metadata": {},
   "outputs": [],
   "source": [
    "p_CE = proteinas.loc[: , ['CervilCEMean','LevovilxCervilCEMean','LevovilCEMean','PlovdivCEMean',\n",
    "'LA0147xPlovdivCEMean','LA0147CEMean','LA1420CEMean','FerumxLA1420CEMean','FerumCEMean']]\n",
    "\n",
    "p_OR = proteinas.loc[: , ['CervilORMean','LevovilxCervilORMean','LevovilORMean','PlovdivORMean',\n",
    "'LA0147xPlovdivORMean','LA0147ORMean','LA1420ORMean','FerumxLA1420ORMean','FerumORMean']]"
   ]
  },
  {
   "cell_type": "code",
   "execution_count": 19,
   "metadata": {},
   "outputs": [],
   "source": [
    "genotipo_CE = p_CE.T.index\n",
    "\n",
    "genotipo_OR = p_OR.T.index"
   ]
  },
  {
   "cell_type": "code",
   "execution_count": null,
   "metadata": {},
   "outputs": [],
   "source": []
  },
  {
   "cell_type": "code",
   "execution_count": 16,
   "metadata": {},
   "outputs": [
    {
     "data": {
      "text/plain": [
       "(9, 3)"
      ]
     },
     "execution_count": 16,
     "metadata": {},
     "output_type": "execute_result"
    }
   ],
   "source": [
    "pca_p_CE = PCA(n_components = 2)#creo el objeto con el num de compoenentes deseados\n",
    "\n",
    "fitting_p_CE = pca_p_CE.fit(p_CE.T)#fiteo la traspuesta del dataset, para pdoer pintar por genotipo\n",
    "\n",
    "comp_princ_p_CE = fitting_p_CE.transform(p_CE.T)#transformo el dataset.T a la reduccion de dimencional\n",
    "\n",
    "df_comp_princ_p_CE = pd.DataFrame(data = comp_princ_p_CE , columns = ['principal component 1', 'principal component 2'])\n",
    "\n",
    "df_comp_princ_p_CE['Genotipo'] = genotipo_CE\n",
    "\n",
    "df_comp_princ_p_CE.shape"
   ]
  },
  {
   "cell_type": "code",
   "execution_count": null,
   "metadata": {},
   "outputs": [],
   "source": []
  },
  {
   "cell_type": "code",
   "execution_count": 17,
   "metadata": {},
   "outputs": [
    {
     "data": {
      "text/plain": [
       "(9, 3)"
      ]
     },
     "execution_count": 17,
     "metadata": {},
     "output_type": "execute_result"
    }
   ],
   "source": [
    "pca_p_OR = PCA(n_components = 2)#creo el objeto con el num de compoenentes deseados\n",
    "\n",
    "fitting_p_OR = pca_p_OR.fit(p_OR.T)#fiteo la traspuesta del dataset, para pdoer pintar por genotipo\n",
    "\n",
    "comp_princ_p_OR = fitting_p_OR.transform(p_OR.T)#transformo el dataset.T a la reduccion de dimencional\n",
    "\n",
    "df_comp_princ_p_OR = pd.DataFrame(data = comp_princ_p_OR , columns = ['principal component 1', 'principal component 2'])\n",
    "\n",
    "df_comp_princ_p_OR['Genotipo'] = genotipo_OR\n",
    "\n",
    "df_comp_princ_p_OR.shape"
   ]
  },
  {
   "cell_type": "code",
   "execution_count": null,
   "metadata": {},
   "outputs": [],
   "source": []
  },
  {
   "cell_type": "code",
   "execution_count": 18,
   "metadata": {},
   "outputs": [
    {
     "data": {
      "text/plain": [
       "<matplotlib.legend.Legend at 0x7f840f2f6160>"
      ]
     },
     "execution_count": 18,
     "metadata": {},
     "output_type": "execute_result"
    },
    {
     "data": {
      "image/png": "[encoded data removed]",
      "text/plain": [
       "<Figure size 432x288 with 1 Axes>"
      ]
     },
     "metadata": {
      "needs_background": "light"
     },
     "output_type": "display_data"
    }
   ],
   "source": [
    "#grafico CE\n",
    "ax = sns.scatterplot(data = df_comp_princ_p_CE , x = 'principal component 1' , y = 'principal component 2' , \n",
    "hue = 'Genotipo')\n",
    "sns.color_palette(\"icefire\")\n",
    "ax.legend(fontsize='9')"
   ]
  },
  {
   "cell_type": "code",
   "execution_count": 23,
   "metadata": {},
   "outputs": [
    {
     "name": "stdout",
     "output_type": "stream",
     "text": [
      "comp1: 61.65843028124202  comp2: 14.3624404665949\n"
     ]
    },
    {
     "data": {
      "image/png": "[encoded data removed]",
      "text/plain": [
       "<Figure size 432x288 with 1 Axes>"
      ]
     },
     "metadata": {
      "needs_background": "light"
     },
     "output_type": "display_data"
    }
   ],
   "source": [
    "#P_CE normalizado\n",
    "\n",
    "p_CE_norm = preprocessing.normalize(p_CE, axis=0)\n",
    "\n",
    "pca_p_CE_norm = PCA(n_components = 2)#creo el objeto con el num de compoenentes deseados\n",
    "\n",
    "fitting_p_CE_norm = pca_p_CE_norm.fit(p_CE_norm.T)#fiteo la traspuesta del dataset, para pdoer pintar por genotipo\n",
    "\n",
    "comp_princ_pca_p_CE_norm = fitting_p_CE_norm.transform(p_CE_norm.T)#transformo el dataset.T a la reduccion de dimencional\n",
    "\n",
    "df_comp_princ_pca_p_CE_norm = pd.DataFrame(data = comp_princ_pca_p_CE_norm , columns = ['principal component 1', 'principal component 2'])\n",
    "\n",
    "df_comp_princ_pca_p_CE_norm['Genotipo'] = genotipo_CE\n",
    "\n",
    "print(f'comp1: {pca_p_CE_norm.explained_variance_ratio_[0]*100}  comp2: {pca_p_CE_norm.explained_variance_ratio_[1]*100}')\n",
    "\n",
    "ax = sns.scatterplot(data = df_comp_princ_pca_p_CE_norm , x = 'principal component 1' , y = 'principal component 2' , \n",
    "hue = ['b' , 'b' , 'b' ,'g' , 'g' , 'g' ,'r' , 'r' , 'r'] , style = 'Genotipo' , markers = [\"s\" , \"^\" , \"o\" , \"s\" , \"^\" , \"o\" ,\"s\" , \"^\" , \"o\"])\n",
    "\n",
    "ax.legend(fontsize='8')\n",
    "\n",
    "ax.set(title='Analisis de componentes principales a proteinas en Cell Expantion',xlabel = 'Componente principal 1 (61.65%)' , ylabel = 'Componente principal 2 (14.36%)')\n",
    "\n",
    "plt.savefig('/home/mariano/Documents/tomate/A2B2C2023/imagenes_poster/AnalisisComponentesPrincipalesProteinasCE.png')"
   ]
  },
  {
   "cell_type": "code",
   "execution_count": 24,
   "metadata": {},
   "outputs": [
    {
     "data": {
      "text/plain": [
       "<matplotlib.legend.Legend at 0x7f840e70cd68>"
      ]
     },
     "execution_count": 24,
     "metadata": {},
     "output_type": "execute_result"
    },
    {
     "data": {
      "image/png": "[encoded data removed]",
      "text/plain": [
       "<Figure size 432x288 with 1 Axes>"
      ]
     },
     "metadata": {
      "needs_background": "light"
     },
     "output_type": "display_data"
    }
   ],
   "source": [
    "#grafico OR\n",
    "ax = sns.scatterplot(data = df_comp_princ_p_OR , x = 'principal component 1' , y = 'principal component 2' , \n",
    "hue = 'Genotipo')\n",
    "sns.color_palette(\"icefire\")\n",
    "ax.legend(fontsize='7')"
   ]
  },
  {
   "cell_type": "code",
   "execution_count": 26,
   "metadata": {},
   "outputs": [
    {
     "name": "stdout",
     "output_type": "stream",
     "text": [
      "comp1: 29.289972007050746  comp2: 25.11954600679283\n"
     ]
    },
    {
     "data": {
      "image/png": "[encoded data removed]",
      "text/plain": [
       "<Figure size 432x288 with 1 Axes>"
      ]
     },
     "metadata": {
      "needs_background": "light"
     },
     "output_type": "display_data"
    }
   ],
   "source": [
    "#P_OR normalizado\n",
    "\n",
    "p_OR_norm = preprocessing.normalize(p_OR, axis=0)\n",
    "\n",
    "pca_p_OR_norm = PCA(n_components = 2)#creo el objeto con el num de compoenentes deseados\n",
    "\n",
    "fitting_p_OR_norm = pca_p_OR_norm.fit(p_OR_norm.T)#fiteo la traspuesta del dataset, para pdoer pintar por genotipo\n",
    "\n",
    "comp_princ_pca_p_OR_norm = fitting_p_OR_norm.transform(p_OR_norm.T)#transformo el dataset.T a la reduccion de dimencional\n",
    "\n",
    "df_comp_princ_pca_p_OR_norm = pd.DataFrame(data = comp_princ_pca_p_OR_norm , columns = ['principal component 1', 'principal component 2'])\n",
    "\n",
    "df_comp_princ_pca_p_OR_norm['Genotipo'] = genotipo_OR\n",
    "\n",
    "print(f'comp1: {pca_p_OR_norm.explained_variance_ratio_[0]*100}  comp2: {pca_p_OR_norm.explained_variance_ratio_[1]*100}')\n",
    "\n",
    "ax = sns.scatterplot(data = df_comp_princ_pca_p_OR_norm , x = 'principal component 1' , y = 'principal component 2' , \n",
    "hue = ['b' , 'b' , 'b' ,'g' , 'g' , 'g' ,'r' , 'r' , 'r'] , style = 'Genotipo' , markers = [\"s\" , \"^\" , \"o\" , \"s\" , \"^\" , \"o\" ,\"s\" , \"^\" , \"o\"])\n",
    "\n",
    "ax.legend(fontsize='8')\n",
    "\n",
    "ax.set(title='Analisis de componentes principales a proteinas en orange red', xlabel = 'Componente principal 1 (29.29%)' , ylabel = 'Componente principal 2 (25.12%)')\n",
    "\n",
    "plt.savefig('/home/mariano/Documents/tomate/A2B2C2023/imagenes_poster/AnalisisComponentesPrincipalesProteinasOR.png')"
   ]
  },
  {
   "cell_type": "code",
   "execution_count": null,
   "metadata": {},
   "outputs": [],
   "source": []
  },
  {
   "cell_type": "code",
   "execution_count": 38,
   "metadata": {},
   "outputs": [],
   "source": [
    "#seguimos con act_enz"
   ]
  },
  {
   "cell_type": "code",
   "execution_count": 39,
   "metadata": {},
   "outputs": [
    {
     "data": {
      "text/plain": [
       "Index(['enzima', 'CervilMeanCE', 'CervilMeanOR', 'LevovilxCervilMeanCE',\n",
       "       'LevovilxCervilMeanOR', 'LevovilMeanCE', 'LevovilMeanOR',\n",
       "       'CriolloMeanCE', 'CriolloMeanOR', 'SPRxCriolloMeanCE',\n",
       "       'SPRxCriolloMeanOR', 'SPRMeanCE', 'SPRMeanOR', 'PlovdivMeanCE',\n",
       "       'PlovdivMeanOR', 'LA0147xPlovdivMeanCE', 'LA0147xPlovdivMeanOR',\n",
       "       'LA0147MeanCE', 'LA0147MeanOR', 'LA1420MeanCE', 'LA1420MeanOR',\n",
       "       'FerumxLA1420MeanCE', 'FerumxLA1420MeanOR', 'FerumMeanCE',\n",
       "       'FerumMeanOR'],\n",
       "      dtype='object')"
      ]
     },
     "execution_count": 39,
     "metadata": {},
     "output_type": "execute_result"
    }
   ],
   "source": [
    "act_enz.columns"
   ]
  },
  {
   "cell_type": "code",
   "execution_count": 27,
   "metadata": {},
   "outputs": [],
   "source": [
    "AE_CE = act_enz.loc[: , ['CervilMeanCE', 'LevovilxCervilMeanCE','LevovilMeanCE','PlovdivMeanCE',\n",
    "'LA0147xPlovdivMeanCE','LA0147MeanCE','LA1420MeanCE','FerumxLA1420MeanCE','FerumMeanCE']]\n",
    "\n",
    "AE_OR = act_enz.loc[: , ['CervilMeanOR', 'LevovilxCervilMeanOR','LevovilMeanOR','PlovdivMeanOR',\n",
    "'LA0147xPlovdivMeanOR','LA0147MeanOR','LA1420MeanOR','FerumxLA1420MeanOR','FerumMeanOR']]"
   ]
  },
  {
   "cell_type": "code",
   "execution_count": 28,
   "metadata": {},
   "outputs": [],
   "source": [
    "genotipo_AE_CE = AE_CE.T.index\n",
    "\n",
    "genotipo_AE_OR = AE_OR.T.index"
   ]
  },
  {
   "cell_type": "code",
   "execution_count": null,
   "metadata": {},
   "outputs": [],
   "source": []
  },
  {
   "cell_type": "code",
   "execution_count": 45,
   "metadata": {},
   "outputs": [
    {
     "data": {
      "text/plain": [
       "(9, 3)"
      ]
     },
     "execution_count": 45,
     "metadata": {},
     "output_type": "execute_result"
    }
   ],
   "source": [
    "pca_AE_CE = PCA(n_components = 2)#creo el objeto con el num de compoenentes deseados\n",
    "\n",
    "fitting_AE_CE = pca_AE_CE.fit(AE_CE.T)#fiteo la traspuesta del dataset, para pdoer pintar por genotipo\n",
    "\n",
    "comp_princ_AE_CE = fitting_AE_CE.transform(AE_CE.T)#transformo el dataset.T a la reduccion de dimencional\n",
    "\n",
    "df_comp_princ_AE_CE = pd.DataFrame(data = comp_princ_AE_CE , columns = ['principal component 1', 'principal component 2'])\n",
    "\n",
    "df_comp_princ_AE_CE['Genotipo'] = genotipo_AE_CE\n",
    "\n",
    "df_comp_princ_AE_CE.shape"
   ]
  },
  {
   "cell_type": "code",
   "execution_count": null,
   "metadata": {},
   "outputs": [],
   "source": []
  },
  {
   "cell_type": "code",
   "execution_count": 46,
   "metadata": {},
   "outputs": [
    {
     "data": {
      "text/plain": [
       "(9, 3)"
      ]
     },
     "execution_count": 46,
     "metadata": {},
     "output_type": "execute_result"
    }
   ],
   "source": [
    "pca_AE_OR = PCA(n_components = 2)#creo el objeto con el num de compoenentes deseados\n",
    "\n",
    "fitting_AE_OR = pca_AE_OR.fit(AE_OR.T)#fiteo la traspuesta del dataset, para pdoer pintar por genotipo\n",
    "\n",
    "comp_princ_AE_OR = fitting_AE_OR.transform(AE_OR.T)#transformo el dataset.T a la reduccion de dimencional\n",
    "\n",
    "df_comp_princ_AE_OR = pd.DataFrame(data = comp_princ_AE_OR , columns = ['principal component 1', 'principal component 2'])\n",
    "\n",
    "df_comp_princ_AE_OR['Genotipo'] = genotipo_AE_OR\n",
    "\n",
    "df_comp_princ_AE_OR.shape"
   ]
  },
  {
   "cell_type": "code",
   "execution_count": null,
   "metadata": {},
   "outputs": [],
   "source": []
  },
  {
   "cell_type": "code",
   "execution_count": 47,
   "metadata": {},
   "outputs": [
    {
     "data": {
      "text/plain": [
       "<matplotlib.legend.Legend at 0x7f98ecfbf070>"
      ]
     },
     "execution_count": 47,
     "metadata": {},
     "output_type": "execute_result"
    },
    {
     "data": {
      "image/png": "[encoded data removed]",
      "text/plain": [
       "<Figure size 640x480 with 1 Axes>"
      ]
     },
     "metadata": {},
     "output_type": "display_data"
    }
   ],
   "source": [
    "#a graficar CE\n",
    "\n",
    "ax = sns.scatterplot(data = df_comp_princ_AE_CE , x = 'principal component 1' , y = 'principal component 2' , \n",
    "hue = 'Genotipo')\n",
    "sns.color_palette(\"icefire\")\n",
    "ax.legend(fontsize='8')"
   ]
  },
  {
   "cell_type": "code",
   "execution_count": 42,
   "metadata": {},
   "outputs": [
    {
     "name": "stdout",
     "output_type": "stream",
     "text": [
      "Comp1: 74.61861844449554 Comp2: 15.720435109575389\n"
     ]
    },
    {
     "data": {
      "image/png": "[encoded data removed]",
      "text/plain": [
       "<Figure size 432x288 with 1 Axes>"
      ]
     },
     "metadata": {
      "needs_background": "light"
     },
     "output_type": "display_data"
    }
   ],
   "source": [
    "#normalizado AE_CE\n",
    "\n",
    "AE_CE_norm = preprocessing.normalize(AE_CE, axis=0)\n",
    "\n",
    "pca_AE_CE_norm = PCA(n_components = 2)#creo el objeto con el num de compoenentes deseados\n",
    "\n",
    "fitting_AE_CE_norm = pca_AE_CE_norm.fit(AE_CE_norm.T)#fiteo la traspuesta del dataset, para pdoer pintar por genotipo\n",
    "\n",
    "comp_princ_AE_CE_norm = fitting_AE_CE_norm.transform(AE_CE_norm.T)#transformo el dataset.T a la reduccion de dimencional\n",
    "\n",
    "df_comp_princ_AE_CE_norm = pd.DataFrame(data = comp_princ_AE_CE_norm , columns = ['principal component 1', 'principal component 2'])\n",
    "\n",
    "df_comp_princ_AE_CE_norm['Genotipo'] = genotipo_AE_CE\n",
    "\n",
    "print(f'Comp1: {pca_AE_CE_norm.explained_variance_ratio_[0]*100} Comp2: {pca_AE_CE_norm.explained_variance_ratio_[1]*100}')\n",
    "\n",
    "ax = sns.scatterplot(data = df_comp_princ_AE_CE_norm , x = 'principal component 1' , y = 'principal component 2' , \n",
    "hue = ['b' , 'b' , 'b' ,'g' , 'g' , 'g' ,'r' , 'r' , 'r'] , style = 'Genotipo' , markers = [\"s\" , \"^\" , \"o\" , \"s\" , \"^\" , \"o\" ,\"s\" , \"^\" , \"o\"])\n",
    "\n",
    "ax.legend(fontsize='7.8')\n",
    "\n",
    "ax.set(title='Analisis de componentes principales a Actividades Enzimaticas en CE', xlabel ='Componente principal 1 (74.62%)' , ylabel='Componente principal 2 (15.72%)')\n",
    "\n",
    "plt.savefig('/home/mariano/Documents/tomate/A2B2C2023/imagenes_poster/AnalisisComponentesPrincipalesActividadesEnzimaticasCE.png')"
   ]
  },
  {
   "cell_type": "code",
   "execution_count": 48,
   "metadata": {},
   "outputs": [
    {
     "data": {
      "text/plain": [
       "<matplotlib.legend.Legend at 0x7f98eceed490>"
      ]
     },
     "execution_count": 48,
     "metadata": {},
     "output_type": "execute_result"
    },
    {
     "data": {
      "image/png": "[encoded data removed]",
      "text/plain": [
       "<Figure size 640x480 with 1 Axes>"
      ]
     },
     "metadata": {},
     "output_type": "display_data"
    }
   ],
   "source": [
    "#a graficar OR\n",
    "\n",
    "ax = sns.scatterplot(data = df_comp_princ_AE_OR , x = 'principal component 1' , y = 'principal component 2' , \n",
    "hue = 'Genotipo')\n",
    "sns.color_palette(\"icefire\")\n",
    "ax.legend(fontsize='6')"
   ]
  },
  {
   "cell_type": "code",
   "execution_count": 41,
   "metadata": {},
   "outputs": [
    {
     "name": "stdout",
     "output_type": "stream",
     "text": [
      "comp1: 59.91199672704764 Comp2: 23.432033852550617\n"
     ]
    },
    {
     "data": {
      "image/png": "[encoded data removed]",
      "text/plain": [
       "<Figure size 432x288 with 1 Axes>"
      ]
     },
     "metadata": {
      "needs_background": "light"
     },
     "output_type": "display_data"
    }
   ],
   "source": [
    "#normalizado AE_OR\n",
    "\n",
    "AE_OR_norm = preprocessing.normalize(AE_OR, axis=0)\n",
    "\n",
    "pca_AE_OR_norm = PCA(n_components = 2)#creo el objeto con el num de compoenentes deseados\n",
    "\n",
    "fitting_AE_OR_norm = pca_AE_OR_norm.fit(AE_OR_norm.T)#fiteo la traspuesta del dataset, para pdoer pintar por genotipo\n",
    "\n",
    "comp_princ_AE_OR_norm = fitting_AE_OR_norm.transform(AE_OR_norm.T)#transformo el dataset.T a la reduccion de dimencional\n",
    "\n",
    "df_comp_princ_AE_OR_norm = pd.DataFrame(data = comp_princ_AE_OR_norm , columns = ['principal component 1', 'principal component 2'])\n",
    "\n",
    "df_comp_princ_AE_OR_norm['Genotipo'] = genotipo_AE_OR\n",
    "\n",
    "print(f'comp1: {pca_AE_OR_norm.explained_variance_ratio_[0]*100} Comp2: {100*pca_AE_OR_norm.explained_variance_ratio_[1]}')\n",
    "\n",
    "ax = sns.scatterplot(data = df_comp_princ_AE_OR_norm , x = 'principal component 1' , y = 'principal component 2' , \n",
    "hue = ['b' , 'b' , 'b' ,'g' , 'g' , 'g' ,'r' , 'r' , 'r'] , style = 'Genotipo' , markers = [\"s\" , \"^\" , \"o\" , \"s\" , \"^\" , \"o\" ,\"s\" , \"^\" , \"o\"])\n",
    "\n",
    "ax.legend(fontsize='8')\n",
    "\n",
    "ax.set(title='Analisis de componentes principales a Actividades Enzimaticas en OR', xlabel='Componente prinicipal 1 (59.91%)' , ylabel='Compoente principal 2 (23.43%)')\n",
    "\n",
    "plt.savefig('/home/mariano/Documents/tomate/A2B2C2023/imagenes_poster/AnalisisComponentesPrincipalesActividadesEnzimaticasOR.png')"
   ]
  },
  {
   "cell_type": "code",
   "execution_count": null,
   "metadata": {},
   "outputs": [],
   "source": []
  },
  {
   "cell_type": "code",
   "execution_count": 46,
   "metadata": {},
   "outputs": [],
   "source": [
    "#ahora queda la de metabolitos"
   ]
  },
  {
   "cell_type": "code",
   "execution_count": 60,
   "metadata": {},
   "outputs": [
    {
     "data": {
      "text/plain": [
       "Index(['metabolito', 'tipo', 'CervilMeanCE', 'CervilMeanOR',\n",
       "       'LevovilxCervilMeanCE', 'LevovilxCervilMeanOR', 'LevovilMeanCE',\n",
       "       'LevovilMeanOR', 'CriolloMeanCE', 'CriolloMeanOR', 'SPRxCriolloMeanCE',\n",
       "       'SPRxCriolloMeanOR', 'SPRMeanCE', 'SPRMeanOR', 'PlovdivMeanCE',\n",
       "       'PlovdivMeanOR', 'LA0147xPlovdivMeanCE', 'LA0147xPlovdivMeanOR',\n",
       "       'LA0147MeanCE', 'LA0147MeanOR', 'LA1420MeanCE', 'LA1420MeanOR',\n",
       "       'FerumxLA1420MeanCE', 'FerumxLA1420MeanOR', 'FerumMeanCE',\n",
       "       'FerumMeanOR'],\n",
       "      dtype='object')"
      ]
     },
     "execution_count": 60,
     "metadata": {},
     "output_type": "execute_result"
    }
   ],
   "source": [
    "metab.columns"
   ]
  },
  {
   "cell_type": "code",
   "execution_count": null,
   "metadata": {},
   "outputs": [],
   "source": []
  },
  {
   "cell_type": "code",
   "execution_count": 43,
   "metadata": {},
   "outputs": [],
   "source": [
    "metab_CE = metab.loc[: , ['CervilMeanCE','LevovilxCervilMeanCE','LevovilMeanCE','PlovdivMeanCE',\n",
    "'LA0147xPlovdivMeanCE','LA0147MeanCE', 'LA1420MeanCE','FerumxLA1420MeanCE','FerumMeanCE']]\n",
    "\n",
    "metab_OR = metab.loc[: , ['CervilMeanOR','LevovilxCervilMeanOR','LevovilMeanOR','PlovdivMeanOR',\n",
    "'LA0147xPlovdivMeanOR','LA0147MeanOR', 'LA1420MeanOR','FerumxLA1420MeanOR','FerumMeanOR']]"
   ]
  },
  {
   "cell_type": "code",
   "execution_count": null,
   "metadata": {},
   "outputs": [],
   "source": []
  },
  {
   "cell_type": "code",
   "execution_count": 44,
   "metadata": {},
   "outputs": [],
   "source": [
    "genotipos_met_CE = metab_CE.T.index\n",
    "\n",
    "genotipos_met_OR = metab_OR.T.index"
   ]
  },
  {
   "cell_type": "code",
   "execution_count": null,
   "metadata": {},
   "outputs": [],
   "source": []
  },
  {
   "cell_type": "code",
   "execution_count": 56,
   "metadata": {},
   "outputs": [
    {
     "data": {
      "text/plain": [
       "(9, 3)"
      ]
     },
     "execution_count": 56,
     "metadata": {},
     "output_type": "execute_result"
    }
   ],
   "source": [
    "pca_met_CE = PCA(n_components = 2)#creo el objeto con el num de compoenentes deseados\n",
    "\n",
    "fitting_met_CE = pca_met_CE.fit(metab_CE.T)#fiteo la traspuesta del dataset, para pdoer pintar por genotipo\n",
    "\n",
    "comp_princ_met_CE = fitting_met_CE.transform(metab_CE.T)#transformo el dataset.T a la reduccion de dimencional\n",
    "\n",
    "df_comp_princ_met_CE = pd.DataFrame(data = comp_princ_met_CE , columns = ['principal component 1', 'principal component 2'])\n",
    "\n",
    "df_comp_princ_met_CE['Genotipo'] = genotipos_met_CE\n",
    "\n",
    "df_comp_princ_met_CE.shape"
   ]
  },
  {
   "cell_type": "code",
   "execution_count": null,
   "metadata": {},
   "outputs": [],
   "source": []
  },
  {
   "cell_type": "code",
   "execution_count": 57,
   "metadata": {},
   "outputs": [
    {
     "data": {
      "text/plain": [
       "(9, 3)"
      ]
     },
     "execution_count": 57,
     "metadata": {},
     "output_type": "execute_result"
    }
   ],
   "source": [
    "pca_met_OR = PCA(n_components = 2)#creo el objeto con el num de compoenentes deseados\n",
    "\n",
    "fitting_met_OR = pca_met_OR.fit(metab_OR.T)#fiteo la traspuesta del dataset, para pdoer pintar por genotipo\n",
    "\n",
    "comp_princ_met_OR = fitting_met_OR.transform(metab_OR.T)#transformo el dataset.T a la reduccion de dimencional\n",
    "\n",
    "df_comp_princ_met_OR = pd.DataFrame(data = comp_princ_met_OR , columns = ['principal component 1', 'principal component 2'])\n",
    "\n",
    "df_comp_princ_met_OR['Genotipo'] = genotipos_met_OR\n",
    "\n",
    "df_comp_princ_met_OR.shape"
   ]
  },
  {
   "cell_type": "code",
   "execution_count": null,
   "metadata": {},
   "outputs": [],
   "source": []
  },
  {
   "cell_type": "code",
   "execution_count": 58,
   "metadata": {},
   "outputs": [
    {
     "data": {
      "text/plain": [
       "<matplotlib.legend.Legend at 0x7f98eca7a7c0>"
      ]
     },
     "execution_count": 58,
     "metadata": {},
     "output_type": "execute_result"
    },
    {
     "data": {
      "image/png": "[encoded data removed]",
      "text/plain": [
       "<Figure size 640x480 with 1 Axes>"
      ]
     },
     "metadata": {},
     "output_type": "display_data"
    }
   ],
   "source": [
    "#a graficar CE\n",
    "\n",
    "ax = sns.scatterplot(data = df_comp_princ_met_CE , x = 'principal component 1' , y = 'principal component 2' , \n",
    "hue = 'Genotipo')\n",
    "sns.color_palette(\"icefire\")\n",
    "ax.legend(fontsize='8')"
   ]
  },
  {
   "cell_type": "code",
   "execution_count": 46,
   "metadata": {},
   "outputs": [
    {
     "name": "stdout",
     "output_type": "stream",
     "text": [
      "Comp1: 79.15184566380653 Comp2: 19.183747757912926\n"
     ]
    },
    {
     "data": {
      "image/png": "[encoded data removed]",
      "text/plain": [
       "<Figure size 432x288 with 1 Axes>"
      ]
     },
     "metadata": {
      "needs_background": "light"
     },
     "output_type": "display_data"
    }
   ],
   "source": [
    "###met_CE normalizado\n",
    "\n",
    "metab_CE_norm = preprocessing.normalize(metab_CE, axis=0)\n",
    "\n",
    "pca_metab_CE_norm = PCA(n_components = 2)#creo el objeto con el num de compoenentes deseados\n",
    "\n",
    "fitting_metab_CE_norm = pca_metab_CE_norm.fit(metab_CE_norm.T)#fiteo la traspuesta del dataset, para pdoer pintar por genotipo\n",
    "\n",
    "comp_princ_metab_CE_norm = fitting_metab_CE_norm.transform(metab_CE_norm.T)#transformo el dataset.T a la reduccion de dimencional\n",
    "\n",
    "df_comp_princ_metab_CE_norm = pd.DataFrame(data = comp_princ_metab_CE_norm , columns = ['principal component 1', 'principal component 2'])\n",
    "\n",
    "df_comp_princ_metab_CE_norm['Genotipo'] = genotipos_met_CE\n",
    "\n",
    "print(f'Comp1: {pca_metab_CE_norm.explained_variance_ratio_[0]*100} Comp2: {100*pca_metab_CE_norm.explained_variance_ratio_[1]}')\n",
    "\n",
    "ax = sns.scatterplot(data = df_comp_princ_metab_CE_norm , x = 'principal component 1' , y = 'principal component 2' , \n",
    "hue = ['b' , 'b' , 'b' ,'g' , 'g' , 'g' ,'r' , 'r' , 'r'] , style = 'Genotipo' , markers = [\"s\" , \"^\" , \"o\" , \"s\" , \"^\" , \"o\" ,\"s\" , \"^\" , \"o\"])\n",
    "\n",
    "ax.legend(fontsize='8')\n",
    "\n",
    "ax.set(title='Analisis de componentes principales sobre Metabolitos en Cell Expantion',xlabel='Componente principal 1 (79.15%)' ,ylabel='Compoente principal 2 (19.18%)')\n",
    "\n",
    "plt.savefig('/home/mariano/Documents/tomate/A2B2C2023/imagenes_poster/AnalisisComponentesPrincipalesMetabolitosCE.png')"
   ]
  },
  {
   "cell_type": "code",
   "execution_count": 65,
   "metadata": {},
   "outputs": [
    {
     "data": {
      "text/plain": [
       "<matplotlib.legend.Legend at 0x7f98efe5c2e0>"
      ]
     },
     "execution_count": 65,
     "metadata": {},
     "output_type": "execute_result"
    },
    {
     "data": {
      "image/png": "[encoded data removed]",
      "text/plain": [
       "<Figure size 640x480 with 1 Axes>"
      ]
     },
     "metadata": {},
     "output_type": "display_data"
    }
   ],
   "source": [
    "#a graficar OR\n",
    "\n",
    "ax = sns.scatterplot(data = df_comp_princ_met_OR , x = 'principal component 1' , y = 'principal component 2' , \n",
    "hue = 'Genotipo')\n",
    "sns.color_palette(\"icefire\")\n",
    "ax.legend(fontsize='8')"
   ]
  },
  {
   "cell_type": "code",
   "execution_count": 50,
   "metadata": {},
   "outputs": [
    {
     "name": "stdout",
     "output_type": "stream",
     "text": [
      "Comp1: 89.28528980319423 Comp2: 6.322424422424833\n"
     ]
    },
    {
     "data": {
      "image/png": "[encoded data removed]",
      "text/plain": [
       "<Figure size 432x288 with 1 Axes>"
      ]
     },
     "metadata": {
      "needs_background": "light"
     },
     "output_type": "display_data"
    }
   ],
   "source": [
    "#metabolitos OR noralizados\n",
    "\n",
    "metab_OR_norm = preprocessing.normalize(metab_OR, axis=0)\n",
    "\n",
    "pca_metab_OR_norm = PCA(n_components = 2)#creo el objeto con el num de compoenentes deseados\n",
    "\n",
    "fitting_metab_OR_norm = pca_metab_OR_norm.fit(metab_OR_norm.T)#fiteo la traspuesta del dataset, para pdoer pintar por genotipo\n",
    "\n",
    "comp_princ_metab_OR_norm = fitting_metab_OR_norm.transform(metab_OR_norm.T)#transformo el dataset.T a la reduccion de dimencional\n",
    "\n",
    "df_comp_princ_metab_OR_norm = pd.DataFrame(data = comp_princ_metab_OR_norm , columns = ['principal component 1', 'principal component 2'])\n",
    "\n",
    "df_comp_princ_metab_OR_norm['Genotipo'] = genotipos_met_OR\n",
    "\n",
    "print(f'Comp1: {pca_metab_OR_norm.explained_variance_ratio_[0]*100} Comp2: {pca_metab_OR_norm.explained_variance_ratio_[1]*100}')\n",
    "\n",
    "ax = sns.scatterplot(data = df_comp_princ_metab_OR_norm , x = 'principal component 1' , y = 'principal component 2' , \n",
    "hue = ['b' , 'b' , 'b' ,'g' , 'g' , 'g' ,'r' , 'r' , 'r'] , style = 'Genotipo' , markers = [\"s\" , \"^\" , \"o\" , \"s\" , \"^\" , \"o\" ,\"s\" , \"^\" , \"o\"])\n",
    "\n",
    "ax.legend(fontsize='7.3')\n",
    "\n",
    "ax.set(title='Analisis de componentes principales sobre Metabolitos en Orange Red',xlabel='Componente principal 1 (89.28%)',ylabel='Componente principal 2 (6.3%)')\n",
    "\n",
    "plt.savefig('/home/mariano/Documents/tomate/A2B2C2023/imagenes_poster/AnalisisComponentesPrincipalesMetabolitosOR.png')"
   ]
  },
  {
   "cell_type": "code",
   "execution_count": 59,
   "metadata": {},
   "outputs": [
    {
     "data": {
      "text/html": [
       "<div>\n",
       "<style scoped>\n",
       "    .dataframe tbody tr th:only-of-type {\n",
       "        vertical-align: middle;\n",
       "    }\n",
       "\n",
       "    .dataframe tbody tr th {\n",
       "        vertical-align: top;\n",
       "    }\n",
       "\n",
       "    .dataframe thead th {\n",
       "        text-align: right;\n",
       "    }\n",
       "</style>\n",
       "<table border=\"1\" class=\"dataframe\">\n",
       "  <thead>\n",
       "    <tr style=\"text-align: right;\">\n",
       "      <th></th>\n",
       "      <th>principal component 1</th>\n",
       "      <th>principal component 2</th>\n",
       "      <th>Genotipo</th>\n",
       "    </tr>\n",
       "  </thead>\n",
       "  <tbody>\n",
       "    <tr>\n",
       "      <th>0</th>\n",
       "      <td>-0.511616</td>\n",
       "      <td>0.122473</td>\n",
       "      <td>CervilMeanOR</td>\n",
       "    </tr>\n",
       "    <tr>\n",
       "      <th>1</th>\n",
       "      <td>0.078179</td>\n",
       "      <td>-0.035688</td>\n",
       "      <td>LevovilxCervilMeanOR</td>\n",
       "    </tr>\n",
       "    <tr>\n",
       "      <th>2</th>\n",
       "      <td>0.176496</td>\n",
       "      <td>-0.143052</td>\n",
       "      <td>LevovilMeanOR</td>\n",
       "    </tr>\n",
       "    <tr>\n",
       "      <th>3</th>\n",
       "      <td>-0.420204</td>\n",
       "      <td>0.050987</td>\n",
       "      <td>PlovdivMeanOR</td>\n",
       "    </tr>\n",
       "    <tr>\n",
       "      <th>4</th>\n",
       "      <td>-0.257231</td>\n",
       "      <td>-0.051110</td>\n",
       "      <td>LA0147xPlovdivMeanOR</td>\n",
       "    </tr>\n",
       "    <tr>\n",
       "      <th>5</th>\n",
       "      <td>-0.259097</td>\n",
       "      <td>-0.052548</td>\n",
       "      <td>LA0147MeanOR</td>\n",
       "    </tr>\n",
       "    <tr>\n",
       "      <th>6</th>\n",
       "      <td>0.580725</td>\n",
       "      <td>0.173277</td>\n",
       "      <td>LA1420MeanOR</td>\n",
       "    </tr>\n",
       "    <tr>\n",
       "      <th>7</th>\n",
       "      <td>0.357041</td>\n",
       "      <td>0.011699</td>\n",
       "      <td>FerumxLA1420MeanOR</td>\n",
       "    </tr>\n",
       "    <tr>\n",
       "      <th>8</th>\n",
       "      <td>0.255709</td>\n",
       "      <td>-0.076037</td>\n",
       "      <td>FerumMeanOR</td>\n",
       "    </tr>\n",
       "  </tbody>\n",
       "</table>\n",
       "</div>"
      ],
      "text/plain": [
       "   principal component 1  principal component 2              Genotipo\n",
       "0              -0.511616               0.122473          CervilMeanOR\n",
       "1               0.078179              -0.035688  LevovilxCervilMeanOR\n",
       "2               0.176496              -0.143052         LevovilMeanOR\n",
       "3              -0.420204               0.050987         PlovdivMeanOR\n",
       "4              -0.257231              -0.051110  LA0147xPlovdivMeanOR\n",
       "5              -0.259097              -0.052548          LA0147MeanOR\n",
       "6               0.580725               0.173277          LA1420MeanOR\n",
       "7               0.357041               0.011699    FerumxLA1420MeanOR\n",
       "8               0.255709              -0.076037           FerumMeanOR"
      ]
     },
     "execution_count": 59,
     "metadata": {},
     "output_type": "execute_result"
    }
   ],
   "source": [
    "df_comp_princ_metab_OR_norm"
   ]
  },
  {
   "cell_type": "code",
   "execution_count": 54,
   "metadata": {},
   "outputs": [],
   "source": [
    "###########################################################################################################\n",
    "#ahora queda armar los knn con k=9"
   ]
  },
  {
   "cell_type": "code",
   "execution_count": 55,
   "metadata": {},
   "outputs": [],
   "source": [
    "#vamos a importar la librarie, para vecinos mas cercanos ,y fitear , y aplicar le modelo"
   ]
  },
  {
   "cell_type": "code",
   "execution_count": 56,
   "metadata": {},
   "outputs": [],
   "source": [
    "#############################################################no va##########################################"
   ]
  },
  {
   "cell_type": "code",
   "execution_count": 57,
   "metadata": {},
   "outputs": [],
   "source": [
    "#como hay que pasar a numero las labels(los genotipos), vamos a usar 0 = Cervil, 1 = Levovil , 2 = CervxLevovil\n",
    "#3 = Ferum , 4 = LA1420 , 5 = FerumxLA1420 , 6 = Plovdiv , 7 = LA0147 , 8 = PlovdivxLA0147 "
   ]
  },
  {
   "cell_type": "code",
   "execution_count": null,
   "metadata": {},
   "outputs": [],
   "source": []
  },
  {
   "cell_type": "code",
   "execution_count": 58,
   "metadata": {},
   "outputs": [],
   "source": [
    "#arrancamos con el label numerco de todos los datasets, para kmean"
   ]
  },
  {
   "cell_type": "code",
   "execution_count": null,
   "metadata": {},
   "outputs": [],
   "source": []
  },
  {
   "cell_type": "code",
   "execution_count": 59,
   "metadata": {},
   "outputs": [],
   "source": [
    "genotipo_med_trans = genotipo"
   ]
  },
  {
   "cell_type": "code",
   "execution_count": 60,
   "metadata": {},
   "outputs": [],
   "source": [
    "genotipo_med_trans2 = [0 , 1 , 3 , 4 , 6 , 7 , 5 , 2 , 8]"
   ]
  },
  {
   "cell_type": "code",
   "execution_count": null,
   "metadata": {},
   "outputs": [],
   "source": []
  },
  {
   "cell_type": "code",
   "execution_count": null,
   "metadata": {},
   "outputs": [],
   "source": []
  },
  {
   "cell_type": "code",
   "execution_count": 61,
   "metadata": {},
   "outputs": [
    {
     "data": {
      "text/plain": [
       "Index(['Cervil_A', 'Cervil_B', 'Levovil_A', 'Levovil_B', 'Ferum_A', 'Ferum_B',\n",
       "       'LA1420_A', 'LA1420_B', 'Plovdiv_A', 'Plovdiv_B', 'LA0147_A',\n",
       "       'LA0147_B', 'FerumXLA1420_A', 'FerumXLA1420_B', 'CervilXLevovil_A',\n",
       "       'CervilXLevovil_B', 'LA0147XPlovdiv_A', 'LA0147XPlovdiv_B'],\n",
       "      dtype='object')"
      ]
     },
     "execution_count": 61,
     "metadata": {},
     "output_type": "execute_result"
    }
   ],
   "source": [
    "genotipo_all"
   ]
  },
  {
   "cell_type": "code",
   "execution_count": 62,
   "metadata": {},
   "outputs": [],
   "source": [
    "genotipo_all_trans2 = [0 , 0 ,1 , 1 , 3 , 3 , 4 , 4 , 6 , 6 , 7 , 7 , 5 , 5 , 2 , 2 , 8 , 8]"
   ]
  },
  {
   "cell_type": "code",
   "execution_count": null,
   "metadata": {},
   "outputs": [],
   "source": []
  },
  {
   "cell_type": "code",
   "execution_count": 63,
   "metadata": {},
   "outputs": [
    {
     "data": {
      "text/plain": [
       "Index(['CervilCEMean', 'LevovilxCervilCEMean', 'LevovilCEMean',\n",
       "       'PlovdivCEMean', 'LA0147xPlovdivCEMean', 'LA0147CEMean', 'LA1420CEMean',\n",
       "       'FerumxLA1420CEMean', 'FerumCEMean'],\n",
       "      dtype='object')"
      ]
     },
     "execution_count": 63,
     "metadata": {},
     "output_type": "execute_result"
    }
   ],
   "source": [
    "genotipo_CE"
   ]
  },
  {
   "cell_type": "code",
   "execution_count": 64,
   "metadata": {},
   "outputs": [],
   "source": [
    "genotipo_prot_CE2 = [0 , 2 , 1 , 6 , 8 , 7 , 4 , 5 , 3]"
   ]
  },
  {
   "cell_type": "code",
   "execution_count": null,
   "metadata": {},
   "outputs": [],
   "source": []
  },
  {
   "cell_type": "code",
   "execution_count": 65,
   "metadata": {},
   "outputs": [
    {
     "data": {
      "text/plain": [
       "Index(['CervilORMean', 'LevovilxCervilORMean', 'LevovilORMean',\n",
       "       'PlovdivORMean', 'LA0147xPlovdivORMean', 'LA0147ORMean', 'LA1420ORMean',\n",
       "       'FerumxLA1420ORMean', 'FerumORMean'],\n",
       "      dtype='object')"
      ]
     },
     "execution_count": 65,
     "metadata": {},
     "output_type": "execute_result"
    }
   ],
   "source": [
    "genotipo_OR"
   ]
  },
  {
   "cell_type": "code",
   "execution_count": null,
   "metadata": {},
   "outputs": [],
   "source": []
  },
  {
   "cell_type": "code",
   "execution_count": 66,
   "metadata": {},
   "outputs": [],
   "source": [
    "genotipo_prot_OR2 = [0 , 2 , 1 , 6 , 8 , 7 , 4 , 5 , 3]"
   ]
  },
  {
   "cell_type": "code",
   "execution_count": null,
   "metadata": {},
   "outputs": [],
   "source": []
  },
  {
   "cell_type": "code",
   "execution_count": 67,
   "metadata": {},
   "outputs": [
    {
     "data": {
      "text/plain": [
       "Index(['CervilMeanCE', 'LevovilxCervilMeanCE', 'LevovilMeanCE',\n",
       "       'PlovdivMeanCE', 'LA0147xPlovdivMeanCE', 'LA0147MeanCE', 'LA1420MeanCE',\n",
       "       'FerumxLA1420MeanCE', 'FerumMeanCE'],\n",
       "      dtype='object')"
      ]
     },
     "execution_count": 67,
     "metadata": {},
     "output_type": "execute_result"
    }
   ],
   "source": [
    "genotipo_AE_CE"
   ]
  },
  {
   "cell_type": "code",
   "execution_count": 68,
   "metadata": {},
   "outputs": [],
   "source": [
    "genotipo_AE_CE2 = [0 , 2 , 1 , 6 , 8 , 7 , 4 , 5 , 3]"
   ]
  },
  {
   "cell_type": "code",
   "execution_count": null,
   "metadata": {},
   "outputs": [],
   "source": []
  },
  {
   "cell_type": "code",
   "execution_count": 69,
   "metadata": {},
   "outputs": [
    {
     "data": {
      "text/plain": [
       "Index(['CervilMeanOR', 'LevovilxCervilMeanOR', 'LevovilMeanOR',\n",
       "       'PlovdivMeanOR', 'LA0147xPlovdivMeanOR', 'LA0147MeanOR', 'LA1420MeanOR',\n",
       "       'FerumxLA1420MeanOR', 'FerumMeanOR'],\n",
       "      dtype='object')"
      ]
     },
     "execution_count": 69,
     "metadata": {},
     "output_type": "execute_result"
    }
   ],
   "source": [
    "genotipo_AE_OR"
   ]
  },
  {
   "cell_type": "code",
   "execution_count": 70,
   "metadata": {},
   "outputs": [],
   "source": [
    "genotipo_AE_OR2 = [0 , 2 , 1 , 6 , 8 , 7 , 4 , 5 , 3]"
   ]
  },
  {
   "cell_type": "code",
   "execution_count": null,
   "metadata": {},
   "outputs": [],
   "source": []
  },
  {
   "cell_type": "code",
   "execution_count": 71,
   "metadata": {},
   "outputs": [
    {
     "data": {
      "text/plain": [
       "Index(['CervilMeanCE', 'LevovilxCervilMeanCE', 'LevovilMeanCE',\n",
       "       'PlovdivMeanCE', 'LA0147xPlovdivMeanCE', 'LA0147MeanCE', 'LA1420MeanCE',\n",
       "       'FerumxLA1420MeanCE', 'FerumMeanCE'],\n",
       "      dtype='object')"
      ]
     },
     "execution_count": 71,
     "metadata": {},
     "output_type": "execute_result"
    }
   ],
   "source": [
    "genotipos_met_CE"
   ]
  },
  {
   "cell_type": "code",
   "execution_count": 72,
   "metadata": {},
   "outputs": [],
   "source": [
    "genotipos_met_CE2 = [0 , 2 , 1 , 6 , 8 , 7 , 4 , 5 , 3]"
   ]
  },
  {
   "cell_type": "code",
   "execution_count": null,
   "metadata": {},
   "outputs": [],
   "source": []
  },
  {
   "cell_type": "code",
   "execution_count": 73,
   "metadata": {},
   "outputs": [
    {
     "data": {
      "text/plain": [
       "Index(['CervilMeanOR', 'LevovilxCervilMeanOR', 'LevovilMeanOR',\n",
       "       'PlovdivMeanOR', 'LA0147xPlovdivMeanOR', 'LA0147MeanOR', 'LA1420MeanOR',\n",
       "       'FerumxLA1420MeanOR', 'FerumMeanOR'],\n",
       "      dtype='object')"
      ]
     },
     "execution_count": 73,
     "metadata": {},
     "output_type": "execute_result"
    }
   ],
   "source": [
    "genotipos_met_OR"
   ]
  },
  {
   "cell_type": "code",
   "execution_count": 74,
   "metadata": {},
   "outputs": [],
   "source": [
    "genotipos_met_OR2 = [0 , 2 , 1 , 6 , 8 , 7 , 4 , 5 , 3]"
   ]
  },
  {
   "cell_type": "code",
   "execution_count": 75,
   "metadata": {},
   "outputs": [],
   "source": [
    "#ahora ya puedo usar kmean"
   ]
  },
  {
   "cell_type": "code",
   "execution_count": 76,
   "metadata": {},
   "outputs": [],
   "source": [
    "y_med_trans = pd.DataFrame(genotipo_med_trans2 , columns = ['Genotipo'])#las y, para usar como input label"
   ]
  },
  {
   "cell_type": "code",
   "execution_count": null,
   "metadata": {},
   "outputs": [],
   "source": []
  },
  {
   "cell_type": "code",
   "execution_count": null,
   "metadata": {},
   "outputs": [],
   "source": []
  },
  {
   "cell_type": "code",
   "execution_count": null,
   "metadata": {},
   "outputs": [],
   "source": []
  },
  {
   "cell_type": "code",
   "execution_count": null,
   "metadata": {},
   "outputs": [],
   "source": []
  },
  {
   "cell_type": "code",
   "execution_count": 77,
   "metadata": {},
   "outputs": [],
   "source": [
    "#k medias...\n",
    "#supongo que puedo graficar los puntos usando los metodos\n",
    "#cluster_centers_\n",
    "#y tal vez...\n",
    "#labels_"
   ]
  },
  {
   "cell_type": "code",
   "execution_count": 79,
   "metadata": {},
   "outputs": [
    {
     "data": {
      "text/plain": [
       "array([[2.01995351e+01, 3.12596675e+01, 1.28395849e+02, ...,\n",
       "        6.50276788e-01, 1.34417505e-01, 4.57631377e-01],\n",
       "       [3.34970840e+01, 3.81525944e+01, 2.04731228e+02, ...,\n",
       "        2.24818119e-01, 9.27120199e-01, 1.36843712e-01],\n",
       "       [2.23628410e+01, 3.23671915e+01, 1.35372770e+02, ...,\n",
       "        1.94429925e-01, 3.36654201e-01, 1.66684742e-01],\n",
       "       ...,\n",
       "       [3.78429036e+01, 3.94150683e+01, 2.02485253e+02, ...,\n",
       "        0.00000000e+00, 5.04332876e-01, 8.77408975e-02],\n",
       "       [1.40616117e+01, 2.59806387e+01, 1.66770359e+02, ...,\n",
       "        6.08839773e-02, 8.98131760e-01, 9.74143637e-02],\n",
       "       [2.13798972e+01, 3.15666006e+01, 1.27440662e+02, ...,\n",
       "        7.65429428e-01, 1.88896675e-01, 8.17352114e-01]])"
      ]
     },
     "execution_count": 79,
     "metadata": {},
     "output_type": "execute_result"
    }
   ],
   "source": [
    "from sklearn.cluster import KMeans\n",
    "\n",
    "k_med_trans = KMeans(n_clusters = 9)\n",
    "\n",
    "k_med_trans.fit_transform(media_transcriptos.T, y_med_trans.values.ravel())#el .values.ravel es por un error\n",
    "\n",
    "k_med_trans.cluster_centers_#probaria esta manera de armarlo, a ver si puedo graficar"
   ]
  },
  {
   "cell_type": "code",
   "execution_count": 83,
   "metadata": {},
   "outputs": [
    {
     "data": {
      "text/plain": [
       "(9, 19248)"
      ]
     },
     "execution_count": 83,
     "metadata": {},
     "output_type": "execute_result"
    }
   ],
   "source": [
    "centroides.shape"
   ]
  },
  {
   "cell_type": "code",
   "execution_count": 88,
   "metadata": {},
   "outputs": [],
   "source": [
    "clusters = centroides.T"
   ]
  },
  {
   "cell_type": "code",
   "execution_count": 89,
   "metadata": {},
   "outputs": [
    {
     "data": {
      "text/plain": [
       "(19248, 9)"
      ]
     },
     "execution_count": 89,
     "metadata": {},
     "output_type": "execute_result"
    }
   ],
   "source": [
    "clusters.shape"
   ]
  },
  {
   "cell_type": "code",
   "execution_count": null,
   "metadata": {},
   "outputs": [],
   "source": []
  },
  {
   "cell_type": "code",
   "execution_count": 86,
   "metadata": {},
   "outputs": [],
   "source": [
    "labels = k_med_trans.labels_"
   ]
  },
  {
   "cell_type": "code",
   "execution_count": 90,
   "metadata": {},
   "outputs": [
    {
     "data": {
      "text/plain": [
       "(9,)"
      ]
     },
     "execution_count": 90,
     "metadata": {},
     "output_type": "execute_result"
    }
   ],
   "source": [
    "labels.shape"
   ]
  },
  {
   "cell_type": "code",
   "execution_count": 91,
   "metadata": {},
   "outputs": [
    {
     "data": {
      "text/plain": [
       "array([[2.01995351e+01, 3.34970840e+01, 2.23628410e+01, ...,\n",
       "        3.78429036e+01, 1.40616117e+01, 2.13798972e+01],\n",
       "       [3.12596675e+01, 3.81525944e+01, 3.23671915e+01, ...,\n",
       "        3.94150683e+01, 2.59806387e+01, 3.15666006e+01],\n",
       "       [1.28395849e+02, 2.04731228e+02, 1.35372770e+02, ...,\n",
       "        2.02485253e+02, 1.66770359e+02, 1.27440662e+02],\n",
       "       ...,\n",
       "       [6.50276788e-01, 2.24818119e-01, 1.94429925e-01, ...,\n",
       "        0.00000000e+00, 6.08839773e-02, 7.65429428e-01],\n",
       "       [1.34417505e-01, 9.27120199e-01, 3.36654201e-01, ...,\n",
       "        5.04332876e-01, 8.98131760e-01, 1.88896675e-01],\n",
       "       [4.57631377e-01, 1.36843712e-01, 1.66684742e-01, ...,\n",
       "        8.77408975e-02, 9.74143637e-02, 8.17352114e-01]])"
      ]
     },
     "execution_count": 91,
     "metadata": {},
     "output_type": "execute_result"
    }
   ],
   "source": [
    "clusters"
   ]
  },
  {
   "cell_type": "code",
   "execution_count": 93,
   "metadata": {},
   "outputs": [],
   "source": [
    "df_clusters = pd.DataFrame(clusters , columns = [0 , 1 , 2 , 3 , 4 , 5 , 6 ,7,8])"
   ]
  },
  {
   "cell_type": "code",
   "execution_count": null,
   "metadata": {},
   "outputs": [],
   "source": []
  },
  {
   "cell_type": "code",
   "execution_count": null,
   "metadata": {},
   "outputs": [],
   "source": []
  },
  {
   "cell_type": "code",
   "execution_count": null,
   "metadata": {},
   "outputs": [],
   "source": [
    "#para graficar vamos a usar algo que vi en internet"
   ]
  },
  {
   "cell_type": "code",
   "execution_count": 87,
   "metadata": {},
   "outputs": [
    {
     "name": "stderr",
     "output_type": "stream",
     "text": [
      "/home/mariano/anaconda3/lib/python3.9/site-packages/seaborn/_decorators.py:36: FutureWarning: Pass the following variable as a keyword arg: x. From version 0.12, the only valid positional argument will be `data`, and passing other arguments without an explicit keyword will result in an error or misinterpretation.\n",
      "  warnings.warn(\n"
     ]
    },
    {
     "data": {
      "image/png": "[encoded data removed]",
      "text/plain": [
       "<Figure size 432x288 with 1 Axes>"
      ]
     },
     "metadata": {
      "needs_background": "light"
     },
     "output_type": "display_data"
    }
   ],
   "source": [
    "import matplotlib.pyplot as plt\n",
    "\n",
    "import seaborn as sns\n",
    "\n",
    "\n",
    "sns.swarmplot(labels)\n",
    "\n",
    "plt.show()"
   ]
  },
  {
   "cell_type": "code",
   "execution_count": null,
   "metadata": {},
   "outputs": [],
   "source": []
  },
  {
   "cell_type": "code",
   "execution_count": null,
   "metadata": {},
   "outputs": [],
   "source": []
  },
  {
   "cell_type": "code",
   "execution_count": null,
   "metadata": {},
   "outputs": [],
   "source": []
  },
  {
   "cell_type": "code",
   "execution_count": null,
   "metadata": {},
   "outputs": [],
   "source": []
  },
  {
   "cell_type": "code",
   "execution_count": null,
   "metadata": {},
   "outputs": [],
   "source": []
  },
  {
   "cell_type": "code",
   "execution_count": null,
   "metadata": {},
   "outputs": [],
   "source": []
  },
  {
   "cell_type": "code",
   "execution_count": null,
   "metadata": {},
   "outputs": [],
   "source": []
  },
  {
   "cell_type": "code",
   "execution_count": null,
   "metadata": {},
   "outputs": [],
   "source": []
  },
  {
   "cell_type": "code",
   "execution_count": null,
   "metadata": {},
   "outputs": [],
   "source": []
  },
  {
   "cell_type": "code",
   "execution_count": null,
   "metadata": {},
   "outputs": [],
   "source": []
  },
  {
   "cell_type": "code",
   "execution_count": null,
   "metadata": {},
   "outputs": [],
   "source": [
    "###################################3proyecto de grafiacarm que no andaba############################"
   ]
  },
  {
   "cell_type": "code",
   "execution_count": null,
   "metadata": {},
   "outputs": [],
   "source": [
    "#para luego graficar\n",
    "#import numpy as np\n",
    "#from matplotlib.colors import ListedColormap\n",
    "\n",
    "#cmap_light = ListedColormap(['#FFAAAA', '#AAFFAA','#00AAFF','#FF0000', '#00FF00','#00AAFF'])\n",
    "\n",
    "#plt.figure(media_transcriptos.T.values(), predichos_med_trans.values())\n"
   ]
  },
  {
   "cell_type": "code",
   "execution_count": null,
   "metadata": {},
   "outputs": [],
   "source": [
    "######################################3hasta aca lo quen o va############################################3"
   ]
  },
  {
   "cell_type": "code",
   "execution_count": null,
   "metadata": {},
   "outputs": [],
   "source": [
    "#conviene usar clusteiring gerarquico"
   ]
  },
  {
   "cell_type": "code",
   "execution_count": null,
   "metadata": {},
   "outputs": [],
   "source": [
    "#vamos a probar por hierarchical clustering"
   ]
  },
  {
   "cell_type": "code",
   "execution_count": null,
   "metadata": {},
   "outputs": [],
   "source": [
    "from sklearn.cluster import AgglomerativeClustering"
   ]
  },
  {
   "cell_type": "code",
   "execution_count": null,
   "metadata": {},
   "outputs": [],
   "source": []
  },
  {
   "cell_type": "code",
   "execution_count": null,
   "metadata": {},
   "outputs": [],
   "source": [
    "ac_med_trans = AgglomerativeClustering(n_clusters = 2)\n",
    "\n",
    "ac_med_trans.fit_predict(media_transcriptos)"
   ]
  },
  {
   "cell_type": "code",
   "execution_count": null,
   "metadata": {},
   "outputs": [],
   "source": [
    "import scipy.cluster.hierarchy as shc\n",
    "shc.dendrogram(ac_med_trans.fit_predict(media_transcriptos))"
   ]
  },
  {
   "cell_type": "code",
   "execution_count": null,
   "metadata": {},
   "outputs": [],
   "source": []
  },
  {
   "cell_type": "code",
   "execution_count": null,
   "metadata": {},
   "outputs": [],
   "source": []
  },
  {
   "cell_type": "code",
   "execution_count": null,
   "metadata": {},
   "outputs": [],
   "source": []
  },
  {
   "cell_type": "code",
   "execution_count": null,
   "metadata": {},
   "outputs": [],
   "source": []
  },
  {
   "cell_type": "code",
   "execution_count": null,
   "metadata": {},
   "outputs": [],
   "source": []
  },
  {
   "cell_type": "code",
   "execution_count": null,
   "metadata": {},
   "outputs": [],
   "source": []
  }
 ],
 "metadata": {
  "kernelspec": {
   "display_name": "Python 3 (ipykernel)",
   "language": "python",
   "name": "python3"
  },
  "language_info": {
   "codemirror_mode": {
    "name": "ipython",
    "version": 3
   },
   "file_extension": ".py",
   "mimetype": "text/x-python",
   "name": "python",
   "nbconvert_exporter": "python",
   "pygments_lexer": "ipython3",
   "version": "3.7.0"
  }
 },
 "nbformat": 4,
 "nbformat_minor": 5
}
