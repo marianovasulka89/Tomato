{
 "cells": [
  {
   "cell_type": "code",
   "execution_count": 1,
   "id": "2c232c26",
   "metadata": {},
   "outputs": [],
   "source": [
    "import pandas as pd\n",
    "hib_sign_OR = pd.read_csv('Correlaciones_Hibridos_Significativas_OR_Coeficientes_Negativos.csv')\n",
    "par_hib_sign_CE = pd.read_csv('Correlaciones_Parentales_e_Hibridos_Significativas_CE.csv')\n",
    "par_hib_sign_OR = pd.read_csv('Correlaciones_Parentales_e_hibridos_Significativas_OR.csv')\n",
    "par_sign_CE = pd.read_csv('Correlaciones_Parentales_Significativas_CE.csv')\n",
    "par_sign_OR = pd.read_csv('Correlaciones_Parentales_Significativas_OR.csv')\n",
    "par_hib_sign_CE_OR = pd.read_csv('Correlaciones_Simultaneamente_Significativas_CE_OR.csv')\n",
    "hib_sign_CE_OR = pd.read_csv('Correlaciones_Solo_Hibridos_significativos_CE_OR.csv')\n",
    "par_sign_CE_OR = pd.read_csv('Correlaciones_Solo_Parentales_significativos_CE_OR.csv')\n",
    "hib_CE_OR_par_CE_sign = pd.read_csv('Correlacion_Hibridos_CE_OR_Parental_CE_significativos.csv')\n",
    "hib_CE_OR_par_OR_sign = pd.read_csv('Correlacion_Hibridos_CE_OR_Parental_OR.csv')\n",
    "par_CE_OR_hib_OR_sign = pd.read_csv('Correlacion_Parentales_CE_OR_Hibrido_OR_Significativos.csv')\n",
    "par_CE_hib_OR_sign = pd.read_csv('Parental_CE_Hibrido_OR_significativos.csv')"
   ]
  },
  {
   "cell_type": "code",
   "execution_count": 2,
   "id": "ee29bc99",
   "metadata": {},
   "outputs": [
    {
     "data": {
      "text/plain": [
       "(165, 8)"
      ]
     },
     "execution_count": 2,
     "metadata": {},
     "output_type": "execute_result"
    }
   ],
   "source": [
    "#empecemos por verificar el signo de las correlaciones para cada subgrupo\n",
    "#arrancamos con cada estadio celular, por separado, y luego ocn las que son simultaneas\n",
    "#1) par_hib_sign_CE ,es decir parentales e hibridos son significativos en CE\n",
    "par_hib_sign_CE.shape"
   ]
  },
  {
   "cell_type": "code",
   "execution_count": 3,
   "id": "4d9a5ee2",
   "metadata": {},
   "outputs": [
    {
     "data": {
      "text/plain": [
       "Index(['Unicidad', 'Locus', 'Coef_todos_CE', 'PVal_todos_CE',\n",
       "       'Coef_parentales_CE', 'PVal_parentales_CE', 'spotID',\n",
       "       'ProteinFunctionDescription'],\n",
       "      dtype='object')"
      ]
     },
     "execution_count": 3,
     "metadata": {},
     "output_type": "execute_result"
    }
   ],
   "source": [
    "par_hib_sign_CE.columns"
   ]
  },
  {
   "cell_type": "code",
   "execution_count": 4,
   "id": "c6aa7de4",
   "metadata": {},
   "outputs": [
    {
     "data": {
      "text/plain": [
       "(102, 8)"
      ]
     },
     "execution_count": 4,
     "metadata": {},
     "output_type": "execute_result"
    }
   ],
   "source": [
    "#voy primero por los positivos parentales e hibridos\n",
    "par_hib_sign_CE[(par_hib_sign_CE['Coef_todos_CE']>0)&(par_hib_sign_CE['Coef_parentales_CE']>0)].shape"
   ]
  },
  {
   "cell_type": "code",
   "execution_count": 5,
   "id": "3635bb3d",
   "metadata": {},
   "outputs": [
    {
     "data": {
      "text/plain": [
       "(63, 8)"
      ]
     },
     "execution_count": 5,
     "metadata": {},
     "output_type": "execute_result"
    }
   ],
   "source": [
    "#voy por los que son negativos parentales e hib\n",
    "par_hib_sign_CE[(par_hib_sign_CE['Coef_todos_CE']<0)&(par_hib_sign_CE['Coef_parentales_CE']<0)].shape"
   ]
  },
  {
   "cell_type": "code",
   "execution_count": 10,
   "id": "c8ea37a8",
   "metadata": {},
   "outputs": [],
   "source": [
    "par_hib_sign_CE[(par_hib_sign_CE['Coef_todos_CE']>0)&(par_hib_sign_CE['Coef_parentales_CE']>0)].to_csv('Parentales_Hibridos_Sign_CE_Coeficientes_positivos.csv')\n",
    "par_hib_sign_CE[(par_hib_sign_CE['Coef_todos_CE']<0)&(par_hib_sign_CE['Coef_parentales_CE']<0)].to_csv('Parentales_Hibridos_Sign_CE_Coeficientes_Negativos.csv')"
   ]
  },
  {
   "cell_type": "code",
   "execution_count": null,
   "id": "e50a45b4",
   "metadata": {},
   "outputs": [],
   "source": []
  },
  {
   "cell_type": "code",
   "execution_count": 7,
   "id": "1bdf5a4b",
   "metadata": {},
   "outputs": [
    {
     "data": {
      "text/plain": [
       "(5, 8)"
      ]
     },
     "execution_count": 7,
     "metadata": {},
     "output_type": "execute_result"
    }
   ],
   "source": [
    "#ahora vamos con par_sign_CE, es decir, solo significativos los parentales en CE\n",
    "par_sign_CE.shape"
   ]
  },
  {
   "cell_type": "code",
   "execution_count": 8,
   "id": "68a249be",
   "metadata": {},
   "outputs": [
    {
     "data": {
      "text/plain": [
       "(4, 8)"
      ]
     },
     "execution_count": 8,
     "metadata": {},
     "output_type": "execute_result"
    }
   ],
   "source": [
    "#primero voy por los coef positivos en parentales e hibridos\n",
    "par_sign_CE[(par_sign_CE['Coef_todos_CE'] > 0) & (par_sign_CE['Coef_parentales_CE'] > 0)].shape"
   ]
  },
  {
   "cell_type": "code",
   "execution_count": 9,
   "id": "bcb0861c",
   "metadata": {},
   "outputs": [
    {
     "data": {
      "text/plain": [
       "(1, 8)"
      ]
     },
     "execution_count": 9,
     "metadata": {},
     "output_type": "execute_result"
    }
   ],
   "source": [
    "#probemos ambos coef negativos\n",
    "par_sign_CE[(par_sign_CE['Coef_todos_CE'] < 0) & (par_sign_CE['Coef_parentales_CE'] < 0)].shape"
   ]
  },
  {
   "cell_type": "code",
   "execution_count": 11,
   "id": "96067996",
   "metadata": {},
   "outputs": [],
   "source": [
    "par_sign_CE[(par_sign_CE['Coef_todos_CE'] > 0) & (par_sign_CE['Coef_parentales_CE'] > 0)].to_csv('Parentales_Significativos_CE_Coeficientes_Positivos.csv')\n",
    "par_sign_CE[(par_sign_CE['Coef_todos_CE'] < 0) & (par_sign_CE['Coef_parentales_CE'] < 0)].to_csv('Parentales_Significativos_CE_Coeficientes_Negativos.csv')"
   ]
  },
  {
   "cell_type": "code",
   "execution_count": 14,
   "id": "66515012",
   "metadata": {},
   "outputs": [
    {
     "data": {
      "text/plain": [
       "Index(['Unicidad', 'Locus', 'Coef_todos_OR', 'PVal_todos_OR',\n",
       "       'Coef_parentales_OR', 'PVal_parentales_OR', 'spotID',\n",
       "       'ProteinFunctionDescription'],\n",
       "      dtype='object')"
      ]
     },
     "execution_count": 14,
     "metadata": {},
     "output_type": "execute_result"
    }
   ],
   "source": [
    "##########################################################################################################3\n",
    "#seguimos con los del estadio OR\n",
    "hib_sign_OR.columns"
   ]
  },
  {
   "cell_type": "code",
   "execution_count": 15,
   "id": "9d194e91",
   "metadata": {},
   "outputs": [
    {
     "data": {
      "text/plain": [
       "(1, 8)"
      ]
     },
     "execution_count": 15,
     "metadata": {},
     "output_type": "execute_result"
    }
   ],
   "source": [
    "hib_sign_OR.shape"
   ]
  },
  {
   "cell_type": "code",
   "execution_count": null,
   "id": "7abd878c",
   "metadata": {},
   "outputs": [],
   "source": []
  },
  {
   "cell_type": "code",
   "execution_count": 16,
   "id": "6c2ccbfb",
   "metadata": {},
   "outputs": [
    {
     "data": {
      "text/html": [
       "<div>\n",
       "<style scoped>\n",
       "    .dataframe tbody tr th:only-of-type {\n",
       "        vertical-align: middle;\n",
       "    }\n",
       "\n",
       "    .dataframe tbody tr th {\n",
       "        vertical-align: top;\n",
       "    }\n",
       "\n",
       "    .dataframe thead th {\n",
       "        text-align: right;\n",
       "    }\n",
       "</style>\n",
       "<table border=\"1\" class=\"dataframe\">\n",
       "  <thead>\n",
       "    <tr style=\"text-align: right;\">\n",
       "      <th></th>\n",
       "      <th>Unicidad</th>\n",
       "      <th>Locus</th>\n",
       "      <th>Coef_todos_OR</th>\n",
       "      <th>PVal_todos_OR</th>\n",
       "      <th>Coef_parentales_OR</th>\n",
       "      <th>PVal_parentales_OR</th>\n",
       "      <th>spotID</th>\n",
       "      <th>ProteinFunctionDescription</th>\n",
       "    </tr>\n",
       "  </thead>\n",
       "  <tbody>\n",
       "    <tr>\n",
       "      <th>0</th>\n",
       "      <td>388</td>\n",
       "      <td>Solyc08g082820</td>\n",
       "      <td>-0.693782</td>\n",
       "      <td>0.038173</td>\n",
       "      <td>-0.29277</td>\n",
       "      <td>0.573392</td>\n",
       "      <td>JX295</td>\n",
       "      <td>glucose-regulated protein, 78 kD</td>\n",
       "    </tr>\n",
       "  </tbody>\n",
       "</table>\n",
       "</div>"
      ],
      "text/plain": [
       "   Unicidad           Locus  Coef_todos_OR  PVal_todos_OR  Coef_parentales_OR  \\\n",
       "0       388  Solyc08g082820      -0.693782       0.038173            -0.29277   \n",
       "\n",
       "   PVal_parentales_OR spotID        ProteinFunctionDescription  \n",
       "0            0.573392  JX295  glucose-regulated protein, 78 kD  "
      ]
     },
     "execution_count": 16,
     "metadata": {},
     "output_type": "execute_result"
    }
   ],
   "source": [
    "#como es solo un caso, lo miro a ojo\n",
    "hib_sign_OR\n",
    "#solo le cmabio el nombre al archivo, ya que era solo un caso, y amboscoef negativos"
   ]
  },
  {
   "cell_type": "code",
   "execution_count": null,
   "id": "6ffb5a68",
   "metadata": {},
   "outputs": [],
   "source": []
  },
  {
   "cell_type": "code",
   "execution_count": 17,
   "id": "9791ac8c",
   "metadata": {},
   "outputs": [
    {
     "data": {
      "text/plain": [
       "(155, 8)"
      ]
     },
     "execution_count": 17,
     "metadata": {},
     "output_type": "execute_result"
    }
   ],
   "source": [
    "#ahora par_hib_sign_OR\n",
    "par_hib_sign_OR.shape\n",
    "#Busco ambos coeficientes positivos"
   ]
  },
  {
   "cell_type": "code",
   "execution_count": 19,
   "id": "d5bffc15",
   "metadata": {},
   "outputs": [
    {
     "data": {
      "text/plain": [
       "(105, 8)"
      ]
     },
     "execution_count": 19,
     "metadata": {},
     "output_type": "execute_result"
    }
   ],
   "source": [
    "par_hib_sign_OR[(par_hib_sign_OR['Coef_todos_OR']>0) & (par_hib_sign_OR['Coef_parentales_OR']>0)].shape"
   ]
  },
  {
   "cell_type": "code",
   "execution_count": 20,
   "id": "29c7f384",
   "metadata": {},
   "outputs": [
    {
     "data": {
      "text/plain": [
       "(50, 8)"
      ]
     },
     "execution_count": 20,
     "metadata": {},
     "output_type": "execute_result"
    }
   ],
   "source": [
    "#ambos coeficientes negativos\n",
    "par_hib_sign_OR[(par_hib_sign_OR['Coef_todos_OR']<0) & (par_hib_sign_OR['Coef_parentales_OR']<0)].shape"
   ]
  },
  {
   "cell_type": "code",
   "execution_count": null,
   "id": "0bf976cd",
   "metadata": {},
   "outputs": [],
   "source": [
    "#ahora los guardo a los archivos"
   ]
  },
  {
   "cell_type": "code",
   "execution_count": 21,
   "id": "93afff8e",
   "metadata": {},
   "outputs": [],
   "source": [
    "par_hib_sign_OR[(par_hib_sign_OR['Coef_todos_OR']>0) & (par_hib_sign_OR['Coef_parentales_OR']>0)].to_csv('Correlaciones_Parentales_e_hibridos_Significativas_OR_Coeficientes_Positivos.csv')\n",
    "par_hib_sign_OR[(par_hib_sign_OR['Coef_todos_OR']<0) & (par_hib_sign_OR['Coef_parentales_OR']<0)].to_csv('Correlaciones_Parentales_e_hibridos_Significativas_OR_Coeficientes_Negativos.csv')"
   ]
  },
  {
   "cell_type": "code",
   "execution_count": 22,
   "id": "5f2c1456",
   "metadata": {},
   "outputs": [
    {
     "data": {
      "text/plain": [
       "(3, 8)"
      ]
     },
     "execution_count": 22,
     "metadata": {},
     "output_type": "execute_result"
    }
   ],
   "source": [
    "#ahora vamos por par_sign_OR\n",
    "\n",
    "par_sign_OR.shape"
   ]
  },
  {
   "cell_type": "code",
   "execution_count": 23,
   "id": "9ad9aaac",
   "metadata": {},
   "outputs": [
    {
     "data": {
      "text/html": [
       "<div>\n",
       "<style scoped>\n",
       "    .dataframe tbody tr th:only-of-type {\n",
       "        vertical-align: middle;\n",
       "    }\n",
       "\n",
       "    .dataframe tbody tr th {\n",
       "        vertical-align: top;\n",
       "    }\n",
       "\n",
       "    .dataframe thead th {\n",
       "        text-align: right;\n",
       "    }\n",
       "</style>\n",
       "<table border=\"1\" class=\"dataframe\">\n",
       "  <thead>\n",
       "    <tr style=\"text-align: right;\">\n",
       "      <th></th>\n",
       "      <th>Unicidad</th>\n",
       "      <th>Locus</th>\n",
       "      <th>Coef_todos_OR</th>\n",
       "      <th>PVal_todos_OR</th>\n",
       "      <th>Coef_parentales_OR</th>\n",
       "      <th>PVal_parentales_OR</th>\n",
       "      <th>spotID</th>\n",
       "      <th>ProteinFunctionDescription</th>\n",
       "    </tr>\n",
       "  </thead>\n",
       "  <tbody>\n",
       "    <tr>\n",
       "      <th>0</th>\n",
       "      <td>232</td>\n",
       "      <td>Solyc05g012070</td>\n",
       "      <td>-0.101274</td>\n",
       "      <td>0.795442</td>\n",
       "      <td>-0.898645</td>\n",
       "      <td>0.014889</td>\n",
       "      <td>JX337</td>\n",
       "      <td>UDP-glucose:protein transglucosylase-like protein</td>\n",
       "    </tr>\n",
       "    <tr>\n",
       "      <th>1</th>\n",
       "      <td>664</td>\n",
       "      <td>Solyc10g085550</td>\n",
       "      <td>0.155188</td>\n",
       "      <td>0.690130</td>\n",
       "      <td>0.878310</td>\n",
       "      <td>0.021312</td>\n",
       "      <td>JX267</td>\n",
       "      <td>Enolase</td>\n",
       "    </tr>\n",
       "    <tr>\n",
       "      <th>2</th>\n",
       "      <td>709</td>\n",
       "      <td>Solyc03g006860</td>\n",
       "      <td>-0.018349</td>\n",
       "      <td>0.962629</td>\n",
       "      <td>-0.828079</td>\n",
       "      <td>0.041795</td>\n",
       "      <td>JX015</td>\n",
       "      <td>Fructokinase</td>\n",
       "    </tr>\n",
       "  </tbody>\n",
       "</table>\n",
       "</div>"
      ],
      "text/plain": [
       "   Unicidad           Locus  Coef_todos_OR  PVal_todos_OR  Coef_parentales_OR  \\\n",
       "0       232  Solyc05g012070      -0.101274       0.795442           -0.898645   \n",
       "1       664  Solyc10g085550       0.155188       0.690130            0.878310   \n",
       "2       709  Solyc03g006860      -0.018349       0.962629           -0.828079   \n",
       "\n",
       "   PVal_parentales_OR spotID  \\\n",
       "0            0.014889  JX337   \n",
       "1            0.021312  JX267   \n",
       "2            0.041795  JX015   \n",
       "\n",
       "                          ProteinFunctionDescription  \n",
       "0  UDP-glucose:protein transglucosylase-like protein  \n",
       "1                                            Enolase  \n",
       "2                                       Fructokinase  "
      ]
     },
     "execution_count": 23,
     "metadata": {},
     "output_type": "execute_result"
    }
   ],
   "source": [
    "par_sign_OR"
   ]
  },
  {
   "cell_type": "code",
   "execution_count": 24,
   "id": "f51fd2e2",
   "metadata": {},
   "outputs": [
    {
     "data": {
      "text/html": [
       "<div>\n",
       "<style scoped>\n",
       "    .dataframe tbody tr th:only-of-type {\n",
       "        vertical-align: middle;\n",
       "    }\n",
       "\n",
       "    .dataframe tbody tr th {\n",
       "        vertical-align: top;\n",
       "    }\n",
       "\n",
       "    .dataframe thead th {\n",
       "        text-align: right;\n",
       "    }\n",
       "</style>\n",
       "<table border=\"1\" class=\"dataframe\">\n",
       "  <thead>\n",
       "    <tr style=\"text-align: right;\">\n",
       "      <th></th>\n",
       "      <th>Unicidad</th>\n",
       "      <th>Locus</th>\n",
       "      <th>Coef_todos_OR</th>\n",
       "      <th>PVal_todos_OR</th>\n",
       "      <th>Coef_parentales_OR</th>\n",
       "      <th>PVal_parentales_OR</th>\n",
       "      <th>spotID</th>\n",
       "      <th>ProteinFunctionDescription</th>\n",
       "    </tr>\n",
       "  </thead>\n",
       "  <tbody>\n",
       "    <tr>\n",
       "      <th>1</th>\n",
       "      <td>664</td>\n",
       "      <td>Solyc10g085550</td>\n",
       "      <td>0.155188</td>\n",
       "      <td>0.69013</td>\n",
       "      <td>0.87831</td>\n",
       "      <td>0.021312</td>\n",
       "      <td>JX267</td>\n",
       "      <td>Enolase</td>\n",
       "    </tr>\n",
       "  </tbody>\n",
       "</table>\n",
       "</div>"
      ],
      "text/plain": [
       "   Unicidad           Locus  Coef_todos_OR  PVal_todos_OR  Coef_parentales_OR  \\\n",
       "1       664  Solyc10g085550       0.155188        0.69013             0.87831   \n",
       "\n",
       "   PVal_parentales_OR spotID ProteinFunctionDescription  \n",
       "1            0.021312  JX267                    Enolase  "
      ]
     },
     "execution_count": 24,
     "metadata": {},
     "output_type": "execute_result"
    }
   ],
   "source": [
    "#luego de inspeccion ocular(porque son pocos casos)\n",
    "#sabemos que se divide en coef positivo y positivo\n",
    "#y coef negativo y negativo\n",
    "#arranco ocn positivos\n",
    "par_sign_OR[(par_sign_OR['Coef_todos_OR'] > 0) & (par_sign_OR['Coef_todos_OR'] > 0)]"
   ]
  },
  {
   "cell_type": "code",
   "execution_count": 27,
   "id": "6beaf6bc",
   "metadata": {},
   "outputs": [],
   "source": [
    "par_sign_OR[(par_sign_OR['Coef_todos_OR'] > 0) & (par_sign_OR['Coef_todos_OR'] > 0)].to_csv('Correlaciones_Parentales_Significativas_OR_Coeficientes_Positivos.csv')"
   ]
  },
  {
   "cell_type": "code",
   "execution_count": null,
   "id": "331e4c29",
   "metadata": {},
   "outputs": [],
   "source": []
  },
  {
   "cell_type": "code",
   "execution_count": 26,
   "id": "d979172c",
   "metadata": {},
   "outputs": [
    {
     "data": {
      "text/html": [
       "<div>\n",
       "<style scoped>\n",
       "    .dataframe tbody tr th:only-of-type {\n",
       "        vertical-align: middle;\n",
       "    }\n",
       "\n",
       "    .dataframe tbody tr th {\n",
       "        vertical-align: top;\n",
       "    }\n",
       "\n",
       "    .dataframe thead th {\n",
       "        text-align: right;\n",
       "    }\n",
       "</style>\n",
       "<table border=\"1\" class=\"dataframe\">\n",
       "  <thead>\n",
       "    <tr style=\"text-align: right;\">\n",
       "      <th></th>\n",
       "      <th>Unicidad</th>\n",
       "      <th>Locus</th>\n",
       "      <th>Coef_todos_OR</th>\n",
       "      <th>PVal_todos_OR</th>\n",
       "      <th>Coef_parentales_OR</th>\n",
       "      <th>PVal_parentales_OR</th>\n",
       "      <th>spotID</th>\n",
       "      <th>ProteinFunctionDescription</th>\n",
       "    </tr>\n",
       "  </thead>\n",
       "  <tbody>\n",
       "    <tr>\n",
       "      <th>0</th>\n",
       "      <td>232</td>\n",
       "      <td>Solyc05g012070</td>\n",
       "      <td>-0.101274</td>\n",
       "      <td>0.795442</td>\n",
       "      <td>-0.898645</td>\n",
       "      <td>0.014889</td>\n",
       "      <td>JX337</td>\n",
       "      <td>UDP-glucose:protein transglucosylase-like protein</td>\n",
       "    </tr>\n",
       "    <tr>\n",
       "      <th>2</th>\n",
       "      <td>709</td>\n",
       "      <td>Solyc03g006860</td>\n",
       "      <td>-0.018349</td>\n",
       "      <td>0.962629</td>\n",
       "      <td>-0.828079</td>\n",
       "      <td>0.041795</td>\n",
       "      <td>JX015</td>\n",
       "      <td>Fructokinase</td>\n",
       "    </tr>\n",
       "  </tbody>\n",
       "</table>\n",
       "</div>"
      ],
      "text/plain": [
       "   Unicidad           Locus  Coef_todos_OR  PVal_todos_OR  Coef_parentales_OR  \\\n",
       "0       232  Solyc05g012070      -0.101274       0.795442           -0.898645   \n",
       "2       709  Solyc03g006860      -0.018349       0.962629           -0.828079   \n",
       "\n",
       "   PVal_parentales_OR spotID  \\\n",
       "0            0.014889  JX337   \n",
       "2            0.041795  JX015   \n",
       "\n",
       "                          ProteinFunctionDescription  \n",
       "0  UDP-glucose:protein transglucosylase-like protein  \n",
       "2                                       Fructokinase  "
      ]
     },
     "execution_count": 26,
     "metadata": {},
     "output_type": "execute_result"
    }
   ],
   "source": [
    "par_sign_OR[(par_sign_OR['Coef_todos_OR'] < 0) & (par_sign_OR['Coef_todos_OR'] < 0)]"
   ]
  },
  {
   "cell_type": "code",
   "execution_count": 28,
   "id": "9c3c07e3",
   "metadata": {},
   "outputs": [],
   "source": [
    "par_sign_OR[(par_sign_OR['Coef_todos_OR'] < 0) & (par_sign_OR['Coef_todos_OR'] < 0)].to_csv('Correlaciones_Parentales_Significativas_OR_Coeficientes_Negativos.csv')"
   ]
  },
  {
   "cell_type": "code",
   "execution_count": 29,
   "id": "400f0d6a",
   "metadata": {},
   "outputs": [
    {
     "data": {
      "text/plain": [
       "(6, 13)"
      ]
     },
     "execution_count": 29,
     "metadata": {},
     "output_type": "execute_result"
    }
   ],
   "source": [
    "#ahora vamos con los que son significativos tanto en CE como en OR\n",
    "\n",
    "par_hib_sign_CE_OR.shape"
   ]
  },
  {
   "cell_type": "code",
   "execution_count": 30,
   "id": "b2ef2e20",
   "metadata": {},
   "outputs": [
    {
     "data": {
      "text/html": [
       "<div>\n",
       "<style scoped>\n",
       "    .dataframe tbody tr th:only-of-type {\n",
       "        vertical-align: middle;\n",
       "    }\n",
       "\n",
       "    .dataframe tbody tr th {\n",
       "        vertical-align: top;\n",
       "    }\n",
       "\n",
       "    .dataframe thead th {\n",
       "        text-align: right;\n",
       "    }\n",
       "</style>\n",
       "<table border=\"1\" class=\"dataframe\">\n",
       "  <thead>\n",
       "    <tr style=\"text-align: right;\">\n",
       "      <th></th>\n",
       "      <th>Unnamed: 0</th>\n",
       "      <th>Unicidad</th>\n",
       "      <th>Locus_x</th>\n",
       "      <th>spotID</th>\n",
       "      <th>ProteinFunctionDescription</th>\n",
       "      <th>Coef_todos_CE</th>\n",
       "      <th>PVal_todos_CE</th>\n",
       "      <th>Coef_parentales_CE</th>\n",
       "      <th>PVal_parentales_CE</th>\n",
       "      <th>Coef_todos_OR</th>\n",
       "      <th>PVal_todos_OR</th>\n",
       "      <th>Coef_parentales_OR</th>\n",
       "      <th>PVal_parentales_OR</th>\n",
       "    </tr>\n",
       "  </thead>\n",
       "  <tbody>\n",
       "    <tr>\n",
       "      <th>0</th>\n",
       "      <td>2</td>\n",
       "      <td>148</td>\n",
       "      <td>Solyc03g083910</td>\n",
       "      <td>JX237</td>\n",
       "      <td>vacuolar acid invertase</td>\n",
       "      <td>0.953065</td>\n",
       "      <td>0.000070</td>\n",
       "      <td>0.941124</td>\n",
       "      <td>0.005098</td>\n",
       "      <td>0.813676</td>\n",
       "      <td>0.007622</td>\n",
       "      <td>0.840668</td>\n",
       "      <td>0.036058</td>\n",
       "    </tr>\n",
       "    <tr>\n",
       "      <th>1</th>\n",
       "      <td>6</td>\n",
       "      <td>257</td>\n",
       "      <td>Solyc04g073990</td>\n",
       "      <td>JX042</td>\n",
       "      <td>annexin p34</td>\n",
       "      <td>0.857173</td>\n",
       "      <td>0.003144</td>\n",
       "      <td>0.927634</td>\n",
       "      <td>0.007666</td>\n",
       "      <td>0.883333</td>\n",
       "      <td>0.001591</td>\n",
       "      <td>0.942857</td>\n",
       "      <td>0.004805</td>\n",
       "    </tr>\n",
       "    <tr>\n",
       "      <th>2</th>\n",
       "      <td>18</td>\n",
       "      <td>878</td>\n",
       "      <td>Solyc08g082820</td>\n",
       "      <td>JX194</td>\n",
       "      <td>glucose-regulated protein, 78 kD</td>\n",
       "      <td>0.791669</td>\n",
       "      <td>0.011010</td>\n",
       "      <td>0.898645</td>\n",
       "      <td>0.014889</td>\n",
       "      <td>0.798348</td>\n",
       "      <td>0.009892</td>\n",
       "      <td>0.811679</td>\n",
       "      <td>0.049858</td>\n",
       "    </tr>\n",
       "    <tr>\n",
       "      <th>3</th>\n",
       "      <td>23</td>\n",
       "      <td>1015</td>\n",
       "      <td>Solyc01g090710</td>\n",
       "      <td>JX177</td>\n",
       "      <td>Malate dehydrogenase</td>\n",
       "      <td>0.774643</td>\n",
       "      <td>0.014236</td>\n",
       "      <td>0.985611</td>\n",
       "      <td>0.000309</td>\n",
       "      <td>0.953983</td>\n",
       "      <td>0.000066</td>\n",
       "      <td>0.942857</td>\n",
       "      <td>0.004805</td>\n",
       "    </tr>\n",
       "    <tr>\n",
       "      <th>4</th>\n",
       "      <td>28</td>\n",
       "      <td>1437</td>\n",
       "      <td>Solyc06g005490</td>\n",
       "      <td>JX305</td>\n",
       "      <td>Triosephosphate isomerase</td>\n",
       "      <td>-0.839146</td>\n",
       "      <td>0.004678</td>\n",
       "      <td>-0.925820</td>\n",
       "      <td>0.008050</td>\n",
       "      <td>-0.708088</td>\n",
       "      <td>0.032793</td>\n",
       "      <td>-0.833238</td>\n",
       "      <td>0.039396</td>\n",
       "    </tr>\n",
       "    <tr>\n",
       "      <th>5</th>\n",
       "      <td>31</td>\n",
       "      <td>1471</td>\n",
       "      <td>Solyc02g082800</td>\n",
       "      <td>JX351</td>\n",
       "      <td>Ubiquilin-1</td>\n",
       "      <td>0.827070</td>\n",
       "      <td>0.005953</td>\n",
       "      <td>0.882735</td>\n",
       "      <td>0.019820</td>\n",
       "      <td>0.823136</td>\n",
       "      <td>0.006414</td>\n",
       "      <td>0.878310</td>\n",
       "      <td>0.021312</td>\n",
       "    </tr>\n",
       "  </tbody>\n",
       "</table>\n",
       "</div>"
      ],
      "text/plain": [
       "   Unnamed: 0  Unicidad         Locus_x spotID  \\\n",
       "0           2       148  Solyc03g083910  JX237   \n",
       "1           6       257  Solyc04g073990  JX042   \n",
       "2          18       878  Solyc08g082820  JX194   \n",
       "3          23      1015  Solyc01g090710  JX177   \n",
       "4          28      1437  Solyc06g005490  JX305   \n",
       "5          31      1471  Solyc02g082800  JX351   \n",
       "\n",
       "         ProteinFunctionDescription  Coef_todos_CE  PVal_todos_CE  \\\n",
       "0           vacuolar acid invertase       0.953065       0.000070   \n",
       "1                       annexin p34       0.857173       0.003144   \n",
       "2  glucose-regulated protein, 78 kD       0.791669       0.011010   \n",
       "3              Malate dehydrogenase       0.774643       0.014236   \n",
       "4         Triosephosphate isomerase      -0.839146       0.004678   \n",
       "5                       Ubiquilin-1       0.827070       0.005953   \n",
       "\n",
       "   Coef_parentales_CE  PVal_parentales_CE  Coef_todos_OR  PVal_todos_OR  \\\n",
       "0            0.941124            0.005098       0.813676       0.007622   \n",
       "1            0.927634            0.007666       0.883333       0.001591   \n",
       "2            0.898645            0.014889       0.798348       0.009892   \n",
       "3            0.985611            0.000309       0.953983       0.000066   \n",
       "4           -0.925820            0.008050      -0.708088       0.032793   \n",
       "5            0.882735            0.019820       0.823136       0.006414   \n",
       "\n",
       "   Coef_parentales_OR  PVal_parentales_OR  \n",
       "0            0.840668            0.036058  \n",
       "1            0.942857            0.004805  \n",
       "2            0.811679            0.049858  \n",
       "3            0.942857            0.004805  \n",
       "4           -0.833238            0.039396  \n",
       "5            0.878310            0.021312  "
      ]
     },
     "execution_count": 30,
     "metadata": {},
     "output_type": "execute_result"
    }
   ],
   "source": [
    "par_hib_sign_CE_OR"
   ]
  },
  {
   "cell_type": "code",
   "execution_count": 31,
   "id": "12be558a",
   "metadata": {},
   "outputs": [
    {
     "data": {
      "text/plain": [
       "Index(['Unnamed: 0', 'Unicidad', 'Locus_x', 'spotID',\n",
       "       'ProteinFunctionDescription', 'Coef_todos_CE', 'PVal_todos_CE',\n",
       "       'Coef_parentales_CE', 'PVal_parentales_CE', 'Coef_todos_OR',\n",
       "       'PVal_todos_OR', 'Coef_parentales_OR', 'PVal_parentales_OR'],\n",
       "      dtype='object')"
      ]
     },
     "execution_count": 31,
     "metadata": {},
     "output_type": "execute_result"
    }
   ],
   "source": [
    "par_hib_sign_CE_OR.columns"
   ]
  },
  {
   "cell_type": "code",
   "execution_count": 34,
   "id": "c265e961",
   "metadata": {},
   "outputs": [
    {
     "data": {
      "text/plain": [
       "(5, 13)"
      ]
     },
     "execution_count": 34,
     "metadata": {},
     "output_type": "execute_result"
    }
   ],
   "source": [
    "#todos psoitivos\n",
    "par_hib_sign_CE_OR[(par_hib_sign_CE_OR['Coef_todos_CE'] > 0) & (par_hib_sign_CE_OR['Coef_todos_OR'] > 0) & \n",
    "(par_hib_sign_CE_OR['Coef_parentales_CE'] > 0) & (par_hib_sign_CE_OR['Coef_parentales_OR'] > 0)].shape"
   ]
  },
  {
   "cell_type": "code",
   "execution_count": 35,
   "id": "4def8c0f",
   "metadata": {},
   "outputs": [
    {
     "data": {
      "text/plain": [
       "(1, 13)"
      ]
     },
     "execution_count": 35,
     "metadata": {},
     "output_type": "execute_result"
    }
   ],
   "source": [
    "#todos negativos\n",
    "par_hib_sign_CE_OR[(par_hib_sign_CE_OR['Coef_todos_CE'] < 0) & (par_hib_sign_CE_OR['Coef_todos_OR'] < 0) & \n",
    "(par_hib_sign_CE_OR['Coef_parentales_CE'] < 0) & (par_hib_sign_CE_OR['Coef_parentales_OR'] < 0)].shape"
   ]
  },
  {
   "cell_type": "code",
   "execution_count": 36,
   "id": "f709091d",
   "metadata": {},
   "outputs": [],
   "source": [
    "par_hib_sign_CE_OR[(par_hib_sign_CE_OR['Coef_todos_CE'] > 0) & (par_hib_sign_CE_OR['Coef_todos_OR'] > 0) & \n",
    "(par_hib_sign_CE_OR['Coef_parentales_CE'] > 0) & (par_hib_sign_CE_OR['Coef_parentales_OR'] > 0)].to_csv(\n",
    "'Correlaciones_Simultaneamente_Significativas_CE_OR_Coeficientes_Positivos.csv')\n",
    "\n",
    "par_hib_sign_CE_OR[(par_hib_sign_CE_OR['Coef_todos_CE'] < 0) & (par_hib_sign_CE_OR['Coef_todos_OR'] < 0) & \n",
    "(par_hib_sign_CE_OR['Coef_parentales_CE'] < 0) & (par_hib_sign_CE_OR['Coef_parentales_OR'] < 0)].to_csv(\n",
    "'Correlaciones_Simultaneamente_Significativas_CE_OR_Coeficientes_Negativos.csv')"
   ]
  },
  {
   "cell_type": "code",
   "execution_count": null,
   "id": "08abe51e",
   "metadata": {},
   "outputs": [],
   "source": []
  },
  {
   "cell_type": "code",
   "execution_count": null,
   "id": "d250c42f",
   "metadata": {},
   "outputs": [],
   "source": [
    "#los que siguen....\n",
    "#hib_sign_CE_OR = pd.read_csv('Correlaciones_Solo_Hibridos_significativos_CE_OR.csv')\n",
    "#par_sign_CE_OR = pd.read_csv('Correlaciones_Solo_Parentales_significativos_CE_OR.csv')\n",
    "#hib_CE_OR_par_CE_sign = pd.read_csv('Correlacion_Hibridos_CE_OR_Parental_CE_significativos.csv')\n",
    "#hib_CE_OR_par_OR_sign = pd.read_csv('Correlacion_Hibridos_CE_OR_Parental_OR.csv')\n",
    "#par_CE_OR_hib_OR_sign = pd.read_csv('Correlacion_Parentales_CE_OR_Hibrido_OR_Significativos.csv')\n",
    "#par_CE_hib_OR_sign = pd.read_csv('Parental_CE_Hibrido_OR_significativos.csv')"
   ]
  },
  {
   "cell_type": "code",
   "execution_count": 37,
   "id": "3786242a",
   "metadata": {},
   "outputs": [
    {
     "data": {
      "text/plain": [
       "(9, 13)"
      ]
     },
     "execution_count": 37,
     "metadata": {},
     "output_type": "execute_result"
    }
   ],
   "source": [
    "hib_sign_CE_OR.shape"
   ]
  },
  {
   "cell_type": "code",
   "execution_count": 38,
   "id": "37fc1cb2",
   "metadata": {},
   "outputs": [
    {
     "data": {
      "text/html": [
       "<div>\n",
       "<style scoped>\n",
       "    .dataframe tbody tr th:only-of-type {\n",
       "        vertical-align: middle;\n",
       "    }\n",
       "\n",
       "    .dataframe tbody tr th {\n",
       "        vertical-align: top;\n",
       "    }\n",
       "\n",
       "    .dataframe thead th {\n",
       "        text-align: right;\n",
       "    }\n",
       "</style>\n",
       "<table border=\"1\" class=\"dataframe\">\n",
       "  <thead>\n",
       "    <tr style=\"text-align: right;\">\n",
       "      <th></th>\n",
       "      <th>Unnamed: 0</th>\n",
       "      <th>Unicidad</th>\n",
       "      <th>Locus_x</th>\n",
       "      <th>spotID</th>\n",
       "      <th>ProteinFunctionDescription</th>\n",
       "      <th>Coef_todos_CE</th>\n",
       "      <th>PVal_todos_CE</th>\n",
       "      <th>Coef_parentales_CE</th>\n",
       "      <th>PVal_parentales_CE</th>\n",
       "      <th>Coef_todos_OR</th>\n",
       "      <th>PVal_todos_OR</th>\n",
       "      <th>Coef_parentales_OR</th>\n",
       "      <th>PVal_parentales_OR</th>\n",
       "    </tr>\n",
       "  </thead>\n",
       "  <tbody>\n",
       "    <tr>\n",
       "      <th>0</th>\n",
       "      <td>0</td>\n",
       "      <td>116</td>\n",
       "      <td>Solyc12g005860</td>\n",
       "      <td>JX246</td>\n",
       "      <td>3-isopropylmalate dehydratase large subunit</td>\n",
       "      <td>0.716985</td>\n",
       "      <td>0.029711</td>\n",
       "      <td>0.516100</td>\n",
       "      <td>0.294584</td>\n",
       "      <td>0.736408</td>\n",
       "      <td>0.023655</td>\n",
       "      <td>0.485714</td>\n",
       "      <td>0.328723</td>\n",
       "    </tr>\n",
       "    <tr>\n",
       "      <th>1</th>\n",
       "      <td>1</td>\n",
       "      <td>120</td>\n",
       "      <td>Solyc12g099110</td>\n",
       "      <td>JX005</td>\n",
       "      <td>30S ribosomal protein S1</td>\n",
       "      <td>0.798644</td>\n",
       "      <td>0.009844</td>\n",
       "      <td>0.735612</td>\n",
       "      <td>0.095611</td>\n",
       "      <td>0.697504</td>\n",
       "      <td>0.036722</td>\n",
       "      <td>0.657143</td>\n",
       "      <td>0.156175</td>\n",
       "    </tr>\n",
       "    <tr>\n",
       "      <th>2</th>\n",
       "      <td>3</td>\n",
       "      <td>179</td>\n",
       "      <td>Solyc08g079020</td>\n",
       "      <td>JX397</td>\n",
       "      <td>Adenine phosphoribosyltransferase-like protein</td>\n",
       "      <td>0.685160</td>\n",
       "      <td>0.041675</td>\n",
       "      <td>0.617213</td>\n",
       "      <td>0.191744</td>\n",
       "      <td>0.839841</td>\n",
       "      <td>0.004611</td>\n",
       "      <td>0.771517</td>\n",
       "      <td>0.072343</td>\n",
       "    </tr>\n",
       "    <tr>\n",
       "      <th>3</th>\n",
       "      <td>5</td>\n",
       "      <td>255</td>\n",
       "      <td>Solyc04g073990</td>\n",
       "      <td>JX020</td>\n",
       "      <td>annexin p34</td>\n",
       "      <td>0.734472</td>\n",
       "      <td>0.024219</td>\n",
       "      <td>0.765037</td>\n",
       "      <td>0.076326</td>\n",
       "      <td>0.801752</td>\n",
       "      <td>0.009353</td>\n",
       "      <td>0.753702</td>\n",
       "      <td>0.083523</td>\n",
       "    </tr>\n",
       "    <tr>\n",
       "      <th>4</th>\n",
       "      <td>8</td>\n",
       "      <td>376</td>\n",
       "      <td>Solyc08g082820</td>\n",
       "      <td>JX208</td>\n",
       "      <td>glucose-regulated protein, 78 kD</td>\n",
       "      <td>0.668153</td>\n",
       "      <td>0.049174</td>\n",
       "      <td>0.478091</td>\n",
       "      <td>0.337502</td>\n",
       "      <td>0.667173</td>\n",
       "      <td>0.049630</td>\n",
       "      <td>0.555492</td>\n",
       "      <td>0.252466</td>\n",
       "    </tr>\n",
       "    <tr>\n",
       "      <th>5</th>\n",
       "      <td>12</td>\n",
       "      <td>696</td>\n",
       "      <td>Solyc01g109420</td>\n",
       "      <td>JX297</td>\n",
       "      <td>Flavoprotein wrbA</td>\n",
       "      <td>-0.786583</td>\n",
       "      <td>0.011915</td>\n",
       "      <td>-0.676763</td>\n",
       "      <td>0.139837</td>\n",
       "      <td>-0.687005</td>\n",
       "      <td>0.040909</td>\n",
       "      <td>-0.516100</td>\n",
       "      <td>0.294584</td>\n",
       "    </tr>\n",
       "    <tr>\n",
       "      <th>6</th>\n",
       "      <td>25</td>\n",
       "      <td>1210</td>\n",
       "      <td>Solyc06g066740</td>\n",
       "      <td>JX010</td>\n",
       "      <td>RAN binding protein 3</td>\n",
       "      <td>0.724569</td>\n",
       "      <td>0.027239</td>\n",
       "      <td>0.654654</td>\n",
       "      <td>0.158302</td>\n",
       "      <td>0.724569</td>\n",
       "      <td>0.027239</td>\n",
       "      <td>0.654654</td>\n",
       "      <td>0.158302</td>\n",
       "    </tr>\n",
       "    <tr>\n",
       "      <th>7</th>\n",
       "      <td>27</td>\n",
       "      <td>1390</td>\n",
       "      <td>Solyc03g006970</td>\n",
       "      <td>JX382</td>\n",
       "      <td>serine protease SBT2</td>\n",
       "      <td>-0.703788</td>\n",
       "      <td>0.034355</td>\n",
       "      <td>-0.771517</td>\n",
       "      <td>0.072343</td>\n",
       "      <td>-0.670820</td>\n",
       "      <td>0.047945</td>\n",
       "      <td>-0.740656</td>\n",
       "      <td>0.092167</td>\n",
       "    </tr>\n",
       "    <tr>\n",
       "      <th>8</th>\n",
       "      <td>30</td>\n",
       "      <td>1455</td>\n",
       "      <td>Solyc10g080940</td>\n",
       "      <td>JX277</td>\n",
       "      <td>Tubulin beta chain</td>\n",
       "      <td>0.743216</td>\n",
       "      <td>0.021743</td>\n",
       "      <td>0.758971</td>\n",
       "      <td>0.080141</td>\n",
       "      <td>-0.764217</td>\n",
       "      <td>0.016495</td>\n",
       "      <td>-0.794461</td>\n",
       "      <td>0.059028</td>\n",
       "    </tr>\n",
       "  </tbody>\n",
       "</table>\n",
       "</div>"
      ],
      "text/plain": [
       "   Unnamed: 0  Unicidad         Locus_x spotID  \\\n",
       "0           0       116  Solyc12g005860  JX246   \n",
       "1           1       120  Solyc12g099110  JX005   \n",
       "2           3       179  Solyc08g079020  JX397   \n",
       "3           5       255  Solyc04g073990  JX020   \n",
       "4           8       376  Solyc08g082820  JX208   \n",
       "5          12       696  Solyc01g109420  JX297   \n",
       "6          25      1210  Solyc06g066740  JX010   \n",
       "7          27      1390  Solyc03g006970  JX382   \n",
       "8          30      1455  Solyc10g080940  JX277   \n",
       "\n",
       "                       ProteinFunctionDescription  Coef_todos_CE  \\\n",
       "0     3-isopropylmalate dehydratase large subunit       0.716985   \n",
       "1                        30S ribosomal protein S1       0.798644   \n",
       "2  Adenine phosphoribosyltransferase-like protein       0.685160   \n",
       "3                                     annexin p34       0.734472   \n",
       "4                glucose-regulated protein, 78 kD       0.668153   \n",
       "5                               Flavoprotein wrbA      -0.786583   \n",
       "6                           RAN binding protein 3       0.724569   \n",
       "7                            serine protease SBT2      -0.703788   \n",
       "8                              Tubulin beta chain       0.743216   \n",
       "\n",
       "   PVal_todos_CE  Coef_parentales_CE  PVal_parentales_CE  Coef_todos_OR  \\\n",
       "0       0.029711            0.516100            0.294584       0.736408   \n",
       "1       0.009844            0.735612            0.095611       0.697504   \n",
       "2       0.041675            0.617213            0.191744       0.839841   \n",
       "3       0.024219            0.765037            0.076326       0.801752   \n",
       "4       0.049174            0.478091            0.337502       0.667173   \n",
       "5       0.011915           -0.676763            0.139837      -0.687005   \n",
       "6       0.027239            0.654654            0.158302       0.724569   \n",
       "7       0.034355           -0.771517            0.072343      -0.670820   \n",
       "8       0.021743            0.758971            0.080141      -0.764217   \n",
       "\n",
       "   PVal_todos_OR  Coef_parentales_OR  PVal_parentales_OR  \n",
       "0       0.023655            0.485714            0.328723  \n",
       "1       0.036722            0.657143            0.156175  \n",
       "2       0.004611            0.771517            0.072343  \n",
       "3       0.009353            0.753702            0.083523  \n",
       "4       0.049630            0.555492            0.252466  \n",
       "5       0.040909           -0.516100            0.294584  \n",
       "6       0.027239            0.654654            0.158302  \n",
       "7       0.047945           -0.740656            0.092167  \n",
       "8       0.016495           -0.794461            0.059028  "
      ]
     },
     "execution_count": 38,
     "metadata": {},
     "output_type": "execute_result"
    }
   ],
   "source": [
    "hib_sign_CE_OR"
   ]
  },
  {
   "cell_type": "code",
   "execution_count": 39,
   "id": "3149f80b",
   "metadata": {},
   "outputs": [
    {
     "data": {
      "text/plain": [
       "(6, 13)"
      ]
     },
     "execution_count": 39,
     "metadata": {},
     "output_type": "execute_result"
    }
   ],
   "source": [
    "#todos positivos\n",
    "\n",
    "hib_sign_CE_OR[(hib_sign_CE_OR['Coef_todos_CE'] > 0) & (hib_sign_CE_OR['Coef_todos_OR'] > 0) &\n",
    "(hib_sign_CE_OR['Coef_parentales_CE'] > 0) & (hib_sign_CE_OR['Coef_parentales_OR'] > 0)].shape"
   ]
  },
  {
   "cell_type": "code",
   "execution_count": 40,
   "id": "9606a85a",
   "metadata": {},
   "outputs": [
    {
     "data": {
      "text/plain": [
       "(2, 13)"
      ]
     },
     "execution_count": 40,
     "metadata": {},
     "output_type": "execute_result"
    }
   ],
   "source": [
    "#todos negativos\n",
    "\n",
    "hib_sign_CE_OR[(hib_sign_CE_OR['Coef_todos_CE'] < 0) & (hib_sign_CE_OR['Coef_todos_OR'] < 0) &\n",
    "(hib_sign_CE_OR['Coef_parentales_CE'] < 0) & (hib_sign_CE_OR['Coef_parentales_OR'] < 0)].shape"
   ]
  },
  {
   "cell_type": "code",
   "execution_count": 41,
   "id": "2f69770d",
   "metadata": {},
   "outputs": [
    {
     "data": {
      "text/plain": [
       "(1, 13)"
      ]
     },
     "execution_count": 41,
     "metadata": {},
     "output_type": "execute_result"
    }
   ],
   "source": [
    "# coeficientes en CE positivo, OR Negativo\n",
    "hib_sign_CE_OR[(hib_sign_CE_OR['Coef_todos_CE'] > 0) & (hib_sign_CE_OR['Coef_todos_OR'] < 0) &\n",
    "(hib_sign_CE_OR['Coef_parentales_CE'] > 0) & (hib_sign_CE_OR['Coef_parentales_OR'] < 0)].shape"
   ]
  },
  {
   "cell_type": "code",
   "execution_count": 42,
   "id": "9b86e86f",
   "metadata": {},
   "outputs": [],
   "source": [
    "#ahora los guardo\n",
    "\n",
    "hib_sign_CE_OR[(hib_sign_CE_OR['Coef_todos_CE'] > 0) & (hib_sign_CE_OR['Coef_todos_OR'] > 0) &\n",
    "(hib_sign_CE_OR['Coef_parentales_CE'] > 0) & (hib_sign_CE_OR['Coef_parentales_OR'] > 0)].to_csv(\n",
    "'Correlaciones_Solo_Hibridos_significativos_CE_OR_Coeficientes_Positivos.csv')\n",
    "\n",
    "hib_sign_CE_OR[(hib_sign_CE_OR['Coef_todos_CE'] < 0) & (hib_sign_CE_OR['Coef_todos_OR'] < 0) &\n",
    "(hib_sign_CE_OR['Coef_parentales_CE'] < 0) & (hib_sign_CE_OR['Coef_parentales_OR'] < 0)].to_csv(\n",
    "'Correlaciones_Solo_Hibridos_significativos_CE_OR_Coeficientes_Negativos.csv')\n",
    "\n",
    "hib_sign_CE_OR[(hib_sign_CE_OR['Coef_todos_CE'] > 0) & (hib_sign_CE_OR['Coef_todos_OR'] < 0) &\n",
    "(hib_sign_CE_OR['Coef_parentales_CE'] > 0) & (hib_sign_CE_OR['Coef_parentales_OR'] < 0)].to_csv(\n",
    "'Correlaciones_Solo_Hibridos_significativos_CE_OR_Coeficientes_Positivos_CE_Negativos_OR.csv')"
   ]
  },
  {
   "cell_type": "code",
   "execution_count": 43,
   "id": "9b5ecb92",
   "metadata": {},
   "outputs": [
    {
     "data": {
      "text/plain": [
       "(1, 13)"
      ]
     },
     "execution_count": 43,
     "metadata": {},
     "output_type": "execute_result"
    }
   ],
   "source": [
    "#ahora par_sign_CE_OR\n",
    "\n",
    "par_sign_CE_OR.shape"
   ]
  },
  {
   "cell_type": "code",
   "execution_count": 44,
   "id": "46bdb7ea",
   "metadata": {},
   "outputs": [
    {
     "data": {
      "text/html": [
       "<div>\n",
       "<style scoped>\n",
       "    .dataframe tbody tr th:only-of-type {\n",
       "        vertical-align: middle;\n",
       "    }\n",
       "\n",
       "    .dataframe tbody tr th {\n",
       "        vertical-align: top;\n",
       "    }\n",
       "\n",
       "    .dataframe thead th {\n",
       "        text-align: right;\n",
       "    }\n",
       "</style>\n",
       "<table border=\"1\" class=\"dataframe\">\n",
       "  <thead>\n",
       "    <tr style=\"text-align: right;\">\n",
       "      <th></th>\n",
       "      <th>Unnamed: 0</th>\n",
       "      <th>Unicidad</th>\n",
       "      <th>Locus_x</th>\n",
       "      <th>spotID</th>\n",
       "      <th>ProteinFunctionDescription</th>\n",
       "      <th>Coef_todos_CE</th>\n",
       "      <th>PVal_todos_CE</th>\n",
       "      <th>Coef_parentales_CE</th>\n",
       "      <th>PVal_parentales_CE</th>\n",
       "      <th>Coef_todos_OR</th>\n",
       "      <th>PVal_todos_OR</th>\n",
       "      <th>Coef_parentales_OR</th>\n",
       "      <th>PVal_parentales_OR</th>\n",
       "    </tr>\n",
       "  </thead>\n",
       "  <tbody>\n",
       "    <tr>\n",
       "      <th>0</th>\n",
       "      <td>19</td>\n",
       "      <td>898</td>\n",
       "      <td>Solyc09g010630</td>\n",
       "      <td>JX200</td>\n",
       "      <td>HSC2-like</td>\n",
       "      <td>0.203419</td>\n",
       "      <td>0.599623</td>\n",
       "      <td>0.819689</td>\n",
       "      <td>0.045837</td>\n",
       "      <td>-0.29794</td>\n",
       "      <td>0.436166</td>\n",
       "      <td>-0.811679</td>\n",
       "      <td>0.049858</td>\n",
       "    </tr>\n",
       "  </tbody>\n",
       "</table>\n",
       "</div>"
      ],
      "text/plain": [
       "   Unnamed: 0  Unicidad         Locus_x spotID ProteinFunctionDescription  \\\n",
       "0          19       898  Solyc09g010630  JX200                  HSC2-like   \n",
       "\n",
       "   Coef_todos_CE  PVal_todos_CE  Coef_parentales_CE  PVal_parentales_CE  \\\n",
       "0       0.203419       0.599623            0.819689            0.045837   \n",
       "\n",
       "   Coef_todos_OR  PVal_todos_OR  Coef_parentales_OR  PVal_parentales_OR  \n",
       "0       -0.29794       0.436166           -0.811679            0.049858  "
      ]
     },
     "execution_count": 44,
     "metadata": {},
     "output_type": "execute_result"
    }
   ],
   "source": [
    "par_sign_CE_OR"
   ]
  },
  {
   "cell_type": "code",
   "execution_count": 45,
   "id": "3023e298",
   "metadata": {},
   "outputs": [
    {
     "data": {
      "text/plain": [
       "(6, 13)"
      ]
     },
     "execution_count": 45,
     "metadata": {},
     "output_type": "execute_result"
    }
   ],
   "source": [
    "#modificado a mano... sigue...\n",
    "\n",
    "#hib_CE_OR_par_CE_sign = pd.read_csv('Correlacion_Hibridos_CE_OR_Parental_CE_significativos.csv')\n",
    "\n",
    "hib_CE_OR_par_CE_sign.shape"
   ]
  },
  {
   "cell_type": "code",
   "execution_count": 46,
   "id": "d9003fbd",
   "metadata": {},
   "outputs": [
    {
     "data": {
      "text/plain": [
       "(6, 13)"
      ]
     },
     "execution_count": 46,
     "metadata": {},
     "output_type": "execute_result"
    }
   ],
   "source": [
    "#todos positivos\n",
    "\n",
    "hib_CE_OR_par_CE_sign.shape"
   ]
  },
  {
   "cell_type": "code",
   "execution_count": 47,
   "id": "73919382",
   "metadata": {},
   "outputs": [
    {
     "data": {
      "text/html": [
       "<div>\n",
       "<style scoped>\n",
       "    .dataframe tbody tr th:only-of-type {\n",
       "        vertical-align: middle;\n",
       "    }\n",
       "\n",
       "    .dataframe tbody tr th {\n",
       "        vertical-align: top;\n",
       "    }\n",
       "\n",
       "    .dataframe thead th {\n",
       "        text-align: right;\n",
       "    }\n",
       "</style>\n",
       "<table border=\"1\" class=\"dataframe\">\n",
       "  <thead>\n",
       "    <tr style=\"text-align: right;\">\n",
       "      <th></th>\n",
       "      <th>Unnamed: 0</th>\n",
       "      <th>Unicidad</th>\n",
       "      <th>Locus_x</th>\n",
       "      <th>spotID</th>\n",
       "      <th>ProteinFunctionDescription</th>\n",
       "      <th>Coef_todos_CE</th>\n",
       "      <th>PVal_todos_CE</th>\n",
       "      <th>Coef_parentales_CE</th>\n",
       "      <th>PVal_parentales_CE</th>\n",
       "      <th>Coef_todos_OR</th>\n",
       "      <th>PVal_todos_OR</th>\n",
       "      <th>Coef_parentales_OR</th>\n",
       "      <th>PVal_parentales_OR</th>\n",
       "    </tr>\n",
       "  </thead>\n",
       "  <tbody>\n",
       "    <tr>\n",
       "      <th>0</th>\n",
       "      <td>7</td>\n",
       "      <td>298</td>\n",
       "      <td>Solyc04g071610</td>\n",
       "      <td>JX418</td>\n",
       "      <td>DNA-binding and chaperon-like activity</td>\n",
       "      <td>-0.853247</td>\n",
       "      <td>0.003443</td>\n",
       "      <td>-0.845154</td>\n",
       "      <td>0.034109</td>\n",
       "      <td>-0.798199</td>\n",
       "      <td>0.009916</td>\n",
       "      <td>-0.777542</td>\n",
       "      <td>0.068727</td>\n",
       "    </tr>\n",
       "    <tr>\n",
       "      <th>1</th>\n",
       "      <td>16</td>\n",
       "      <td>830</td>\n",
       "      <td>Solyc11g066100</td>\n",
       "      <td>JX140</td>\n",
       "      <td>heat shock protein</td>\n",
       "      <td>0.836660</td>\n",
       "      <td>0.004924</td>\n",
       "      <td>0.925820</td>\n",
       "      <td>0.008050</td>\n",
       "      <td>0.695593</td>\n",
       "      <td>0.037463</td>\n",
       "      <td>0.765037</td>\n",
       "      <td>0.076326</td>\n",
       "    </tr>\n",
       "    <tr>\n",
       "      <th>2</th>\n",
       "      <td>20</td>\n",
       "      <td>964</td>\n",
       "      <td>Solyc12g007310</td>\n",
       "      <td>JX291</td>\n",
       "      <td>Lactoylglutathione lyase</td>\n",
       "      <td>0.916667</td>\n",
       "      <td>0.000507</td>\n",
       "      <td>0.885714</td>\n",
       "      <td>0.018845</td>\n",
       "      <td>0.811723</td>\n",
       "      <td>0.007889</td>\n",
       "      <td>0.753702</td>\n",
       "      <td>0.083523</td>\n",
       "    </tr>\n",
       "    <tr>\n",
       "      <th>3</th>\n",
       "      <td>24</td>\n",
       "      <td>1032</td>\n",
       "      <td>Solyc03g120230</td>\n",
       "      <td>JX352</td>\n",
       "      <td>MAR-binding filament-like protein 1</td>\n",
       "      <td>0.821584</td>\n",
       "      <td>0.006603</td>\n",
       "      <td>0.828079</td>\n",
       "      <td>0.041795</td>\n",
       "      <td>-0.724569</td>\n",
       "      <td>0.027239</td>\n",
       "      <td>-0.654654</td>\n",
       "      <td>0.158302</td>\n",
       "    </tr>\n",
       "    <tr>\n",
       "      <th>4</th>\n",
       "      <td>26</td>\n",
       "      <td>1309</td>\n",
       "      <td>Solyc06g050550</td>\n",
       "      <td>JX221</td>\n",
       "      <td>Sorting nexin 1</td>\n",
       "      <td>0.730297</td>\n",
       "      <td>0.025464</td>\n",
       "      <td>0.845154</td>\n",
       "      <td>0.034109</td>\n",
       "      <td>0.724569</td>\n",
       "      <td>0.027239</td>\n",
       "      <td>0.654654</td>\n",
       "      <td>0.158302</td>\n",
       "    </tr>\n",
       "    <tr>\n",
       "      <th>5</th>\n",
       "      <td>29</td>\n",
       "      <td>1442</td>\n",
       "      <td>Solyc04g054950</td>\n",
       "      <td>JX348</td>\n",
       "      <td>Tropinone reductase I</td>\n",
       "      <td>0.900545</td>\n",
       "      <td>0.000926</td>\n",
       "      <td>0.940403</td>\n",
       "      <td>0.005222</td>\n",
       "      <td>0.710441</td>\n",
       "      <td>0.031959</td>\n",
       "      <td>0.664211</td>\n",
       "      <td>0.150200</td>\n",
       "    </tr>\n",
       "  </tbody>\n",
       "</table>\n",
       "</div>"
      ],
      "text/plain": [
       "   Unnamed: 0  Unicidad         Locus_x spotID  \\\n",
       "0           7       298  Solyc04g071610  JX418   \n",
       "1          16       830  Solyc11g066100  JX140   \n",
       "2          20       964  Solyc12g007310  JX291   \n",
       "3          24      1032  Solyc03g120230  JX352   \n",
       "4          26      1309  Solyc06g050550  JX221   \n",
       "5          29      1442  Solyc04g054950  JX348   \n",
       "\n",
       "               ProteinFunctionDescription  Coef_todos_CE  PVal_todos_CE  \\\n",
       "0  DNA-binding and chaperon-like activity      -0.853247       0.003443   \n",
       "1                      heat shock protein       0.836660       0.004924   \n",
       "2                Lactoylglutathione lyase       0.916667       0.000507   \n",
       "3     MAR-binding filament-like protein 1       0.821584       0.006603   \n",
       "4                         Sorting nexin 1       0.730297       0.025464   \n",
       "5                   Tropinone reductase I       0.900545       0.000926   \n",
       "\n",
       "   Coef_parentales_CE  PVal_parentales_CE  Coef_todos_OR  PVal_todos_OR  \\\n",
       "0           -0.845154            0.034109      -0.798199       0.009916   \n",
       "1            0.925820            0.008050       0.695593       0.037463   \n",
       "2            0.885714            0.018845       0.811723       0.007889   \n",
       "3            0.828079            0.041795      -0.724569       0.027239   \n",
       "4            0.845154            0.034109       0.724569       0.027239   \n",
       "5            0.940403            0.005222       0.710441       0.031959   \n",
       "\n",
       "   Coef_parentales_OR  PVal_parentales_OR  \n",
       "0           -0.777542            0.068727  \n",
       "1            0.765037            0.076326  \n",
       "2            0.753702            0.083523  \n",
       "3           -0.654654            0.158302  \n",
       "4            0.654654            0.158302  \n",
       "5            0.664211            0.150200  "
      ]
     },
     "execution_count": 47,
     "metadata": {},
     "output_type": "execute_result"
    }
   ],
   "source": [
    "hib_CE_OR_par_CE_sign"
   ]
  },
  {
   "cell_type": "code",
   "execution_count": 48,
   "id": "0be57427",
   "metadata": {},
   "outputs": [
    {
     "data": {
      "text/plain": [
       "(4, 13)"
      ]
     },
     "execution_count": 48,
     "metadata": {},
     "output_type": "execute_result"
    }
   ],
   "source": [
    "#positivos todos los coef\n",
    "hib_CE_OR_par_CE_sign[(hib_CE_OR_par_CE_sign['Coef_todos_CE']>0)&(hib_CE_OR_par_CE_sign['Coef_todos_OR']>0)&\n",
    "(hib_CE_OR_par_CE_sign['Coef_parentales_CE']>0)&(hib_CE_OR_par_CE_sign['Coef_parentales_OR']>0)].shape"
   ]
  },
  {
   "cell_type": "code",
   "execution_count": 49,
   "id": "f902b754",
   "metadata": {},
   "outputs": [
    {
     "data": {
      "text/plain": [
       "(1, 13)"
      ]
     },
     "execution_count": 49,
     "metadata": {},
     "output_type": "execute_result"
    }
   ],
   "source": [
    "#negativos todos los coef\n",
    "hib_CE_OR_par_CE_sign[(hib_CE_OR_par_CE_sign['Coef_todos_CE']<0)&(hib_CE_OR_par_CE_sign['Coef_todos_OR']<0)&\n",
    "(hib_CE_OR_par_CE_sign['Coef_parentales_CE']<0)&(hib_CE_OR_par_CE_sign['Coef_parentales_OR']<0)].shape"
   ]
  },
  {
   "cell_type": "code",
   "execution_count": 50,
   "id": "0e585be7",
   "metadata": {},
   "outputs": [
    {
     "data": {
      "text/plain": [
       "(1, 13)"
      ]
     },
     "execution_count": 50,
     "metadata": {},
     "output_type": "execute_result"
    }
   ],
   "source": [
    "#Coef CE pos y OR negativo\n",
    "hib_CE_OR_par_CE_sign[(hib_CE_OR_par_CE_sign['Coef_todos_CE']>0)&(hib_CE_OR_par_CE_sign['Coef_todos_OR']<0)&\n",
    "(hib_CE_OR_par_CE_sign['Coef_parentales_CE']>0)&(hib_CE_OR_par_CE_sign['Coef_parentales_OR']<0)].shape"
   ]
  },
  {
   "cell_type": "code",
   "execution_count": 51,
   "id": "c278a0d9",
   "metadata": {},
   "outputs": [],
   "source": [
    "hib_CE_OR_par_CE_sign[(hib_CE_OR_par_CE_sign['Coef_todos_CE']>0)&(hib_CE_OR_par_CE_sign['Coef_todos_OR']>0)&\n",
    "(hib_CE_OR_par_CE_sign['Coef_parentales_CE']>0)&(hib_CE_OR_par_CE_sign['Coef_parentales_OR']>0)].to_csv(\n",
    "'Correlacion_Hibridos_CE_OR_Parental_CE_significativos_Coeficientes_Positivos.csv')\n",
    "\n",
    "hib_CE_OR_par_CE_sign[(hib_CE_OR_par_CE_sign['Coef_todos_CE']<0)&(hib_CE_OR_par_CE_sign['Coef_todos_OR']<0)&\n",
    "(hib_CE_OR_par_CE_sign['Coef_parentales_CE']<0)&(hib_CE_OR_par_CE_sign['Coef_parentales_OR']<0)].to_csv(\n",
    "'Correlacion_Hibridos_CE_OR_Parental_CE_significativos_Coeficientes_Negativos.csv')\n",
    "\n",
    "hib_CE_OR_par_CE_sign[(hib_CE_OR_par_CE_sign['Coef_todos_CE']>0)&(hib_CE_OR_par_CE_sign['Coef_todos_OR']<0)&\n",
    "(hib_CE_OR_par_CE_sign['Coef_parentales_CE']>0)&(hib_CE_OR_par_CE_sign['Coef_parentales_OR']<0)].to_csv(\n",
    "'Correlacion_Hibridos_CE_OR_Parental_CE_significativos_Coeficientes_Positivos_CE_Negativos_OR.csv')"
   ]
  },
  {
   "cell_type": "code",
   "execution_count": 52,
   "id": "ef362c30",
   "metadata": {},
   "outputs": [
    {
     "data": {
      "text/plain": [
       "(5, 13)"
      ]
     },
     "execution_count": 52,
     "metadata": {},
     "output_type": "execute_result"
    }
   ],
   "source": [
    "#vamos con #hib_CE_OR_par_OR_sign = pd.read_csv('Correlacion_Hibridos_CE_OR_Parental_OR.csv')\n",
    "\n",
    "hib_CE_OR_par_OR_sign.shape"
   ]
  },
  {
   "cell_type": "code",
   "execution_count": 53,
   "id": "6a273c92",
   "metadata": {},
   "outputs": [
    {
     "data": {
      "text/html": [
       "<div>\n",
       "<style scoped>\n",
       "    .dataframe tbody tr th:only-of-type {\n",
       "        vertical-align: middle;\n",
       "    }\n",
       "\n",
       "    .dataframe tbody tr th {\n",
       "        vertical-align: top;\n",
       "    }\n",
       "\n",
       "    .dataframe thead th {\n",
       "        text-align: right;\n",
       "    }\n",
       "</style>\n",
       "<table border=\"1\" class=\"dataframe\">\n",
       "  <thead>\n",
       "    <tr style=\"text-align: right;\">\n",
       "      <th></th>\n",
       "      <th>Unnamed: 0</th>\n",
       "      <th>Unicidad</th>\n",
       "      <th>Locus_x</th>\n",
       "      <th>spotID</th>\n",
       "      <th>ProteinFunctionDescription</th>\n",
       "      <th>Coef_todos_CE</th>\n",
       "      <th>PVal_todos_CE</th>\n",
       "      <th>Coef_parentales_CE</th>\n",
       "      <th>PVal_parentales_CE</th>\n",
       "      <th>Coef_todos_OR</th>\n",
       "      <th>PVal_todos_OR</th>\n",
       "      <th>Coef_parentales_OR</th>\n",
       "      <th>PVal_parentales_OR</th>\n",
       "    </tr>\n",
       "  </thead>\n",
       "  <tbody>\n",
       "    <tr>\n",
       "      <th>0</th>\n",
       "      <td>9</td>\n",
       "      <td>479</td>\n",
       "      <td>Solyc06g076560</td>\n",
       "      <td>JX085</td>\n",
       "      <td>class I heat shock protein</td>\n",
       "      <td>0.772315</td>\n",
       "      <td>0.014721</td>\n",
       "      <td>0.676123</td>\n",
       "      <td>0.140357</td>\n",
       "      <td>0.751960</td>\n",
       "      <td>0.019441</td>\n",
       "      <td>0.819689</td>\n",
       "      <td>0.045837</td>\n",
       "    </tr>\n",
       "    <tr>\n",
       "      <th>1</th>\n",
       "      <td>10</td>\n",
       "      <td>551</td>\n",
       "      <td>Solyc01g097920</td>\n",
       "      <td>JX402</td>\n",
       "      <td>Cysteine synthase</td>\n",
       "      <td>-0.782624</td>\n",
       "      <td>0.012654</td>\n",
       "      <td>-0.777542</td>\n",
       "      <td>0.068727</td>\n",
       "      <td>-0.677296</td>\n",
       "      <td>0.045043</td>\n",
       "      <td>-0.845154</td>\n",
       "      <td>0.034109</td>\n",
       "    </tr>\n",
       "    <tr>\n",
       "      <th>2</th>\n",
       "      <td>11</td>\n",
       "      <td>552</td>\n",
       "      <td>Solyc01g097950</td>\n",
       "      <td>JX402</td>\n",
       "      <td>Cysteine synthase</td>\n",
       "      <td>-0.708088</td>\n",
       "      <td>0.032793</td>\n",
       "      <td>-0.777542</td>\n",
       "      <td>0.068727</td>\n",
       "      <td>-0.756978</td>\n",
       "      <td>0.018196</td>\n",
       "      <td>-0.845154</td>\n",
       "      <td>0.034109</td>\n",
       "    </tr>\n",
       "    <tr>\n",
       "      <th>3</th>\n",
       "      <td>22</td>\n",
       "      <td>1001</td>\n",
       "      <td>Solyc12g014180</td>\n",
       "      <td>JX004</td>\n",
       "      <td>Malate dehydrogenase</td>\n",
       "      <td>0.769447</td>\n",
       "      <td>0.015334</td>\n",
       "      <td>0.698253</td>\n",
       "      <td>0.122839</td>\n",
       "      <td>0.791669</td>\n",
       "      <td>0.011010</td>\n",
       "      <td>0.971008</td>\n",
       "      <td>0.001249</td>\n",
       "    </tr>\n",
       "    <tr>\n",
       "      <th>4</th>\n",
       "      <td>32</td>\n",
       "      <td>1477</td>\n",
       "      <td>Solyc12g098420</td>\n",
       "      <td>JX158</td>\n",
       "      <td>Ubiquitin carboxyl-terminal hydrolase</td>\n",
       "      <td>0.865577</td>\n",
       "      <td>0.002565</td>\n",
       "      <td>0.753702</td>\n",
       "      <td>0.083523</td>\n",
       "      <td>0.953065</td>\n",
       "      <td>0.000070</td>\n",
       "      <td>0.925820</td>\n",
       "      <td>0.008050</td>\n",
       "    </tr>\n",
       "  </tbody>\n",
       "</table>\n",
       "</div>"
      ],
      "text/plain": [
       "   Unnamed: 0  Unicidad         Locus_x spotID  \\\n",
       "0           9       479  Solyc06g076560  JX085   \n",
       "1          10       551  Solyc01g097920  JX402   \n",
       "2          11       552  Solyc01g097950  JX402   \n",
       "3          22      1001  Solyc12g014180  JX004   \n",
       "4          32      1477  Solyc12g098420  JX158   \n",
       "\n",
       "              ProteinFunctionDescription  Coef_todos_CE  PVal_todos_CE  \\\n",
       "0             class I heat shock protein       0.772315       0.014721   \n",
       "1                      Cysteine synthase      -0.782624       0.012654   \n",
       "2                      Cysteine synthase      -0.708088       0.032793   \n",
       "3                   Malate dehydrogenase       0.769447       0.015334   \n",
       "4  Ubiquitin carboxyl-terminal hydrolase       0.865577       0.002565   \n",
       "\n",
       "   Coef_parentales_CE  PVal_parentales_CE  Coef_todos_OR  PVal_todos_OR  \\\n",
       "0            0.676123            0.140357       0.751960       0.019441   \n",
       "1           -0.777542            0.068727      -0.677296       0.045043   \n",
       "2           -0.777542            0.068727      -0.756978       0.018196   \n",
       "3            0.698253            0.122839       0.791669       0.011010   \n",
       "4            0.753702            0.083523       0.953065       0.000070   \n",
       "\n",
       "   Coef_parentales_OR  PVal_parentales_OR  \n",
       "0            0.819689            0.045837  \n",
       "1           -0.845154            0.034109  \n",
       "2           -0.845154            0.034109  \n",
       "3            0.971008            0.001249  \n",
       "4            0.925820            0.008050  "
      ]
     },
     "execution_count": 53,
     "metadata": {},
     "output_type": "execute_result"
    }
   ],
   "source": [
    "#inspeciion ocular\n",
    "hib_CE_OR_par_OR_sign"
   ]
  },
  {
   "cell_type": "code",
   "execution_count": 55,
   "id": "681f8fc0",
   "metadata": {},
   "outputs": [
    {
     "data": {
      "text/plain": [
       "(3, 13)"
      ]
     },
     "execution_count": 55,
     "metadata": {},
     "output_type": "execute_result"
    }
   ],
   "source": [
    "#coef positivo , positivo\n",
    "\n",
    "hib_CE_OR_par_OR_sign[(hib_CE_OR_par_OR_sign['Coef_todos_CE']>0)&(hib_CE_OR_par_OR_sign['Coef_todos_OR']>0)&\n",
    "(hib_CE_OR_par_OR_sign['Coef_parentales_CE']>0)&(hib_CE_OR_par_OR_sign['Coef_parentales_OR']>0)].shape"
   ]
  },
  {
   "cell_type": "code",
   "execution_count": 56,
   "id": "0bb75c78",
   "metadata": {},
   "outputs": [
    {
     "data": {
      "text/plain": [
       "(2, 13)"
      ]
     },
     "execution_count": 56,
     "metadata": {},
     "output_type": "execute_result"
    }
   ],
   "source": [
    "#coef negativo , negativo\n",
    "\n",
    "hib_CE_OR_par_OR_sign[(hib_CE_OR_par_OR_sign['Coef_todos_CE']<0)&(hib_CE_OR_par_OR_sign['Coef_todos_OR']<0)&\n",
    "(hib_CE_OR_par_OR_sign['Coef_parentales_CE']<0)&(hib_CE_OR_par_OR_sign['Coef_parentales_OR']<0)].shape"
   ]
  },
  {
   "cell_type": "code",
   "execution_count": 57,
   "id": "644d4f15",
   "metadata": {},
   "outputs": [],
   "source": [
    "hib_CE_OR_par_OR_sign[(hib_CE_OR_par_OR_sign['Coef_todos_CE']>0)&(hib_CE_OR_par_OR_sign['Coef_todos_OR']>0)&\n",
    "(hib_CE_OR_par_OR_sign['Coef_parentales_CE']>0)&(hib_CE_OR_par_OR_sign['Coef_parentales_OR']>0)].to_csv(\n",
    "'Correlacion_Hibridos_CE_OR_Parental_OR_Coeficientes_Positivos.csv')\n",
    "\n",
    "hib_CE_OR_par_OR_sign[(hib_CE_OR_par_OR_sign['Coef_todos_CE']<0)&(hib_CE_OR_par_OR_sign['Coef_todos_OR']<0)&\n",
    "(hib_CE_OR_par_OR_sign['Coef_parentales_CE']<0)&(hib_CE_OR_par_OR_sign['Coef_parentales_OR']<0)].to_csv(\n",
    "'Correlacion_Hibridos_CE_OR_Parental_OR_Coeficientes_Negativos.csv')"
   ]
  },
  {
   "cell_type": "code",
   "execution_count": null,
   "id": "bad7789d",
   "metadata": {},
   "outputs": [],
   "source": []
  },
  {
   "cell_type": "code",
   "execution_count": 58,
   "id": "7abf7df3",
   "metadata": {},
   "outputs": [
    {
     "data": {
      "text/plain": [
       "(5, 13)"
      ]
     },
     "execution_count": 58,
     "metadata": {},
     "output_type": "execute_result"
    }
   ],
   "source": [
    "#lso que quedan...\n",
    "#par_CE_OR_hib_OR_sign = pd.read_csv('Correlacion_Parentales_CE_OR_Hibrido_OR_Significativos.csv')\n",
    "#par_CE_hib_OR_sign = pd.read_csv('Parental_CE_Hibrido_OR_significativos.csv')\n",
    "\n",
    "par_CE_OR_hib_OR_sign.shape"
   ]
  },
  {
   "cell_type": "code",
   "execution_count": 59,
   "id": "b168276a",
   "metadata": {},
   "outputs": [
    {
     "data": {
      "text/html": [
       "<div>\n",
       "<style scoped>\n",
       "    .dataframe tbody tr th:only-of-type {\n",
       "        vertical-align: middle;\n",
       "    }\n",
       "\n",
       "    .dataframe tbody tr th {\n",
       "        vertical-align: top;\n",
       "    }\n",
       "\n",
       "    .dataframe thead th {\n",
       "        text-align: right;\n",
       "    }\n",
       "</style>\n",
       "<table border=\"1\" class=\"dataframe\">\n",
       "  <thead>\n",
       "    <tr style=\"text-align: right;\">\n",
       "      <th></th>\n",
       "      <th>Unnamed: 0</th>\n",
       "      <th>Unicidad</th>\n",
       "      <th>Locus_x</th>\n",
       "      <th>spotID</th>\n",
       "      <th>ProteinFunctionDescription</th>\n",
       "      <th>Coef_todos_CE</th>\n",
       "      <th>PVal_todos_CE</th>\n",
       "      <th>Coef_parentales_CE</th>\n",
       "      <th>PVal_parentales_CE</th>\n",
       "      <th>Coef_todos_OR</th>\n",
       "      <th>PVal_todos_OR</th>\n",
       "      <th>Coef_parentales_OR</th>\n",
       "      <th>PVal_parentales_OR</th>\n",
       "    </tr>\n",
       "  </thead>\n",
       "  <tbody>\n",
       "    <tr>\n",
       "      <th>0</th>\n",
       "      <td>4</td>\n",
       "      <td>199</td>\n",
       "      <td>Solyc01g097390</td>\n",
       "      <td>JX082</td>\n",
       "      <td>Aldo/keto reductase family protein</td>\n",
       "      <td>-0.456435</td>\n",
       "      <td>0.216838</td>\n",
       "      <td>-0.878310</td>\n",
       "      <td>0.021312</td>\n",
       "      <td>0.821822</td>\n",
       "      <td>0.006573</td>\n",
       "      <td>0.845154</td>\n",
       "      <td>0.034109</td>\n",
       "    </tr>\n",
       "    <tr>\n",
       "      <th>1</th>\n",
       "      <td>13</td>\n",
       "      <td>794</td>\n",
       "      <td>Solyc11g020040</td>\n",
       "      <td>JX072</td>\n",
       "      <td>heat shock protein 70</td>\n",
       "      <td>0.447989</td>\n",
       "      <td>0.226549</td>\n",
       "      <td>0.880406</td>\n",
       "      <td>0.020599</td>\n",
       "      <td>0.677296</td>\n",
       "      <td>0.045043</td>\n",
       "      <td>0.925820</td>\n",
       "      <td>0.008050</td>\n",
       "    </tr>\n",
       "    <tr>\n",
       "      <th>2</th>\n",
       "      <td>14</td>\n",
       "      <td>798</td>\n",
       "      <td>Solyc11g066100</td>\n",
       "      <td>JX072</td>\n",
       "      <td>heat shock protein</td>\n",
       "      <td>0.553399</td>\n",
       "      <td>0.122182</td>\n",
       "      <td>0.941124</td>\n",
       "      <td>0.005098</td>\n",
       "      <td>0.836660</td>\n",
       "      <td>0.004924</td>\n",
       "      <td>0.925820</td>\n",
       "      <td>0.008050</td>\n",
       "    </tr>\n",
       "    <tr>\n",
       "      <th>3</th>\n",
       "      <td>17</td>\n",
       "      <td>857</td>\n",
       "      <td>Solyc11g020040</td>\n",
       "      <td>JX149</td>\n",
       "      <td>heat shock protein 70</td>\n",
       "      <td>0.456435</td>\n",
       "      <td>0.216838</td>\n",
       "      <td>0.819689</td>\n",
       "      <td>0.045837</td>\n",
       "      <td>0.753660</td>\n",
       "      <td>0.019013</td>\n",
       "      <td>0.925820</td>\n",
       "      <td>0.008050</td>\n",
       "    </tr>\n",
       "    <tr>\n",
       "      <th>4</th>\n",
       "      <td>21</td>\n",
       "      <td>988</td>\n",
       "      <td>Solyc04g054980</td>\n",
       "      <td>JX286</td>\n",
       "      <td>PLAT/LH2 domain</td>\n",
       "      <td>-0.605063</td>\n",
       "      <td>0.084283</td>\n",
       "      <td>-0.828571</td>\n",
       "      <td>0.041563</td>\n",
       "      <td>-0.794986</td>\n",
       "      <td>0.010445</td>\n",
       "      <td>-0.811679</td>\n",
       "      <td>0.049858</td>\n",
       "    </tr>\n",
       "  </tbody>\n",
       "</table>\n",
       "</div>"
      ],
      "text/plain": [
       "   Unnamed: 0  Unicidad         Locus_x spotID  \\\n",
       "0           4       199  Solyc01g097390  JX082   \n",
       "1          13       794  Solyc11g020040  JX072   \n",
       "2          14       798  Solyc11g066100  JX072   \n",
       "3          17       857  Solyc11g020040  JX149   \n",
       "4          21       988  Solyc04g054980  JX286   \n",
       "\n",
       "           ProteinFunctionDescription  Coef_todos_CE  PVal_todos_CE  \\\n",
       "0  Aldo/keto reductase family protein      -0.456435       0.216838   \n",
       "1               heat shock protein 70       0.447989       0.226549   \n",
       "2                  heat shock protein       0.553399       0.122182   \n",
       "3               heat shock protein 70       0.456435       0.216838   \n",
       "4                     PLAT/LH2 domain      -0.605063       0.084283   \n",
       "\n",
       "   Coef_parentales_CE  PVal_parentales_CE  Coef_todos_OR  PVal_todos_OR  \\\n",
       "0           -0.878310            0.021312       0.821822       0.006573   \n",
       "1            0.880406            0.020599       0.677296       0.045043   \n",
       "2            0.941124            0.005098       0.836660       0.004924   \n",
       "3            0.819689            0.045837       0.753660       0.019013   \n",
       "4           -0.828571            0.041563      -0.794986       0.010445   \n",
       "\n",
       "   Coef_parentales_OR  PVal_parentales_OR  \n",
       "0            0.845154            0.034109  \n",
       "1            0.925820            0.008050  \n",
       "2            0.925820            0.008050  \n",
       "3            0.925820            0.008050  \n",
       "4           -0.811679            0.049858  "
      ]
     },
     "execution_count": 59,
     "metadata": {},
     "output_type": "execute_result"
    }
   ],
   "source": [
    "#inspeccion ocular\n",
    "\n",
    "par_CE_OR_hib_OR_sign"
   ]
  },
  {
   "cell_type": "code",
   "execution_count": 60,
   "id": "dafd9820",
   "metadata": {},
   "outputs": [
    {
     "data": {
      "text/plain": [
       "(3, 13)"
      ]
     },
     "execution_count": 60,
     "metadata": {},
     "output_type": "execute_result"
    }
   ],
   "source": [
    "#todos coef positivos\n",
    "\n",
    "par_CE_OR_hib_OR_sign[(par_CE_OR_hib_OR_sign['Coef_todos_CE']>0)&(par_CE_OR_hib_OR_sign['Coef_todos_OR']>0)&\n",
    "(par_CE_OR_hib_OR_sign['Coef_parentales_CE']>0)&(par_CE_OR_hib_OR_sign['Coef_parentales_OR']>0)].shape"
   ]
  },
  {
   "cell_type": "code",
   "execution_count": 61,
   "id": "3974ed1e",
   "metadata": {},
   "outputs": [
    {
     "data": {
      "text/plain": [
       "(1, 13)"
      ]
     },
     "execution_count": 61,
     "metadata": {},
     "output_type": "execute_result"
    }
   ],
   "source": [
    "#todos coef negativos\n",
    "\n",
    "par_CE_OR_hib_OR_sign[(par_CE_OR_hib_OR_sign['Coef_todos_CE']<0)&(par_CE_OR_hib_OR_sign['Coef_todos_OR']<0)&\n",
    "(par_CE_OR_hib_OR_sign['Coef_parentales_CE']<0)&(par_CE_OR_hib_OR_sign['Coef_parentales_OR']<0)].shape"
   ]
  },
  {
   "cell_type": "code",
   "execution_count": 62,
   "id": "e909389e",
   "metadata": {},
   "outputs": [
    {
     "data": {
      "text/plain": [
       "(1, 13)"
      ]
     },
     "execution_count": 62,
     "metadata": {},
     "output_type": "execute_result"
    }
   ],
   "source": [
    "# coefs negativos CE ,positivos OR\n",
    "\n",
    "par_CE_OR_hib_OR_sign[(par_CE_OR_hib_OR_sign['Coef_todos_CE']<0)&(par_CE_OR_hib_OR_sign['Coef_todos_OR']>0)&\n",
    "(par_CE_OR_hib_OR_sign['Coef_parentales_CE']<0)&(par_CE_OR_hib_OR_sign['Coef_parentales_OR']>0)].shape"
   ]
  },
  {
   "cell_type": "code",
   "execution_count": 63,
   "id": "deab5857",
   "metadata": {},
   "outputs": [],
   "source": [
    "par_CE_OR_hib_OR_sign[(par_CE_OR_hib_OR_sign['Coef_todos_CE']>0)&(par_CE_OR_hib_OR_sign['Coef_todos_OR']>0)&\n",
    "(par_CE_OR_hib_OR_sign['Coef_parentales_CE']>0)&(par_CE_OR_hib_OR_sign['Coef_parentales_OR']>0)].to_csv(\n",
    "'Correlacion_Parentales_CE_OR_Hibrido_OR_Significativos_Coeficientes_Positivos.csv')\n",
    "\n",
    "par_CE_OR_hib_OR_sign[(par_CE_OR_hib_OR_sign['Coef_todos_CE']<0)&(par_CE_OR_hib_OR_sign['Coef_todos_OR']<0)&\n",
    "(par_CE_OR_hib_OR_sign['Coef_parentales_CE']<0)&(par_CE_OR_hib_OR_sign['Coef_parentales_OR']<0)].to_csv(\n",
    "'Correlacion_Parentales_CE_OR_Hibrido_OR_Significativos_Coeficientes_Negativos.csv')\n",
    "\n",
    "par_CE_OR_hib_OR_sign[(par_CE_OR_hib_OR_sign['Coef_todos_CE']<0)&(par_CE_OR_hib_OR_sign['Coef_todos_OR']>0)&\n",
    "(par_CE_OR_hib_OR_sign['Coef_parentales_CE']<0)&(par_CE_OR_hib_OR_sign['Coef_parentales_OR']>0)].to_csv(\n",
    "'Correlacion_Parentales_CE_OR_Hibrido_OR_Significativos_Coeficientes_Negativos_CE_Positivos_OR.csv')"
   ]
  },
  {
   "cell_type": "code",
   "execution_count": 64,
   "id": "d84f519e",
   "metadata": {},
   "outputs": [
    {
     "data": {
      "text/html": [
       "<div>\n",
       "<style scoped>\n",
       "    .dataframe tbody tr th:only-of-type {\n",
       "        vertical-align: middle;\n",
       "    }\n",
       "\n",
       "    .dataframe tbody tr th {\n",
       "        vertical-align: top;\n",
       "    }\n",
       "\n",
       "    .dataframe thead th {\n",
       "        text-align: right;\n",
       "    }\n",
       "</style>\n",
       "<table border=\"1\" class=\"dataframe\">\n",
       "  <thead>\n",
       "    <tr style=\"text-align: right;\">\n",
       "      <th></th>\n",
       "      <th>Unnamed: 0</th>\n",
       "      <th>Unicidad</th>\n",
       "      <th>Locus_x</th>\n",
       "      <th>spotID</th>\n",
       "      <th>ProteinFunctionDescription</th>\n",
       "      <th>Coef_todos_CE</th>\n",
       "      <th>PVal_todos_CE</th>\n",
       "      <th>Coef_parentales_CE</th>\n",
       "      <th>PVal_parentales_CE</th>\n",
       "      <th>Coef_todos_OR</th>\n",
       "      <th>PVal_todos_OR</th>\n",
       "      <th>Coef_parentales_OR</th>\n",
       "      <th>PVal_parentales_OR</th>\n",
       "    </tr>\n",
       "  </thead>\n",
       "  <tbody>\n",
       "    <tr>\n",
       "      <th>0</th>\n",
       "      <td>15</td>\n",
       "      <td>806</td>\n",
       "      <td>Solyc03g117630</td>\n",
       "      <td>JX072</td>\n",
       "      <td>heat shock protein</td>\n",
       "      <td>0.395285</td>\n",
       "      <td>0.292352</td>\n",
       "      <td>0.819689</td>\n",
       "      <td>0.045837</td>\n",
       "      <td>0.677296</td>\n",
       "      <td>0.045043</td>\n",
       "      <td>0.771517</td>\n",
       "      <td>0.072343</td>\n",
       "    </tr>\n",
       "  </tbody>\n",
       "</table>\n",
       "</div>"
      ],
      "text/plain": [
       "   Unnamed: 0  Unicidad         Locus_x spotID ProteinFunctionDescription  \\\n",
       "0          15       806  Solyc03g117630  JX072         heat shock protein   \n",
       "\n",
       "   Coef_todos_CE  PVal_todos_CE  Coef_parentales_CE  PVal_parentales_CE  \\\n",
       "0       0.395285       0.292352            0.819689            0.045837   \n",
       "\n",
       "   Coef_todos_OR  PVal_todos_OR  Coef_parentales_OR  PVal_parentales_OR  \n",
       "0       0.677296       0.045043            0.771517            0.072343  "
      ]
     },
     "execution_count": 64,
     "metadata": {},
     "output_type": "execute_result"
    }
   ],
   "source": [
    "#par_CE_hib_OR_sign = pd.read_csv('Parental_CE_Hibrido_OR_significativos.csv')\n",
    "par_CE_hib_OR_sign"
   ]
  },
  {
   "cell_type": "code",
   "execution_count": null,
   "id": "5a6e8ee9",
   "metadata": {},
   "outputs": [],
   "source": []
  }
 ],
 "metadata": {
  "kernelspec": {
   "display_name": "Python 3 (ipykernel)",
   "language": "python",
   "name": "python3"
  },
  "language_info": {
   "codemirror_mode": {
    "name": "ipython",
    "version": 3
   },
   "file_extension": ".py",
   "mimetype": "text/x-python",
   "name": "python",
   "nbconvert_exporter": "python",
   "pygments_lexer": "ipython3",
   "version": "3.9.7"
  }
 },
 "nbformat": 4,
 "nbformat_minor": 5
}
