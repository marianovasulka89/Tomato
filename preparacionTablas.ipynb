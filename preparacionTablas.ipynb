{
 "cells": [
  {
   "cell_type": "code",
   "execution_count": 141,
   "id": "a2263e8f",
   "metadata": {},
   "outputs": [
    {
     "name": "stdout",
     "output_type": "stream",
     "text": [
      "dim proteinas:  (424, 25) dim transcriptos:  (19248, 25) dim anotacion (1558, 4)\n"
     ]
    }
   ],
   "source": [
    "import pandas as pd\n",
    "proteinas = pd.read_csv('TablaProteinas.csv')\n",
    "transcriptos = pd.read_csv('AllTranscripts.csv')\n",
    "anotacion = pd.read_csv('anotacion_expancion2.csv')\n",
    "print('dim proteinas: ' , proteinas.shape , 'dim transcriptos: ' , transcriptos.shape , 'dim anotacion' , anotacion.shape)"
   ]
  },
  {
   "cell_type": "code",
   "execution_count": null,
   "id": "1de9efd5",
   "metadata": {},
   "outputs": [],
   "source": []
  },
  {
   "cell_type": "code",
   "execution_count": 142,
   "id": "9f130f79",
   "metadata": {},
   "outputs": [
    {
     "data": {
      "text/plain": [
       "Index(['Locus', 'Cervil_A', 'Cervil_B', 'Levovil_A', 'Levovil_B', 'Ferum_A',\n",
       "       'Ferum_B', 'LA1420_A', 'LA1420_B', 'Plovdiv_A', 'Plovdiv_B', 'LA0147_A',\n",
       "       'LA0147_B', 'Stupicke_A', 'Stupicke_B', 'Criollo_A', 'Criollo_B',\n",
       "       'FerumXLA1420_A', 'FerumXLA1420_B', 'CervilXLevovil_A',\n",
       "       'CervilXLevovil_B', 'StupickeXCriollo_A', 'StupickeXCriollo_B',\n",
       "       'LA0147XPlovdiv_A', 'LA0147XPlovdiv_B'],\n",
       "      dtype='object')"
      ]
     },
     "execution_count": 142,
     "metadata": {},
     "output_type": "execute_result"
    }
   ],
   "source": [
    "transcriptos.columns"
   ]
  },
  {
   "cell_type": "code",
   "execution_count": 143,
   "id": "011bd234",
   "metadata": {},
   "outputs": [],
   "source": [
    "#anotacion contiene el criterio de unicidad, el spotID , y el SolycID prdducto de la expancion de la DB\n",
    "#transcriptos contiene las réplicas de transcriptos para cada genotipo\n",
    "#proteinas contiene los datos de cantidad de proteina por spotID,para cada genotipo/estadio celular"
   ]
  },
  {
   "cell_type": "code",
   "execution_count": 144,
   "id": "37cb1547",
   "metadata": {},
   "outputs": [
    {
     "data": {
      "text/html": [
       "<div>\n",
       "<style scoped>\n",
       "    .dataframe tbody tr th:only-of-type {\n",
       "        vertical-align: middle;\n",
       "    }\n",
       "\n",
       "    .dataframe tbody tr th {\n",
       "        vertical-align: top;\n",
       "    }\n",
       "\n",
       "    .dataframe thead th {\n",
       "        text-align: right;\n",
       "    }\n",
       "</style>\n",
       "<table border=\"1\" class=\"dataframe\">\n",
       "  <thead>\n",
       "    <tr style=\"text-align: right;\">\n",
       "      <th></th>\n",
       "      <th>Locus</th>\n",
       "      <th>Cervil_A</th>\n",
       "      <th>Cervil_B</th>\n",
       "      <th>Levovil_A</th>\n",
       "      <th>Levovil_B</th>\n",
       "      <th>Ferum_A</th>\n",
       "      <th>Ferum_B</th>\n",
       "      <th>LA1420_A</th>\n",
       "      <th>LA1420_B</th>\n",
       "      <th>Plovdiv_A</th>\n",
       "      <th>...</th>\n",
       "      <th>Criollo_A</th>\n",
       "      <th>Criollo_B</th>\n",
       "      <th>FerumXLA1420_A</th>\n",
       "      <th>FerumXLA1420_B</th>\n",
       "      <th>CervilXLevovil_A</th>\n",
       "      <th>CervilXLevovil_B</th>\n",
       "      <th>StupickeXCriollo_A</th>\n",
       "      <th>StupickeXCriollo_B</th>\n",
       "      <th>LA0147XPlovdiv_A</th>\n",
       "      <th>LA0147XPlovdiv_B</th>\n",
       "    </tr>\n",
       "  </thead>\n",
       "  <tbody>\n",
       "    <tr>\n",
       "      <th>0</th>\n",
       "      <td>Solyc00g005840</td>\n",
       "      <td>0.224142</td>\n",
       "      <td>0.125700</td>\n",
       "      <td>0.112042</td>\n",
       "      <td>0.155984</td>\n",
       "      <td>0.209386</td>\n",
       "      <td>0.466857</td>\n",
       "      <td>0.331931</td>\n",
       "      <td>0.128467</td>\n",
       "      <td>0.353315</td>\n",
       "      <td>...</td>\n",
       "      <td>0.826693</td>\n",
       "      <td>0.826693</td>\n",
       "      <td>0.365304</td>\n",
       "      <td>0.000000</td>\n",
       "      <td>0.340199</td>\n",
       "      <td>0.494164</td>\n",
       "      <td>0.553103</td>\n",
       "      <td>0.261748</td>\n",
       "      <td>0.377793</td>\n",
       "      <td>0.120787</td>\n",
       "    </tr>\n",
       "    <tr>\n",
       "      <th>1</th>\n",
       "      <td>Solyc00g006470</td>\n",
       "      <td>32.749611</td>\n",
       "      <td>24.234868</td>\n",
       "      <td>46.945789</td>\n",
       "      <td>28.740018</td>\n",
       "      <td>20.729221</td>\n",
       "      <td>23.996461</td>\n",
       "      <td>33.421329</td>\n",
       "      <td>33.572839</td>\n",
       "      <td>20.174265</td>\n",
       "      <td>...</td>\n",
       "      <td>15.982730</td>\n",
       "      <td>15.982730</td>\n",
       "      <td>12.469039</td>\n",
       "      <td>15.654185</td>\n",
       "      <td>30.936843</td>\n",
       "      <td>35.804452</td>\n",
       "      <td>15.579064</td>\n",
       "      <td>14.614281</td>\n",
       "      <td>17.032184</td>\n",
       "      <td>25.727611</td>\n",
       "    </tr>\n",
       "    <tr>\n",
       "      <th>2</th>\n",
       "      <td>Solyc00g006490</td>\n",
       "      <td>25.303122</td>\n",
       "      <td>22.273956</td>\n",
       "      <td>41.881470</td>\n",
       "      <td>36.948667</td>\n",
       "      <td>32.544578</td>\n",
       "      <td>32.189805</td>\n",
       "      <td>36.180508</td>\n",
       "      <td>40.124681</td>\n",
       "      <td>30.667709</td>\n",
       "      <td>...</td>\n",
       "      <td>29.335073</td>\n",
       "      <td>29.335073</td>\n",
       "      <td>29.053834</td>\n",
       "      <td>22.907443</td>\n",
       "      <td>27.471066</td>\n",
       "      <td>30.817885</td>\n",
       "      <td>30.328475</td>\n",
       "      <td>31.780608</td>\n",
       "      <td>30.601261</td>\n",
       "      <td>32.531940</td>\n",
       "    </tr>\n",
       "    <tr>\n",
       "      <th>3</th>\n",
       "      <td>Solyc00g006800</td>\n",
       "      <td>159.788216</td>\n",
       "      <td>220.753505</td>\n",
       "      <td>221.104581</td>\n",
       "      <td>183.865925</td>\n",
       "      <td>126.229890</td>\n",
       "      <td>144.515650</td>\n",
       "      <td>217.103791</td>\n",
       "      <td>192.358664</td>\n",
       "      <td>132.316325</td>\n",
       "      <td>...</td>\n",
       "      <td>244.124921</td>\n",
       "      <td>244.124921</td>\n",
       "      <td>157.786916</td>\n",
       "      <td>175.753802</td>\n",
       "      <td>181.793819</td>\n",
       "      <td>207.234551</td>\n",
       "      <td>179.389701</td>\n",
       "      <td>164.770563</td>\n",
       "      <td>123.223597</td>\n",
       "      <td>131.657727</td>\n",
       "    </tr>\n",
       "    <tr>\n",
       "      <th>4</th>\n",
       "      <td>Solyc00g006810</td>\n",
       "      <td>23.186227</td>\n",
       "      <td>17.497374</td>\n",
       "      <td>13.198601</td>\n",
       "      <td>15.715370</td>\n",
       "      <td>23.840100</td>\n",
       "      <td>25.046889</td>\n",
       "      <td>19.086048</td>\n",
       "      <td>13.960135</td>\n",
       "      <td>21.375534</td>\n",
       "      <td>...</td>\n",
       "      <td>10.947418</td>\n",
       "      <td>10.947418</td>\n",
       "      <td>29.881856</td>\n",
       "      <td>19.143094</td>\n",
       "      <td>15.840514</td>\n",
       "      <td>14.375690</td>\n",
       "      <td>14.680272</td>\n",
       "      <td>13.174665</td>\n",
       "      <td>21.408290</td>\n",
       "      <td>24.036594</td>\n",
       "    </tr>\n",
       "  </tbody>\n",
       "</table>\n",
       "<p>5 rows × 25 columns</p>\n",
       "</div>"
      ],
      "text/plain": [
       "            Locus    Cervil_A    Cervil_B   Levovil_A   Levovil_B     Ferum_A  \\\n",
       "0  Solyc00g005840    0.224142    0.125700    0.112042    0.155984    0.209386   \n",
       "1  Solyc00g006470   32.749611   24.234868   46.945789   28.740018   20.729221   \n",
       "2  Solyc00g006490   25.303122   22.273956   41.881470   36.948667   32.544578   \n",
       "3  Solyc00g006800  159.788216  220.753505  221.104581  183.865925  126.229890   \n",
       "4  Solyc00g006810   23.186227   17.497374   13.198601   15.715370   23.840100   \n",
       "\n",
       "      Ferum_B    LA1420_A    LA1420_B   Plovdiv_A  ...   Criollo_A  \\\n",
       "0    0.466857    0.331931    0.128467    0.353315  ...    0.826693   \n",
       "1   23.996461   33.421329   33.572839   20.174265  ...   15.982730   \n",
       "2   32.189805   36.180508   40.124681   30.667709  ...   29.335073   \n",
       "3  144.515650  217.103791  192.358664  132.316325  ...  244.124921   \n",
       "4   25.046889   19.086048   13.960135   21.375534  ...   10.947418   \n",
       "\n",
       "    Criollo_B  FerumXLA1420_A  FerumXLA1420_B  CervilXLevovil_A  \\\n",
       "0    0.826693        0.365304        0.000000          0.340199   \n",
       "1   15.982730       12.469039       15.654185         30.936843   \n",
       "2   29.335073       29.053834       22.907443         27.471066   \n",
       "3  244.124921      157.786916      175.753802        181.793819   \n",
       "4   10.947418       29.881856       19.143094         15.840514   \n",
       "\n",
       "   CervilXLevovil_B  StupickeXCriollo_A  StupickeXCriollo_B  LA0147XPlovdiv_A  \\\n",
       "0          0.494164            0.553103            0.261748          0.377793   \n",
       "1         35.804452           15.579064           14.614281         17.032184   \n",
       "2         30.817885           30.328475           31.780608         30.601261   \n",
       "3        207.234551          179.389701          164.770563        123.223597   \n",
       "4         14.375690           14.680272           13.174665         21.408290   \n",
       "\n",
       "   LA0147XPlovdiv_B  \n",
       "0          0.120787  \n",
       "1         25.727611  \n",
       "2         32.531940  \n",
       "3        131.657727  \n",
       "4         24.036594  \n",
       "\n",
       "[5 rows x 25 columns]"
      ]
     },
     "execution_count": 144,
     "metadata": {},
     "output_type": "execute_result"
    }
   ],
   "source": [
    "#vamos a calcular las medias para las replicas de transcripto, para cada genotipo\n",
    "transcriptos.head(5)"
   ]
  },
  {
   "cell_type": "code",
   "execution_count": 145,
   "id": "fdec0659",
   "metadata": {},
   "outputs": [],
   "source": [
    "medias_transcriptos = pd.DataFrame(columns=['CervilMean' ,'Levovil_x_CervilMean' , 'LevovilMean' , \n",
    "'FerumMean' , 'LA1420_x_FerumMean' , 'LA1420Mean' , 'PlovdivMean' , 'LA0147_x_PlovdivMean' , 'LA0147Mean'])"
   ]
  },
  {
   "cell_type": "code",
   "execution_count": null,
   "id": "2bee0ad7",
   "metadata": {},
   "outputs": [],
   "source": []
  },
  {
   "cell_type": "code",
   "execution_count": 146,
   "id": "7f90e8d8",
   "metadata": {},
   "outputs": [
    {
     "data": {
      "text/html": [
       "<div>\n",
       "<style scoped>\n",
       "    .dataframe tbody tr th:only-of-type {\n",
       "        vertical-align: middle;\n",
       "    }\n",
       "\n",
       "    .dataframe tbody tr th {\n",
       "        vertical-align: top;\n",
       "    }\n",
       "\n",
       "    .dataframe thead th {\n",
       "        text-align: right;\n",
       "    }\n",
       "</style>\n",
       "<table border=\"1\" class=\"dataframe\">\n",
       "  <thead>\n",
       "    <tr style=\"text-align: right;\">\n",
       "      <th></th>\n",
       "      <th>CervilMean</th>\n",
       "      <th>Levovil_x_CervilMean</th>\n",
       "      <th>LevovilMean</th>\n",
       "      <th>FerumMean</th>\n",
       "      <th>LA1420_x_FerumMean</th>\n",
       "      <th>LA1420Mean</th>\n",
       "      <th>PlovdivMean</th>\n",
       "      <th>LA0147_x_PlovdivMean</th>\n",
       "      <th>LA0147Mean</th>\n",
       "    </tr>\n",
       "  </thead>\n",
       "  <tbody>\n",
       "  </tbody>\n",
       "</table>\n",
       "</div>"
      ],
      "text/plain": [
       "Empty DataFrame\n",
       "Columns: [CervilMean, Levovil_x_CervilMean, LevovilMean, FerumMean, LA1420_x_FerumMean, LA1420Mean, PlovdivMean, LA0147_x_PlovdivMean, LA0147Mean]\n",
       "Index: []"
      ]
     },
     "execution_count": 146,
     "metadata": {},
     "output_type": "execute_result"
    }
   ],
   "source": [
    "medias_transcriptos"
   ]
  },
  {
   "cell_type": "code",
   "execution_count": null,
   "id": "c671b681",
   "metadata": {},
   "outputs": [],
   "source": []
  },
  {
   "cell_type": "code",
   "execution_count": 147,
   "id": "cb06e174",
   "metadata": {},
   "outputs": [
    {
     "data": {
      "text/plain": [
       "Index(['CervilMean', 'Levovil_x_CervilMean', 'LevovilMean', 'FerumMean',\n",
       "       'LA1420_x_FerumMean', 'LA1420Mean', 'PlovdivMean',\n",
       "       'LA0147_x_PlovdivMean', 'LA0147Mean'],\n",
       "      dtype='object')"
      ]
     },
     "execution_count": 147,
     "metadata": {},
     "output_type": "execute_result"
    }
   ],
   "source": [
    "medias_transcriptos.columns"
   ]
  },
  {
   "cell_type": "code",
   "execution_count": 148,
   "id": "baa4c6e9",
   "metadata": {},
   "outputs": [],
   "source": [
    "medias_transcriptos['CervilMean'] = transcriptos.loc[:,['Cervil_A', 'Cervil_B']].mean(axis=1)"
   ]
  },
  {
   "cell_type": "code",
   "execution_count": null,
   "id": "3b40e9bc",
   "metadata": {},
   "outputs": [],
   "source": []
  },
  {
   "cell_type": "code",
   "execution_count": 149,
   "id": "aeb8142f",
   "metadata": {},
   "outputs": [],
   "source": [
    "medias_transcriptos['Levovil_x_CervilMean'] = transcriptos.loc[:,['CervilXLevovil_A' , 'CervilXLevovil_B']].mean(axis=1)\n",
    "medias_transcriptos['LevovilMean'] = transcriptos.loc[:,['Levovil_A' , 'Levovil_B']].mean(axis=1)\n",
    "medias_transcriptos['FerumMean'] = transcriptos.loc[:,['Ferum_A' , 'Ferum_B']].mean(axis=1)\n",
    "medias_transcriptos['LA1420_x_FerumMean'] = transcriptos.loc[:,['FerumXLA1420_A', 'FerumXLA1420_B']].mean(axis=1)\n",
    "medias_transcriptos['LA1420Mean'] = transcriptos.loc[:,['LA1420_A', 'LA1420_B']].mean(axis=1)\n",
    "medias_transcriptos['PlovdivMean'] = transcriptos.loc[:,['Plovdiv_A', 'Plovdiv_B']].mean(axis=1)\n",
    "medias_transcriptos['LA0147_x_PlovdivMean'] = transcriptos.loc[:,['LA0147XPlovdiv_A', 'LA0147XPlovdiv_B']].mean(axis=1)\n",
    "medias_transcriptos['LA0147Mean'] = transcriptos.loc[:,['LA0147_A', 'LA0147_B']].mean(axis=1)"
   ]
  },
  {
   "cell_type": "code",
   "execution_count": null,
   "id": "1694807b",
   "metadata": {},
   "outputs": [],
   "source": []
  },
  {
   "cell_type": "code",
   "execution_count": null,
   "id": "2d3eb368",
   "metadata": {},
   "outputs": [],
   "source": []
  },
  {
   "cell_type": "code",
   "execution_count": 150,
   "id": "0ff62691",
   "metadata": {},
   "outputs": [
    {
     "data": {
      "text/html": [
       "<div>\n",
       "<style scoped>\n",
       "    .dataframe tbody tr th:only-of-type {\n",
       "        vertical-align: middle;\n",
       "    }\n",
       "\n",
       "    .dataframe tbody tr th {\n",
       "        vertical-align: top;\n",
       "    }\n",
       "\n",
       "    .dataframe thead th {\n",
       "        text-align: right;\n",
       "    }\n",
       "</style>\n",
       "<table border=\"1\" class=\"dataframe\">\n",
       "  <thead>\n",
       "    <tr style=\"text-align: right;\">\n",
       "      <th></th>\n",
       "      <th>CervilMean</th>\n",
       "      <th>Levovil_x_CervilMean</th>\n",
       "      <th>LevovilMean</th>\n",
       "      <th>FerumMean</th>\n",
       "      <th>LA1420_x_FerumMean</th>\n",
       "      <th>LA1420Mean</th>\n",
       "      <th>PlovdivMean</th>\n",
       "      <th>LA0147_x_PlovdivMean</th>\n",
       "      <th>LA0147Mean</th>\n",
       "    </tr>\n",
       "  </thead>\n",
       "  <tbody>\n",
       "    <tr>\n",
       "      <th>0</th>\n",
       "      <td>0.174921</td>\n",
       "      <td>0.417182</td>\n",
       "      <td>0.134013</td>\n",
       "      <td>0.338122</td>\n",
       "      <td>0.182652</td>\n",
       "      <td>0.230199</td>\n",
       "      <td>0.339498</td>\n",
       "      <td>0.249290</td>\n",
       "      <td>0.133813</td>\n",
       "    </tr>\n",
       "    <tr>\n",
       "      <th>1</th>\n",
       "      <td>28.492240</td>\n",
       "      <td>33.370647</td>\n",
       "      <td>37.842904</td>\n",
       "      <td>22.362841</td>\n",
       "      <td>14.061612</td>\n",
       "      <td>33.497084</td>\n",
       "      <td>20.199535</td>\n",
       "      <td>21.379897</td>\n",
       "      <td>25.653553</td>\n",
       "    </tr>\n",
       "    <tr>\n",
       "      <th>2</th>\n",
       "      <td>23.788539</td>\n",
       "      <td>29.144475</td>\n",
       "      <td>39.415068</td>\n",
       "      <td>32.367191</td>\n",
       "      <td>25.980639</td>\n",
       "      <td>38.152594</td>\n",
       "      <td>31.259668</td>\n",
       "      <td>31.566601</td>\n",
       "      <td>40.849439</td>\n",
       "    </tr>\n",
       "    <tr>\n",
       "      <th>3</th>\n",
       "      <td>190.270861</td>\n",
       "      <td>194.514185</td>\n",
       "      <td>202.485253</td>\n",
       "      <td>135.372770</td>\n",
       "      <td>166.770359</td>\n",
       "      <td>204.731228</td>\n",
       "      <td>128.395849</td>\n",
       "      <td>127.440662</td>\n",
       "      <td>114.971221</td>\n",
       "    </tr>\n",
       "    <tr>\n",
       "      <th>4</th>\n",
       "      <td>20.341800</td>\n",
       "      <td>15.108102</td>\n",
       "      <td>14.456985</td>\n",
       "      <td>24.443495</td>\n",
       "      <td>24.512475</td>\n",
       "      <td>16.523091</td>\n",
       "      <td>24.578072</td>\n",
       "      <td>22.722442</td>\n",
       "      <td>21.474084</td>\n",
       "    </tr>\n",
       "  </tbody>\n",
       "</table>\n",
       "</div>"
      ],
      "text/plain": [
       "   CervilMean  Levovil_x_CervilMean  LevovilMean   FerumMean  \\\n",
       "0    0.174921              0.417182     0.134013    0.338122   \n",
       "1   28.492240             33.370647    37.842904   22.362841   \n",
       "2   23.788539             29.144475    39.415068   32.367191   \n",
       "3  190.270861            194.514185   202.485253  135.372770   \n",
       "4   20.341800             15.108102    14.456985   24.443495   \n",
       "\n",
       "   LA1420_x_FerumMean  LA1420Mean  PlovdivMean  LA0147_x_PlovdivMean  \\\n",
       "0            0.182652    0.230199     0.339498              0.249290   \n",
       "1           14.061612   33.497084    20.199535             21.379897   \n",
       "2           25.980639   38.152594    31.259668             31.566601   \n",
       "3          166.770359  204.731228   128.395849            127.440662   \n",
       "4           24.512475   16.523091    24.578072             22.722442   \n",
       "\n",
       "   LA0147Mean  \n",
       "0    0.133813  \n",
       "1   25.653553  \n",
       "2   40.849439  \n",
       "3  114.971221  \n",
       "4   21.474084  "
      ]
     },
     "execution_count": 150,
     "metadata": {},
     "output_type": "execute_result"
    }
   ],
   "source": [
    "medias_transcriptos.head(5)"
   ]
  },
  {
   "cell_type": "code",
   "execution_count": null,
   "id": "22e46e25",
   "metadata": {},
   "outputs": [],
   "source": []
  },
  {
   "cell_type": "code",
   "execution_count": 151,
   "id": "5f63ed17",
   "metadata": {},
   "outputs": [
    {
     "data": {
      "text/plain": [
       "Index(['CervilMean', 'Levovil_x_CervilMean', 'LevovilMean', 'FerumMean',\n",
       "       'LA1420_x_FerumMean', 'LA1420Mean', 'PlovdivMean',\n",
       "       'LA0147_x_PlovdivMean', 'LA0147Mean'],\n",
       "      dtype='object')"
      ]
     },
     "execution_count": 151,
     "metadata": {},
     "output_type": "execute_result"
    }
   ],
   "source": [
    "#medias_transcriptos = medias_transcriptos.drop(columns='LA1420')\n",
    "medias_transcriptos.columns"
   ]
  },
  {
   "cell_type": "code",
   "execution_count": null,
   "id": "4ff08da7",
   "metadata": {},
   "outputs": [],
   "source": []
  },
  {
   "cell_type": "code",
   "execution_count": null,
   "id": "052fbbdf",
   "metadata": {},
   "outputs": [],
   "source": []
  },
  {
   "cell_type": "code",
   "execution_count": 152,
   "id": "1b1f978f",
   "metadata": {},
   "outputs": [],
   "source": [
    "#ahora ya tengo el dataset de trancriptos con la media para cada loci, en cada genotipo"
   ]
  },
  {
   "cell_type": "code",
   "execution_count": 153,
   "id": "9a1cd43c",
   "metadata": {},
   "outputs": [],
   "source": [
    "medias_transcriptos['Locus'] = transcriptos['Locus']"
   ]
  },
  {
   "cell_type": "code",
   "execution_count": null,
   "id": "b40e2225",
   "metadata": {},
   "outputs": [],
   "source": []
  },
  {
   "cell_type": "code",
   "execution_count": 154,
   "id": "99b7f1a3",
   "metadata": {},
   "outputs": [
    {
     "data": {
      "text/html": [
       "<div>\n",
       "<style scoped>\n",
       "    .dataframe tbody tr th:only-of-type {\n",
       "        vertical-align: middle;\n",
       "    }\n",
       "\n",
       "    .dataframe tbody tr th {\n",
       "        vertical-align: top;\n",
       "    }\n",
       "\n",
       "    .dataframe thead th {\n",
       "        text-align: right;\n",
       "    }\n",
       "</style>\n",
       "<table border=\"1\" class=\"dataframe\">\n",
       "  <thead>\n",
       "    <tr style=\"text-align: right;\">\n",
       "      <th></th>\n",
       "      <th>CervilMean</th>\n",
       "      <th>Levovil_x_CervilMean</th>\n",
       "      <th>LevovilMean</th>\n",
       "      <th>FerumMean</th>\n",
       "      <th>LA1420_x_FerumMean</th>\n",
       "      <th>LA1420Mean</th>\n",
       "      <th>PlovdivMean</th>\n",
       "      <th>LA0147_x_PlovdivMean</th>\n",
       "      <th>LA0147Mean</th>\n",
       "      <th>Locus</th>\n",
       "    </tr>\n",
       "  </thead>\n",
       "  <tbody>\n",
       "    <tr>\n",
       "      <th>0</th>\n",
       "      <td>0.174921</td>\n",
       "      <td>0.417182</td>\n",
       "      <td>0.134013</td>\n",
       "      <td>0.338122</td>\n",
       "      <td>0.182652</td>\n",
       "      <td>0.230199</td>\n",
       "      <td>0.339498</td>\n",
       "      <td>0.249290</td>\n",
       "      <td>0.133813</td>\n",
       "      <td>Solyc00g005840</td>\n",
       "    </tr>\n",
       "    <tr>\n",
       "      <th>1</th>\n",
       "      <td>28.492240</td>\n",
       "      <td>33.370647</td>\n",
       "      <td>37.842904</td>\n",
       "      <td>22.362841</td>\n",
       "      <td>14.061612</td>\n",
       "      <td>33.497084</td>\n",
       "      <td>20.199535</td>\n",
       "      <td>21.379897</td>\n",
       "      <td>25.653553</td>\n",
       "      <td>Solyc00g006470</td>\n",
       "    </tr>\n",
       "    <tr>\n",
       "      <th>2</th>\n",
       "      <td>23.788539</td>\n",
       "      <td>29.144475</td>\n",
       "      <td>39.415068</td>\n",
       "      <td>32.367191</td>\n",
       "      <td>25.980639</td>\n",
       "      <td>38.152594</td>\n",
       "      <td>31.259668</td>\n",
       "      <td>31.566601</td>\n",
       "      <td>40.849439</td>\n",
       "      <td>Solyc00g006490</td>\n",
       "    </tr>\n",
       "    <tr>\n",
       "      <th>3</th>\n",
       "      <td>190.270861</td>\n",
       "      <td>194.514185</td>\n",
       "      <td>202.485253</td>\n",
       "      <td>135.372770</td>\n",
       "      <td>166.770359</td>\n",
       "      <td>204.731228</td>\n",
       "      <td>128.395849</td>\n",
       "      <td>127.440662</td>\n",
       "      <td>114.971221</td>\n",
       "      <td>Solyc00g006800</td>\n",
       "    </tr>\n",
       "    <tr>\n",
       "      <th>4</th>\n",
       "      <td>20.341800</td>\n",
       "      <td>15.108102</td>\n",
       "      <td>14.456985</td>\n",
       "      <td>24.443495</td>\n",
       "      <td>24.512475</td>\n",
       "      <td>16.523091</td>\n",
       "      <td>24.578072</td>\n",
       "      <td>22.722442</td>\n",
       "      <td>21.474084</td>\n",
       "      <td>Solyc00g006810</td>\n",
       "    </tr>\n",
       "  </tbody>\n",
       "</table>\n",
       "</div>"
      ],
      "text/plain": [
       "   CervilMean  Levovil_x_CervilMean  LevovilMean   FerumMean  \\\n",
       "0    0.174921              0.417182     0.134013    0.338122   \n",
       "1   28.492240             33.370647    37.842904   22.362841   \n",
       "2   23.788539             29.144475    39.415068   32.367191   \n",
       "3  190.270861            194.514185   202.485253  135.372770   \n",
       "4   20.341800             15.108102    14.456985   24.443495   \n",
       "\n",
       "   LA1420_x_FerumMean  LA1420Mean  PlovdivMean  LA0147_x_PlovdivMean  \\\n",
       "0            0.182652    0.230199     0.339498              0.249290   \n",
       "1           14.061612   33.497084    20.199535             21.379897   \n",
       "2           25.980639   38.152594    31.259668             31.566601   \n",
       "3          166.770359  204.731228   128.395849            127.440662   \n",
       "4           24.512475   16.523091    24.578072             22.722442   \n",
       "\n",
       "   LA0147Mean           Locus  \n",
       "0    0.133813  Solyc00g005840  \n",
       "1   25.653553  Solyc00g006470  \n",
       "2   40.849439  Solyc00g006490  \n",
       "3  114.971221  Solyc00g006800  \n",
       "4   21.474084  Solyc00g006810  "
      ]
     },
     "execution_count": 154,
     "metadata": {},
     "output_type": "execute_result"
    }
   ],
   "source": [
    "medias_transcriptos.head(5)"
   ]
  },
  {
   "cell_type": "code",
   "execution_count": null,
   "id": "a755ba41",
   "metadata": {},
   "outputs": [],
   "source": []
  },
  {
   "cell_type": "code",
   "execution_count": 155,
   "id": "28e755f2",
   "metadata": {},
   "outputs": [
    {
     "data": {
      "text/plain": [
       "(19248, 10)"
      ]
     },
     "execution_count": 155,
     "metadata": {},
     "output_type": "execute_result"
    }
   ],
   "source": [
    "medias_transcriptos.shape"
   ]
  },
  {
   "cell_type": "code",
   "execution_count": null,
   "id": "d3e7eaef",
   "metadata": {},
   "outputs": [],
   "source": []
  },
  {
   "cell_type": "code",
   "execution_count": null,
   "id": "54543405",
   "metadata": {},
   "outputs": [],
   "source": []
  },
  {
   "cell_type": "code",
   "execution_count": 156,
   "id": "65ec3d83",
   "metadata": {},
   "outputs": [],
   "source": [
    "#medias_transcriptos contiene 19248 loci\n",
    "#proteinas contiene 424 loci\n",
    "#anotacion contiene 1537 loci"
   ]
  },
  {
   "cell_type": "code",
   "execution_count": 157,
   "id": "843b01b9",
   "metadata": {},
   "outputs": [],
   "source": [
    "#vamos a mergear a anotacion con proteinas mediante el uso de la columna spotID"
   ]
  },
  {
   "cell_type": "code",
   "execution_count": null,
   "id": "bd099055",
   "metadata": {},
   "outputs": [],
   "source": []
  },
  {
   "cell_type": "code",
   "execution_count": 158,
   "id": "1bbc3412",
   "metadata": {},
   "outputs": [
    {
     "data": {
      "text/plain": [
       "Index(['spotID', 'CervilCEMean', 'CervilORMean', 'LevovilxCervilCEMean',\n",
       "       'LevovilxCervilORMean', 'LevovilCEMean', 'LevovilORMean',\n",
       "       'CriolloCEMean', 'CriolloORMean', 'SPRxCriolloCEMean',\n",
       "       'SPRxCriolloORMean', 'SPRCEMean', 'SPRORMean', 'PlovdivCEMean',\n",
       "       'PlovdivORMean', 'LA0147xPlovdivCEMean', 'LA0147xPlovdivORMean',\n",
       "       'LA0147CEMean', 'LA0147ORMean', 'LA1420CEMean', 'LA1420ORMean',\n",
       "       'FerumxLA1420CEMean', 'FerumxLA1420ORMean', 'FerumCEMean',\n",
       "       'FerumORMean'],\n",
       "      dtype='object')"
      ]
     },
     "execution_count": 158,
     "metadata": {},
     "output_type": "execute_result"
    }
   ],
   "source": [
    "proteinas.columns"
   ]
  },
  {
   "cell_type": "code",
   "execution_count": 159,
   "id": "55ca4649",
   "metadata": {},
   "outputs": [],
   "source": [
    "#primero selecciono las columnas de interes en proteinas, en un orden conveniente\n",
    "proteinas = proteinas.loc[:,['spotID', 'CervilCEMean', 'CervilORMean', 'LevovilxCervilCEMean',\n",
    "       'LevovilxCervilORMean', 'LevovilCEMean', 'LevovilORMean', 'FerumCEMean', 'FerumORMean' ,\n",
    "       'FerumxLA1420CEMean', 'FerumxLA1420ORMean','LA1420CEMean', 'LA1420ORMean' ,'PlovdivCEMean',\n",
    "       'PlovdivORMean', 'LA0147xPlovdivCEMean', 'LA0147xPlovdivORMean',\n",
    "       'LA0147CEMean', 'LA0147ORMean']]"
   ]
  },
  {
   "cell_type": "code",
   "execution_count": null,
   "id": "b902d610",
   "metadata": {},
   "outputs": [],
   "source": []
  },
  {
   "cell_type": "code",
   "execution_count": 160,
   "id": "efa15433",
   "metadata": {},
   "outputs": [
    {
     "data": {
      "text/plain": [
       "(424, 19)"
      ]
     },
     "execution_count": 160,
     "metadata": {},
     "output_type": "execute_result"
    }
   ],
   "source": [
    "proteinas.shape"
   ]
  },
  {
   "cell_type": "code",
   "execution_count": null,
   "id": "8a77ffd7",
   "metadata": {},
   "outputs": [],
   "source": []
  },
  {
   "cell_type": "code",
   "execution_count": null,
   "id": "c1c456bc",
   "metadata": {},
   "outputs": [],
   "source": []
  },
  {
   "cell_type": "code",
   "execution_count": 161,
   "id": "dd7fa895",
   "metadata": {},
   "outputs": [
    {
     "data": {
      "text/plain": [
       "Index(['spotID', 'CervilCEMean', 'CervilORMean', 'LevovilxCervilCEMean',\n",
       "       'LevovilxCervilORMean', 'LevovilCEMean', 'LevovilORMean', 'FerumCEMean',\n",
       "       'FerumORMean', 'FerumxLA1420CEMean', 'FerumxLA1420ORMean',\n",
       "       'LA1420CEMean', 'LA1420ORMean', 'PlovdivCEMean', 'PlovdivORMean',\n",
       "       'LA0147xPlovdivCEMean', 'LA0147xPlovdivORMean', 'LA0147CEMean',\n",
       "       'LA0147ORMean'],\n",
       "      dtype='object')"
      ]
     },
     "execution_count": 161,
     "metadata": {},
     "output_type": "execute_result"
    }
   ],
   "source": [
    "proteinas.columns"
   ]
  },
  {
   "cell_type": "code",
   "execution_count": null,
   "id": "b6e50d3b",
   "metadata": {},
   "outputs": [],
   "source": []
  },
  {
   "cell_type": "code",
   "execution_count": 162,
   "id": "a5e0b12c",
   "metadata": {},
   "outputs": [
    {
     "name": "stdout",
     "output_type": "stream",
     "text": [
      "dim proteinas:  (424, 19) dim anotacion:  (1558, 4)\n"
     ]
    }
   ],
   "source": [
    "print('dim proteinas: ' , proteinas.shape , 'dim anotacion: ' , anotacion.shape)"
   ]
  },
  {
   "cell_type": "code",
   "execution_count": null,
   "id": "05e31512",
   "metadata": {},
   "outputs": [],
   "source": []
  },
  {
   "cell_type": "code",
   "execution_count": null,
   "id": "71dc991b",
   "metadata": {},
   "outputs": [],
   "source": []
  },
  {
   "cell_type": "code",
   "execution_count": null,
   "id": "fdc40a62",
   "metadata": {},
   "outputs": [],
   "source": []
  },
  {
   "cell_type": "code",
   "execution_count": 163,
   "id": "51d9814a",
   "metadata": {},
   "outputs": [
    {
     "data": {
      "text/plain": [
       "Index(['Unicidad', 'spotID', 'Locus', 'ProteinFunctionDescription'], dtype='object')"
      ]
     },
     "execution_count": 163,
     "metadata": {},
     "output_type": "execute_result"
    }
   ],
   "source": [
    "anotacion.columns"
   ]
  },
  {
   "cell_type": "code",
   "execution_count": 164,
   "id": "7f871351",
   "metadata": {},
   "outputs": [],
   "source": [
    "proteinas_anotadas = pd.merge(anotacion , proteinas , on = 'spotID')"
   ]
  },
  {
   "cell_type": "code",
   "execution_count": 165,
   "id": "8fa2dc0e",
   "metadata": {},
   "outputs": [
    {
     "data": {
      "text/plain": [
       "(1558, 4)"
      ]
     },
     "execution_count": 165,
     "metadata": {},
     "output_type": "execute_result"
    }
   ],
   "source": [
    "anotacion.shape"
   ]
  },
  {
   "cell_type": "code",
   "execution_count": null,
   "id": "5dd19073",
   "metadata": {},
   "outputs": [],
   "source": []
  },
  {
   "cell_type": "code",
   "execution_count": 166,
   "id": "e3277a64",
   "metadata": {},
   "outputs": [
    {
     "data": {
      "text/plain": [
       "(1558, 22)"
      ]
     },
     "execution_count": 166,
     "metadata": {},
     "output_type": "execute_result"
    }
   ],
   "source": [
    "proteinas_anotadas.shape"
   ]
  },
  {
   "cell_type": "code",
   "execution_count": null,
   "id": "00094312",
   "metadata": {},
   "outputs": [],
   "source": []
  },
  {
   "cell_type": "code",
   "execution_count": 167,
   "id": "3ee40f1c",
   "metadata": {},
   "outputs": [
    {
     "data": {
      "text/plain": [
       "Index(['Unicidad', 'spotID', 'Locus', 'ProteinFunctionDescription',\n",
       "       'CervilCEMean', 'CervilORMean', 'LevovilxCervilCEMean',\n",
       "       'LevovilxCervilORMean', 'LevovilCEMean', 'LevovilORMean', 'FerumCEMean',\n",
       "       'FerumORMean', 'FerumxLA1420CEMean', 'FerumxLA1420ORMean',\n",
       "       'LA1420CEMean', 'LA1420ORMean', 'PlovdivCEMean', 'PlovdivORMean',\n",
       "       'LA0147xPlovdivCEMean', 'LA0147xPlovdivORMean', 'LA0147CEMean',\n",
       "       'LA0147ORMean'],\n",
       "      dtype='object')"
      ]
     },
     "execution_count": 167,
     "metadata": {},
     "output_type": "execute_result"
    }
   ],
   "source": [
    "proteinas_anotadas.columns"
   ]
  },
  {
   "cell_type": "code",
   "execution_count": 168,
   "id": "99ecd45c",
   "metadata": {},
   "outputs": [],
   "source": [
    "#desde el vamos, hay 10 filas menos entre anotacion, y proteinas anotadas\n",
    "#resuelto"
   ]
  },
  {
   "cell_type": "code",
   "execution_count": 169,
   "id": "a6eaa13c",
   "metadata": {},
   "outputs": [
    {
     "data": {
      "text/html": [
       "<div>\n",
       "<style scoped>\n",
       "    .dataframe tbody tr th:only-of-type {\n",
       "        vertical-align: middle;\n",
       "    }\n",
       "\n",
       "    .dataframe tbody tr th {\n",
       "        vertical-align: top;\n",
       "    }\n",
       "\n",
       "    .dataframe thead th {\n",
       "        text-align: right;\n",
       "    }\n",
       "</style>\n",
       "<table border=\"1\" class=\"dataframe\">\n",
       "  <thead>\n",
       "    <tr style=\"text-align: right;\">\n",
       "      <th></th>\n",
       "      <th>Unicidad</th>\n",
       "      <th>spotID</th>\n",
       "      <th>Locus</th>\n",
       "      <th>ProteinFunctionDescription</th>\n",
       "      <th>CervilCEMean</th>\n",
       "      <th>CervilORMean</th>\n",
       "      <th>LevovilxCervilCEMean</th>\n",
       "      <th>LevovilxCervilORMean</th>\n",
       "      <th>LevovilCEMean</th>\n",
       "      <th>LevovilORMean</th>\n",
       "      <th>...</th>\n",
       "      <th>FerumxLA1420CEMean</th>\n",
       "      <th>FerumxLA1420ORMean</th>\n",
       "      <th>LA1420CEMean</th>\n",
       "      <th>LA1420ORMean</th>\n",
       "      <th>PlovdivCEMean</th>\n",
       "      <th>PlovdivORMean</th>\n",
       "      <th>LA0147xPlovdivCEMean</th>\n",
       "      <th>LA0147xPlovdivORMean</th>\n",
       "      <th>LA0147CEMean</th>\n",
       "      <th>LA0147ORMean</th>\n",
       "    </tr>\n",
       "  </thead>\n",
       "  <tbody>\n",
       "    <tr>\n",
       "      <th>0</th>\n",
       "      <td>0</td>\n",
       "      <td>JX036</td>\n",
       "      <td>Solyc07g049530</td>\n",
       "      <td>1-aminocyclopropane-1-carboxylate oxidase</td>\n",
       "      <td>0.6</td>\n",
       "      <td>2.9</td>\n",
       "      <td>0.8</td>\n",
       "      <td>4.1</td>\n",
       "      <td>0.6</td>\n",
       "      <td>3.6</td>\n",
       "      <td>...</td>\n",
       "      <td>0.5</td>\n",
       "      <td>3.3</td>\n",
       "      <td>0.4</td>\n",
       "      <td>2.1</td>\n",
       "      <td>0.6</td>\n",
       "      <td>9.1</td>\n",
       "      <td>0.5</td>\n",
       "      <td>4.9</td>\n",
       "      <td>0.6</td>\n",
       "      <td>3.3</td>\n",
       "    </tr>\n",
       "    <tr>\n",
       "      <th>1</th>\n",
       "      <td>1</td>\n",
       "      <td>JX036</td>\n",
       "      <td>Solyc02g036350</td>\n",
       "      <td>1-aminocyclopropane-1-carboxylate oxidase</td>\n",
       "      <td>0.6</td>\n",
       "      <td>2.9</td>\n",
       "      <td>0.8</td>\n",
       "      <td>4.1</td>\n",
       "      <td>0.6</td>\n",
       "      <td>3.6</td>\n",
       "      <td>...</td>\n",
       "      <td>0.5</td>\n",
       "      <td>3.3</td>\n",
       "      <td>0.4</td>\n",
       "      <td>2.1</td>\n",
       "      <td>0.6</td>\n",
       "      <td>9.1</td>\n",
       "      <td>0.5</td>\n",
       "      <td>4.9</td>\n",
       "      <td>0.6</td>\n",
       "      <td>3.3</td>\n",
       "    </tr>\n",
       "    <tr>\n",
       "      <th>2</th>\n",
       "      <td>2</td>\n",
       "      <td>JX036</td>\n",
       "      <td>Solyc02g081190</td>\n",
       "      <td>1-aminocyclopropane-1-carboxylate oxidase 4</td>\n",
       "      <td>0.6</td>\n",
       "      <td>2.9</td>\n",
       "      <td>0.8</td>\n",
       "      <td>4.1</td>\n",
       "      <td>0.6</td>\n",
       "      <td>3.6</td>\n",
       "      <td>...</td>\n",
       "      <td>0.5</td>\n",
       "      <td>3.3</td>\n",
       "      <td>0.4</td>\n",
       "      <td>2.1</td>\n",
       "      <td>0.6</td>\n",
       "      <td>9.1</td>\n",
       "      <td>0.5</td>\n",
       "      <td>4.9</td>\n",
       "      <td>0.6</td>\n",
       "      <td>3.3</td>\n",
       "    </tr>\n",
       "    <tr>\n",
       "      <th>3</th>\n",
       "      <td>3</td>\n",
       "      <td>JX036</td>\n",
       "      <td>Solyc12g005940</td>\n",
       "      <td>1-aminocyclopropane-1-carboxylate oxidase</td>\n",
       "      <td>0.6</td>\n",
       "      <td>2.9</td>\n",
       "      <td>0.8</td>\n",
       "      <td>4.1</td>\n",
       "      <td>0.6</td>\n",
       "      <td>3.6</td>\n",
       "      <td>...</td>\n",
       "      <td>0.5</td>\n",
       "      <td>3.3</td>\n",
       "      <td>0.4</td>\n",
       "      <td>2.1</td>\n",
       "      <td>0.6</td>\n",
       "      <td>9.1</td>\n",
       "      <td>0.5</td>\n",
       "      <td>4.9</td>\n",
       "      <td>0.6</td>\n",
       "      <td>3.3</td>\n",
       "    </tr>\n",
       "    <tr>\n",
       "      <th>4</th>\n",
       "      <td>4</td>\n",
       "      <td>JX036</td>\n",
       "      <td>Solyc07g049550</td>\n",
       "      <td>1-aminocyclopropane-1-carboxylate oxidase</td>\n",
       "      <td>0.6</td>\n",
       "      <td>2.9</td>\n",
       "      <td>0.8</td>\n",
       "      <td>4.1</td>\n",
       "      <td>0.6</td>\n",
       "      <td>3.6</td>\n",
       "      <td>...</td>\n",
       "      <td>0.5</td>\n",
       "      <td>3.3</td>\n",
       "      <td>0.4</td>\n",
       "      <td>2.1</td>\n",
       "      <td>0.6</td>\n",
       "      <td>9.1</td>\n",
       "      <td>0.5</td>\n",
       "      <td>4.9</td>\n",
       "      <td>0.6</td>\n",
       "      <td>3.3</td>\n",
       "    </tr>\n",
       "    <tr>\n",
       "      <th>5</th>\n",
       "      <td>5</td>\n",
       "      <td>JX038</td>\n",
       "      <td>Solyc07g049530</td>\n",
       "      <td>1-aminocyclopropane-1-carboxylate oxidase</td>\n",
       "      <td>0.9</td>\n",
       "      <td>1.0</td>\n",
       "      <td>1.2</td>\n",
       "      <td>1.4</td>\n",
       "      <td>0.3</td>\n",
       "      <td>0.5</td>\n",
       "      <td>...</td>\n",
       "      <td>0.4</td>\n",
       "      <td>0.7</td>\n",
       "      <td>0.4</td>\n",
       "      <td>0.6</td>\n",
       "      <td>0.3</td>\n",
       "      <td>2.3</td>\n",
       "      <td>0.4</td>\n",
       "      <td>1.0</td>\n",
       "      <td>0.4</td>\n",
       "      <td>1.0</td>\n",
       "    </tr>\n",
       "    <tr>\n",
       "      <th>6</th>\n",
       "      <td>6</td>\n",
       "      <td>JX038</td>\n",
       "      <td>Solyc02g036350</td>\n",
       "      <td>1-aminocyclopropane-1-carboxylate oxidase</td>\n",
       "      <td>0.9</td>\n",
       "      <td>1.0</td>\n",
       "      <td>1.2</td>\n",
       "      <td>1.4</td>\n",
       "      <td>0.3</td>\n",
       "      <td>0.5</td>\n",
       "      <td>...</td>\n",
       "      <td>0.4</td>\n",
       "      <td>0.7</td>\n",
       "      <td>0.4</td>\n",
       "      <td>0.6</td>\n",
       "      <td>0.3</td>\n",
       "      <td>2.3</td>\n",
       "      <td>0.4</td>\n",
       "      <td>1.0</td>\n",
       "      <td>0.4</td>\n",
       "      <td>1.0</td>\n",
       "    </tr>\n",
       "    <tr>\n",
       "      <th>7</th>\n",
       "      <td>7</td>\n",
       "      <td>JX038</td>\n",
       "      <td>Solyc02g081190</td>\n",
       "      <td>1-aminocyclopropane-1-carboxylate oxidase 4</td>\n",
       "      <td>0.9</td>\n",
       "      <td>1.0</td>\n",
       "      <td>1.2</td>\n",
       "      <td>1.4</td>\n",
       "      <td>0.3</td>\n",
       "      <td>0.5</td>\n",
       "      <td>...</td>\n",
       "      <td>0.4</td>\n",
       "      <td>0.7</td>\n",
       "      <td>0.4</td>\n",
       "      <td>0.6</td>\n",
       "      <td>0.3</td>\n",
       "      <td>2.3</td>\n",
       "      <td>0.4</td>\n",
       "      <td>1.0</td>\n",
       "      <td>0.4</td>\n",
       "      <td>1.0</td>\n",
       "    </tr>\n",
       "    <tr>\n",
       "      <th>8</th>\n",
       "      <td>8</td>\n",
       "      <td>JX038</td>\n",
       "      <td>Solyc12g005940</td>\n",
       "      <td>1-aminocyclopropane-1-carboxylate oxidase</td>\n",
       "      <td>0.9</td>\n",
       "      <td>1.0</td>\n",
       "      <td>1.2</td>\n",
       "      <td>1.4</td>\n",
       "      <td>0.3</td>\n",
       "      <td>0.5</td>\n",
       "      <td>...</td>\n",
       "      <td>0.4</td>\n",
       "      <td>0.7</td>\n",
       "      <td>0.4</td>\n",
       "      <td>0.6</td>\n",
       "      <td>0.3</td>\n",
       "      <td>2.3</td>\n",
       "      <td>0.4</td>\n",
       "      <td>1.0</td>\n",
       "      <td>0.4</td>\n",
       "      <td>1.0</td>\n",
       "    </tr>\n",
       "    <tr>\n",
       "      <th>9</th>\n",
       "      <td>9</td>\n",
       "      <td>JX038</td>\n",
       "      <td>Solyc07g049550</td>\n",
       "      <td>1-aminocyclopropane-1-carboxylate oxidase</td>\n",
       "      <td>0.9</td>\n",
       "      <td>1.0</td>\n",
       "      <td>1.2</td>\n",
       "      <td>1.4</td>\n",
       "      <td>0.3</td>\n",
       "      <td>0.5</td>\n",
       "      <td>...</td>\n",
       "      <td>0.4</td>\n",
       "      <td>0.7</td>\n",
       "      <td>0.4</td>\n",
       "      <td>0.6</td>\n",
       "      <td>0.3</td>\n",
       "      <td>2.3</td>\n",
       "      <td>0.4</td>\n",
       "      <td>1.0</td>\n",
       "      <td>0.4</td>\n",
       "      <td>1.0</td>\n",
       "    </tr>\n",
       "    <tr>\n",
       "      <th>10</th>\n",
       "      <td>10</td>\n",
       "      <td>JX039</td>\n",
       "      <td>Solyc07g049530</td>\n",
       "      <td>1-aminocyclopropane-1-carboxylate oxidase</td>\n",
       "      <td>0.3</td>\n",
       "      <td>0.9</td>\n",
       "      <td>0.3</td>\n",
       "      <td>1.3</td>\n",
       "      <td>0.4</td>\n",
       "      <td>1.1</td>\n",
       "      <td>...</td>\n",
       "      <td>0.3</td>\n",
       "      <td>0.8</td>\n",
       "      <td>0.3</td>\n",
       "      <td>0.6</td>\n",
       "      <td>0.4</td>\n",
       "      <td>1.8</td>\n",
       "      <td>0.3</td>\n",
       "      <td>1.2</td>\n",
       "      <td>0.5</td>\n",
       "      <td>0.8</td>\n",
       "    </tr>\n",
       "    <tr>\n",
       "      <th>11</th>\n",
       "      <td>11</td>\n",
       "      <td>JX039</td>\n",
       "      <td>Solyc02g036350</td>\n",
       "      <td>1-aminocyclopropane-1-carboxylate oxidase</td>\n",
       "      <td>0.3</td>\n",
       "      <td>0.9</td>\n",
       "      <td>0.3</td>\n",
       "      <td>1.3</td>\n",
       "      <td>0.4</td>\n",
       "      <td>1.1</td>\n",
       "      <td>...</td>\n",
       "      <td>0.3</td>\n",
       "      <td>0.8</td>\n",
       "      <td>0.3</td>\n",
       "      <td>0.6</td>\n",
       "      <td>0.4</td>\n",
       "      <td>1.8</td>\n",
       "      <td>0.3</td>\n",
       "      <td>1.2</td>\n",
       "      <td>0.5</td>\n",
       "      <td>0.8</td>\n",
       "    </tr>\n",
       "    <tr>\n",
       "      <th>12</th>\n",
       "      <td>12</td>\n",
       "      <td>JX039</td>\n",
       "      <td>Solyc02g081190</td>\n",
       "      <td>1-aminocyclopropane-1-carboxylate oxidase 4</td>\n",
       "      <td>0.3</td>\n",
       "      <td>0.9</td>\n",
       "      <td>0.3</td>\n",
       "      <td>1.3</td>\n",
       "      <td>0.4</td>\n",
       "      <td>1.1</td>\n",
       "      <td>...</td>\n",
       "      <td>0.3</td>\n",
       "      <td>0.8</td>\n",
       "      <td>0.3</td>\n",
       "      <td>0.6</td>\n",
       "      <td>0.4</td>\n",
       "      <td>1.8</td>\n",
       "      <td>0.3</td>\n",
       "      <td>1.2</td>\n",
       "      <td>0.5</td>\n",
       "      <td>0.8</td>\n",
       "    </tr>\n",
       "    <tr>\n",
       "      <th>13</th>\n",
       "      <td>13</td>\n",
       "      <td>JX039</td>\n",
       "      <td>Solyc12g005940</td>\n",
       "      <td>1-aminocyclopropane-1-carboxylate oxidase</td>\n",
       "      <td>0.3</td>\n",
       "      <td>0.9</td>\n",
       "      <td>0.3</td>\n",
       "      <td>1.3</td>\n",
       "      <td>0.4</td>\n",
       "      <td>1.1</td>\n",
       "      <td>...</td>\n",
       "      <td>0.3</td>\n",
       "      <td>0.8</td>\n",
       "      <td>0.3</td>\n",
       "      <td>0.6</td>\n",
       "      <td>0.4</td>\n",
       "      <td>1.8</td>\n",
       "      <td>0.3</td>\n",
       "      <td>1.2</td>\n",
       "      <td>0.5</td>\n",
       "      <td>0.8</td>\n",
       "    </tr>\n",
       "    <tr>\n",
       "      <th>14</th>\n",
       "      <td>14</td>\n",
       "      <td>JX039</td>\n",
       "      <td>Solyc07g049550</td>\n",
       "      <td>1-aminocyclopropane-1-carboxylate oxidase</td>\n",
       "      <td>0.3</td>\n",
       "      <td>0.9</td>\n",
       "      <td>0.3</td>\n",
       "      <td>1.3</td>\n",
       "      <td>0.4</td>\n",
       "      <td>1.1</td>\n",
       "      <td>...</td>\n",
       "      <td>0.3</td>\n",
       "      <td>0.8</td>\n",
       "      <td>0.3</td>\n",
       "      <td>0.6</td>\n",
       "      <td>0.4</td>\n",
       "      <td>1.8</td>\n",
       "      <td>0.3</td>\n",
       "      <td>1.2</td>\n",
       "      <td>0.5</td>\n",
       "      <td>0.8</td>\n",
       "    </tr>\n",
       "  </tbody>\n",
       "</table>\n",
       "<p>15 rows × 22 columns</p>\n",
       "</div>"
      ],
      "text/plain": [
       "    Unicidad spotID           Locus  \\\n",
       "0          0  JX036  Solyc07g049530   \n",
       "1          1  JX036  Solyc02g036350   \n",
       "2          2  JX036  Solyc02g081190   \n",
       "3          3  JX036  Solyc12g005940   \n",
       "4          4  JX036  Solyc07g049550   \n",
       "5          5  JX038  Solyc07g049530   \n",
       "6          6  JX038  Solyc02g036350   \n",
       "7          7  JX038  Solyc02g081190   \n",
       "8          8  JX038  Solyc12g005940   \n",
       "9          9  JX038  Solyc07g049550   \n",
       "10        10  JX039  Solyc07g049530   \n",
       "11        11  JX039  Solyc02g036350   \n",
       "12        12  JX039  Solyc02g081190   \n",
       "13        13  JX039  Solyc12g005940   \n",
       "14        14  JX039  Solyc07g049550   \n",
       "\n",
       "                     ProteinFunctionDescription  CervilCEMean  CervilORMean  \\\n",
       "0     1-aminocyclopropane-1-carboxylate oxidase           0.6           2.9   \n",
       "1     1-aminocyclopropane-1-carboxylate oxidase           0.6           2.9   \n",
       "2   1-aminocyclopropane-1-carboxylate oxidase 4           0.6           2.9   \n",
       "3     1-aminocyclopropane-1-carboxylate oxidase           0.6           2.9   \n",
       "4     1-aminocyclopropane-1-carboxylate oxidase           0.6           2.9   \n",
       "5     1-aminocyclopropane-1-carboxylate oxidase           0.9           1.0   \n",
       "6     1-aminocyclopropane-1-carboxylate oxidase           0.9           1.0   \n",
       "7   1-aminocyclopropane-1-carboxylate oxidase 4           0.9           1.0   \n",
       "8     1-aminocyclopropane-1-carboxylate oxidase           0.9           1.0   \n",
       "9     1-aminocyclopropane-1-carboxylate oxidase           0.9           1.0   \n",
       "10    1-aminocyclopropane-1-carboxylate oxidase           0.3           0.9   \n",
       "11    1-aminocyclopropane-1-carboxylate oxidase           0.3           0.9   \n",
       "12  1-aminocyclopropane-1-carboxylate oxidase 4           0.3           0.9   \n",
       "13    1-aminocyclopropane-1-carboxylate oxidase           0.3           0.9   \n",
       "14    1-aminocyclopropane-1-carboxylate oxidase           0.3           0.9   \n",
       "\n",
       "    LevovilxCervilCEMean  LevovilxCervilORMean  LevovilCEMean  LevovilORMean  \\\n",
       "0                    0.8                   4.1            0.6            3.6   \n",
       "1                    0.8                   4.1            0.6            3.6   \n",
       "2                    0.8                   4.1            0.6            3.6   \n",
       "3                    0.8                   4.1            0.6            3.6   \n",
       "4                    0.8                   4.1            0.6            3.6   \n",
       "5                    1.2                   1.4            0.3            0.5   \n",
       "6                    1.2                   1.4            0.3            0.5   \n",
       "7                    1.2                   1.4            0.3            0.5   \n",
       "8                    1.2                   1.4            0.3            0.5   \n",
       "9                    1.2                   1.4            0.3            0.5   \n",
       "10                   0.3                   1.3            0.4            1.1   \n",
       "11                   0.3                   1.3            0.4            1.1   \n",
       "12                   0.3                   1.3            0.4            1.1   \n",
       "13                   0.3                   1.3            0.4            1.1   \n",
       "14                   0.3                   1.3            0.4            1.1   \n",
       "\n",
       "    ...  FerumxLA1420CEMean  FerumxLA1420ORMean  LA1420CEMean  LA1420ORMean  \\\n",
       "0   ...                 0.5                 3.3           0.4           2.1   \n",
       "1   ...                 0.5                 3.3           0.4           2.1   \n",
       "2   ...                 0.5                 3.3           0.4           2.1   \n",
       "3   ...                 0.5                 3.3           0.4           2.1   \n",
       "4   ...                 0.5                 3.3           0.4           2.1   \n",
       "5   ...                 0.4                 0.7           0.4           0.6   \n",
       "6   ...                 0.4                 0.7           0.4           0.6   \n",
       "7   ...                 0.4                 0.7           0.4           0.6   \n",
       "8   ...                 0.4                 0.7           0.4           0.6   \n",
       "9   ...                 0.4                 0.7           0.4           0.6   \n",
       "10  ...                 0.3                 0.8           0.3           0.6   \n",
       "11  ...                 0.3                 0.8           0.3           0.6   \n",
       "12  ...                 0.3                 0.8           0.3           0.6   \n",
       "13  ...                 0.3                 0.8           0.3           0.6   \n",
       "14  ...                 0.3                 0.8           0.3           0.6   \n",
       "\n",
       "    PlovdivCEMean  PlovdivORMean  LA0147xPlovdivCEMean  LA0147xPlovdivORMean  \\\n",
       "0             0.6            9.1                   0.5                   4.9   \n",
       "1             0.6            9.1                   0.5                   4.9   \n",
       "2             0.6            9.1                   0.5                   4.9   \n",
       "3             0.6            9.1                   0.5                   4.9   \n",
       "4             0.6            9.1                   0.5                   4.9   \n",
       "5             0.3            2.3                   0.4                   1.0   \n",
       "6             0.3            2.3                   0.4                   1.0   \n",
       "7             0.3            2.3                   0.4                   1.0   \n",
       "8             0.3            2.3                   0.4                   1.0   \n",
       "9             0.3            2.3                   0.4                   1.0   \n",
       "10            0.4            1.8                   0.3                   1.2   \n",
       "11            0.4            1.8                   0.3                   1.2   \n",
       "12            0.4            1.8                   0.3                   1.2   \n",
       "13            0.4            1.8                   0.3                   1.2   \n",
       "14            0.4            1.8                   0.3                   1.2   \n",
       "\n",
       "    LA0147CEMean  LA0147ORMean  \n",
       "0            0.6           3.3  \n",
       "1            0.6           3.3  \n",
       "2            0.6           3.3  \n",
       "3            0.6           3.3  \n",
       "4            0.6           3.3  \n",
       "5            0.4           1.0  \n",
       "6            0.4           1.0  \n",
       "7            0.4           1.0  \n",
       "8            0.4           1.0  \n",
       "9            0.4           1.0  \n",
       "10           0.5           0.8  \n",
       "11           0.5           0.8  \n",
       "12           0.5           0.8  \n",
       "13           0.5           0.8  \n",
       "14           0.5           0.8  \n",
       "\n",
       "[15 rows x 22 columns]"
      ]
     },
     "execution_count": 169,
     "metadata": {},
     "output_type": "execute_result"
    }
   ],
   "source": [
    "proteinas_anotadas.head(15)"
   ]
  },
  {
   "cell_type": "code",
   "execution_count": null,
   "id": "f91418cc",
   "metadata": {},
   "outputs": [],
   "source": []
  },
  {
   "cell_type": "code",
   "execution_count": 170,
   "id": "d9b01e64",
   "metadata": {},
   "outputs": [],
   "source": [
    "#aparentemente el merge tiene sentido, porque a igual spotID, igual cantidad de proteina, para cada loci"
   ]
  },
  {
   "cell_type": "code",
   "execution_count": null,
   "id": "3b31c4a2",
   "metadata": {},
   "outputs": [],
   "source": []
  },
  {
   "cell_type": "code",
   "execution_count": 171,
   "id": "07546b6c",
   "metadata": {},
   "outputs": [],
   "source": [
    "#ahora quero chequear que todos los spotID esten presentes en ambas tablas"
   ]
  },
  {
   "cell_type": "code",
   "execution_count": null,
   "id": "0871c2cd",
   "metadata": {},
   "outputs": [],
   "source": []
  },
  {
   "cell_type": "code",
   "execution_count": 172,
   "id": "42bbefe5",
   "metadata": {},
   "outputs": [
    {
     "data": {
      "text/plain": [
       "424"
      ]
     },
     "execution_count": 172,
     "metadata": {},
     "output_type": "execute_result"
    }
   ],
   "source": [
    "len(proteinas['spotID'].unique())"
   ]
  },
  {
   "cell_type": "code",
   "execution_count": 173,
   "id": "3dbbeb39",
   "metadata": {},
   "outputs": [
    {
     "data": {
      "text/plain": [
       "422"
      ]
     },
     "execution_count": 173,
     "metadata": {},
     "output_type": "execute_result"
    }
   ],
   "source": [
    "len(anotacion['spotID'].unique())"
   ]
  },
  {
   "cell_type": "code",
   "execution_count": 174,
   "id": "a06c8d72",
   "metadata": {},
   "outputs": [],
   "source": [
    "#de aca, obtengo que tres proteinas no estan en la anotacion, dos de ellas, por no estar identificadas en el data\n",
    "#set original"
   ]
  },
  {
   "cell_type": "code",
   "execution_count": null,
   "id": "c4cb7d3a",
   "metadata": {},
   "outputs": [],
   "source": [
    "#resuelto, ahora solo faltan dos spotID, que son los originalmente NO IDENTIFICADOS"
   ]
  },
  {
   "cell_type": "code",
   "execution_count": 175,
   "id": "da9507f2",
   "metadata": {},
   "outputs": [
    {
     "data": {
      "text/plain": [
       "422"
      ]
     },
     "execution_count": 175,
     "metadata": {},
     "output_type": "execute_result"
    }
   ],
   "source": [
    "len(proteinas_anotadas['spotID'].unique())"
   ]
  },
  {
   "cell_type": "code",
   "execution_count": 176,
   "id": "f8ebf84f",
   "metadata": {},
   "outputs": [],
   "source": [
    "#aca se desprende que incluso hay otro spotID que no esta incluido en el merge#resuelto"
   ]
  },
  {
   "cell_type": "code",
   "execution_count": null,
   "id": "69c7c2cb",
   "metadata": {},
   "outputs": [],
   "source": []
  },
  {
   "cell_type": "code",
   "execution_count": 177,
   "id": "30fed263",
   "metadata": {},
   "outputs": [],
   "source": [
    "#vamos a comparar para evaluar donde esta el problema de la falta de spotID"
   ]
  },
  {
   "cell_type": "code",
   "execution_count": 178,
   "id": "7549f49c",
   "metadata": {},
   "outputs": [],
   "source": [
    "#proteinas['spotID'].unique() \n",
    "#comparo los spotID de proteinas vs anotacion, para evaluar cual spotID no esta incluido en la antacion"
   ]
  },
  {
   "cell_type": "code",
   "execution_count": 179,
   "id": "7cc0eb8b",
   "metadata": {},
   "outputs": [],
   "source": [
    "#anotacion['spotID'].unique()#aca hay un nan inmediatamente debajo de 'JX168'"
   ]
  },
  {
   "cell_type": "code",
   "execution_count": 180,
   "id": "a34160d0",
   "metadata": {},
   "outputs": [],
   "source": [
    "#anotacion[anotacion['spotID']=='JX168']"
   ]
  },
  {
   "cell_type": "code",
   "execution_count": null,
   "id": "72211c6a",
   "metadata": {},
   "outputs": [],
   "source": []
  },
  {
   "cell_type": "code",
   "execution_count": 181,
   "id": "a97bef68",
   "metadata": {},
   "outputs": [],
   "source": [
    "#anotacion[anotacion['Unicidad']==246]"
   ]
  },
  {
   "cell_type": "code",
   "execution_count": null,
   "id": "4ad44cba",
   "metadata": {},
   "outputs": [],
   "source": []
  },
  {
   "cell_type": "code",
   "execution_count": 182,
   "id": "104b8ae2",
   "metadata": {},
   "outputs": [],
   "source": [
    "#anotacion[anotacion['Locus']=='Solyc10g047030']"
   ]
  },
  {
   "cell_type": "code",
   "execution_count": null,
   "id": "531c5f74",
   "metadata": {},
   "outputs": [],
   "source": []
  },
  {
   "cell_type": "code",
   "execution_count": 183,
   "id": "2a3cfd49",
   "metadata": {},
   "outputs": [],
   "source": [
    "#luego de inspeccion visual\n",
    "#JX146 no esta en anotacion, pero tampoco estaba identificada inicialmente en el dataset original\n",
    "#JX192 tampoco, recuperada\n",
    "#JX276 no, recuperada\n",
    "#JX398 no, no identificada en el dataset original"
   ]
  },
  {
   "cell_type": "code",
   "execution_count": null,
   "id": "278814fa",
   "metadata": {},
   "outputs": [],
   "source": []
  },
  {
   "cell_type": "code",
   "execution_count": 184,
   "id": "1442ffb2",
   "metadata": {},
   "outputs": [],
   "source": [
    "#verifiquemos que pasa con estos spotID en proteinas"
   ]
  },
  {
   "cell_type": "code",
   "execution_count": null,
   "id": "9a0b8146",
   "metadata": {},
   "outputs": [],
   "source": []
  },
  {
   "cell_type": "code",
   "execution_count": 185,
   "id": "fcacc166",
   "metadata": {},
   "outputs": [],
   "source": [
    "#proteinas[proteinas['spotID']=='JX146']#en la anotacion original, no estaba identificada"
   ]
  },
  {
   "cell_type": "code",
   "execution_count": 186,
   "id": "930c3493",
   "metadata": {},
   "outputs": [],
   "source": [
    "#proteinas[proteinas['spotID']=='JX192']#recuperada"
   ]
  },
  {
   "cell_type": "code",
   "execution_count": null,
   "id": "12511b8c",
   "metadata": {},
   "outputs": [],
   "source": []
  },
  {
   "cell_type": "code",
   "execution_count": 187,
   "id": "6d88b818",
   "metadata": {},
   "outputs": [],
   "source": [
    "#proteinas[proteinas['spotID']=='JX276']#recuperada"
   ]
  },
  {
   "cell_type": "code",
   "execution_count": null,
   "id": "1c4f2c49",
   "metadata": {},
   "outputs": [],
   "source": []
  },
  {
   "cell_type": "code",
   "execution_count": 188,
   "id": "f386cc3b",
   "metadata": {},
   "outputs": [],
   "source": [
    "#proteinas[proteinas['spotID']=='JX398']#no estaba en el dataset original identificada"
   ]
  },
  {
   "cell_type": "code",
   "execution_count": 189,
   "id": "cfa4a542",
   "metadata": {},
   "outputs": [],
   "source": [
    "#es decir, que en proteinas si estaba, y estaba bien"
   ]
  },
  {
   "cell_type": "code",
   "execution_count": null,
   "id": "c1897b99",
   "metadata": {},
   "outputs": [],
   "source": []
  },
  {
   "cell_type": "code",
   "execution_count": 195,
   "id": "9d053656",
   "metadata": {},
   "outputs": [
    {
     "data": {
      "text/plain": [
       "Unicidad                      0\n",
       "spotID                        0\n",
       "Locus                         0\n",
       "ProteinFunctionDescription    0\n",
       "CervilCEMean                  0\n",
       "CervilORMean                  0\n",
       "LevovilxCervilCEMean          0\n",
       "LevovilxCervilORMean          0\n",
       "LevovilCEMean                 0\n",
       "LevovilORMean                 0\n",
       "FerumCEMean                   0\n",
       "FerumORMean                   0\n",
       "FerumxLA1420CEMean            0\n",
       "FerumxLA1420ORMean            0\n",
       "LA1420CEMean                  0\n",
       "LA1420ORMean                  0\n",
       "PlovdivCEMean                 0\n",
       "PlovdivORMean                 0\n",
       "LA0147xPlovdivCEMean          0\n",
       "LA0147xPlovdivORMean          0\n",
       "LA0147CEMean                  0\n",
       "LA0147ORMean                  0\n",
       "dtype: int64"
      ]
     },
     "execution_count": 195,
     "metadata": {},
     "output_type": "execute_result"
    }
   ],
   "source": [
    "proteinas_anotadas[proteinas_anotadas.isna()].count()"
   ]
  },
  {
   "cell_type": "code",
   "execution_count": null,
   "id": "3465e678",
   "metadata": {},
   "outputs": [],
   "source": [
    "#esto indica que no hay ningun NAN"
   ]
  },
  {
   "cell_type": "code",
   "execution_count": null,
   "id": "19e1a2a1",
   "metadata": {},
   "outputs": [],
   "source": []
  },
  {
   "cell_type": "code",
   "execution_count": null,
   "id": "4908fb4c",
   "metadata": {},
   "outputs": [],
   "source": []
  },
  {
   "cell_type": "code",
   "execution_count": null,
   "id": "3f34fe92",
   "metadata": {},
   "outputs": [],
   "source": []
  },
  {
   "cell_type": "code",
   "execution_count": null,
   "id": "3906a203",
   "metadata": {},
   "outputs": [],
   "source": []
  },
  {
   "cell_type": "code",
   "execution_count": 196,
   "id": "465c02e3",
   "metadata": {},
   "outputs": [
    {
     "name": "stdout",
     "output_type": "stream",
     "text": [
      "dim proteinas:  (424, 19) dim anotacion:  (1558, 4) dim proteians_anotadas:  (1558, 22)\n"
     ]
    }
   ],
   "source": [
    "#verifico la dimencion\n",
    "print('dim proteinas: ' , proteinas.shape , 'dim anotacion: ' , anotacion.shape , 'dim proteians_anotadas: ' , proteinas_anotadas.shape)"
   ]
  },
  {
   "cell_type": "code",
   "execution_count": null,
   "id": "742cce6f",
   "metadata": {},
   "outputs": [],
   "source": [
    "#que ahora las proteinas anotadas conicidan en numero con abotacion, que fue modificada manualmente, quiere decir\n",
    "#que ahora esta completa la informacion"
   ]
  },
  {
   "cell_type": "code",
   "execution_count": null,
   "id": "4ff1c15e",
   "metadata": {},
   "outputs": [],
   "source": []
  },
  {
   "cell_type": "code",
   "execution_count": 197,
   "id": "5ce41fd7",
   "metadata": {},
   "outputs": [],
   "source": [
    "#voy a exportar los archivos\n",
    "proteinas_anotadas.to_csv('Proteinas_Anotadas.csv')\n",
    "medias_transcriptos.to_csv('Media_transcriptos.csv')"
   ]
  },
  {
   "cell_type": "code",
   "execution_count": null,
   "id": "7cb8e630",
   "metadata": {},
   "outputs": [],
   "source": []
  },
  {
   "cell_type": "code",
   "execution_count": null,
   "id": "20b5af56",
   "metadata": {},
   "outputs": [],
   "source": [
    "#ahora queda mergear las proteinas_anotadas con los medias_transcriptos"
   ]
  },
  {
   "cell_type": "code",
   "execution_count": 198,
   "id": "4329b5e2",
   "metadata": {},
   "outputs": [
    {
     "name": "stdout",
     "output_type": "stream",
     "text": [
      "dim proteinas_anotadas:  (1558, 22) dim media_transcriptos:  (19248, 10) dim transcriptos_proteinas:  (1279, 31)\n"
     ]
    }
   ],
   "source": [
    "transcriptos_proteinas = proteinas_anotadas.merge(medias_transcriptos, on='Locus')\n",
    "print('dim proteinas_anotadas: ' , proteinas_anotadas.shape , \n",
    "      'dim media_transcriptos: ' , medias_transcriptos.shape \n",
    "      ,'dim transcriptos_proteinas: ' , transcriptos_proteinas.shape)"
   ]
  },
  {
   "cell_type": "code",
   "execution_count": 199,
   "id": "e3d8b8b1",
   "metadata": {},
   "outputs": [
    {
     "data": {
      "text/plain": [
       "422"
      ]
     },
     "execution_count": 199,
     "metadata": {},
     "output_type": "execute_result"
    }
   ],
   "source": [
    "#es decir, que transcriptos_proteinas perdio 279filas\n",
    "#chequiemos que no se hayan perdido spotID completos\n",
    "len(proteinas_anotadas['spotID'].unique())"
   ]
  },
  {
   "cell_type": "code",
   "execution_count": 201,
   "id": "0ef55587",
   "metadata": {},
   "outputs": [
    {
     "data": {
      "text/plain": [
       "421"
      ]
     },
     "execution_count": 201,
     "metadata": {},
     "output_type": "execute_result"
    }
   ],
   "source": [
    "len(transcriptos_proteinas['spotID'].unique())"
   ]
  },
  {
   "cell_type": "code",
   "execution_count": 206,
   "id": "bbbd844b",
   "metadata": {},
   "outputs": [
    {
     "data": {
      "text/plain": [
       "0       JX036\n",
       "1       JX036\n",
       "2       JX036\n",
       "3       JX036\n",
       "4       JX036\n",
       "        ...  \n",
       "1553    JX276\n",
       "1554    JX276\n",
       "1555    JX276\n",
       "1556    JX276\n",
       "1557    JX276\n",
       "Name: spotID, Length: 1558, dtype: object"
      ]
     },
     "execution_count": 206,
     "metadata": {},
     "output_type": "execute_result"
    }
   ],
   "source": [
    "proteinas_anotadas['spotID']"
   ]
  },
  {
   "cell_type": "code",
   "execution_count": 207,
   "id": "c2eb2e8c",
   "metadata": {},
   "outputs": [
    {
     "data": {
      "text/plain": [
       "0       JX036\n",
       "1       JX038\n",
       "2       JX039\n",
       "3       JX036\n",
       "4       JX038\n",
       "        ...  \n",
       "1274    JX423\n",
       "1275    JX065\n",
       "1276    JX069\n",
       "1277    JX065\n",
       "1278    JX069\n",
       "Name: spotID, Length: 1279, dtype: object"
      ]
     },
     "execution_count": 207,
     "metadata": {},
     "output_type": "execute_result"
    }
   ],
   "source": [
    "transcriptos_proteinas['spotID']"
   ]
  },
  {
   "cell_type": "code",
   "execution_count": null,
   "id": "98c0aff9",
   "metadata": {},
   "outputs": [],
   "source": [
    "#voy a usar conjuntos, para evaluar cual elemento no esta\n"
   ]
  },
  {
   "cell_type": "code",
   "execution_count": 220,
   "id": "534e9537",
   "metadata": {},
   "outputs": [
    {
     "data": {
      "text/plain": [
       "{'JX192'}"
      ]
     },
     "execution_count": 220,
     "metadata": {},
     "output_type": "execute_result"
    }
   ],
   "source": [
    "set(transcriptos_proteinas['spotID'].unique())^set(proteinas_anotadas['spotID'].unique())"
   ]
  },
  {
   "cell_type": "code",
   "execution_count": null,
   "id": "7fa42834",
   "metadata": {},
   "outputs": [],
   "source": [
    "#JX192 no esta en transcriptos_proteinas#verificadono estaba en el dataset original de transcriptos"
   ]
  },
  {
   "cell_type": "code",
   "execution_count": null,
   "id": "a3b81af2",
   "metadata": {},
   "outputs": [],
   "source": []
  },
  {
   "cell_type": "code",
   "execution_count": null,
   "id": "935c0525",
   "metadata": {},
   "outputs": [],
   "source": [
    "#lo voy a evaluar manualmente"
   ]
  },
  {
   "cell_type": "code",
   "execution_count": null,
   "id": "0dd6533b",
   "metadata": {},
   "outputs": [],
   "source": [
    "#primero guardo la tabla resultante, por las dudas"
   ]
  },
  {
   "cell_type": "code",
   "execution_count": 210,
   "id": "23fe584e",
   "metadata": {},
   "outputs": [],
   "source": [
    "transcriptos_proteinas.to_csv('transcriptos_proteinas.csv')"
   ]
  },
  {
   "cell_type": "code",
   "execution_count": null,
   "id": "3ab4ca51",
   "metadata": {},
   "outputs": [],
   "source": []
  },
  {
   "cell_type": "code",
   "execution_count": 224,
   "id": "ec28cc81",
   "metadata": {},
   "outputs": [],
   "source": [
    "disjuntos_locus = set(transcriptos_proteinas['Locus'].unique())^set(proteinas_anotadas['Locus'].unique())"
   ]
  },
  {
   "cell_type": "code",
   "execution_count": null,
   "id": "cc14ab05",
   "metadata": {},
   "outputs": [],
   "source": []
  },
  {
   "cell_type": "code",
   "execution_count": null,
   "id": "fbac929a",
   "metadata": {},
   "outputs": [],
   "source": []
  },
  {
   "cell_type": "code",
   "execution_count": null,
   "id": "6483fc43",
   "metadata": {},
   "outputs": [],
   "source": []
  },
  {
   "cell_type": "code",
   "execution_count": 223,
   "id": "531b8a32",
   "metadata": {},
   "outputs": [],
   "source": [
    "disjuntos_unicidad = set(transcriptos_proteinas['Unicidad'].unique())^set(proteinas_anotadas['Unicidad'].unique())"
   ]
  },
  {
   "cell_type": "code",
   "execution_count": null,
   "id": "e039a1f6",
   "metadata": {},
   "outputs": [],
   "source": []
  },
  {
   "cell_type": "code",
   "execution_count": 226,
   "id": "d9d28fa9",
   "metadata": {},
   "outputs": [
    {
     "name": "stdout",
     "output_type": "stream",
     "text": [
      "disj locus:  139 disj unicidad 279\n"
     ]
    }
   ],
   "source": [
    "print('disj locus: ' , len(disjuntos_locus) , 'disj unicidad' , len(disjuntos_unicidad))"
   ]
  },
  {
   "cell_type": "code",
   "execution_count": null,
   "id": "3d3114f9",
   "metadata": {},
   "outputs": [],
   "source": [
    "#esto quiere decir que hay 279 filas disjuntas, de las cuales son 139 loci"
   ]
  },
  {
   "cell_type": "code",
   "execution_count": null,
   "id": "e577c91a",
   "metadata": {},
   "outputs": [],
   "source": []
  },
  {
   "cell_type": "code",
   "execution_count": 227,
   "id": "3ebea98b",
   "metadata": {},
   "outputs": [],
   "source": [
    "lista_locus_disjuntos = list(disjuntos_locus)"
   ]
  },
  {
   "cell_type": "code",
   "execution_count": null,
   "id": "4fa62c99",
   "metadata": {},
   "outputs": [],
   "source": []
  },
  {
   "cell_type": "code",
   "execution_count": 247,
   "id": "b16e6349",
   "metadata": {},
   "outputs": [],
   "source": [
    "lista_unicidad_disjuntos = list(disjuntos_unicidad)\n",
    "Unicidad_disjuntos = pd.DataFrame({'Unicidad':lista_unicidad_disjuntos})\n",
    "Unicidad_disjuntos.to_csv('unicidad_que_no_estan_tabla_transcriptos.csv')"
   ]
  },
  {
   "cell_type": "code",
   "execution_count": null,
   "id": "8bf3658b",
   "metadata": {},
   "outputs": [],
   "source": []
  },
  {
   "cell_type": "code",
   "execution_count": null,
   "id": "711b0c47",
   "metadata": {},
   "outputs": [],
   "source": []
  },
  {
   "cell_type": "code",
   "execution_count": null,
   "id": "e396e315",
   "metadata": {},
   "outputs": [],
   "source": []
  },
  {
   "cell_type": "code",
   "execution_count": 231,
   "id": "e009785b",
   "metadata": {},
   "outputs": [
    {
     "data": {
      "text/plain": [
       "['Solyc06g009040',\n",
       " 'Solyc08g013680',\n",
       " 'Solyc09g097970',\n",
       " 'Solyc11g042850',\n",
       " 'Solyc04g064710',\n",
       " 'Solyc08g007690',\n",
       " 'Solyc01g099660',\n",
       " 'Solyc06g082660',\n",
       " 'Solyc04g071600',\n",
       " 'Solyc03g034140',\n",
       " 'Solyc07g045610',\n",
       " 'Solyc04g010010',\n",
       " 'Solyc08g062340',\n",
       " 'Solyc09g089760',\n",
       " 'Solyc08g080010',\n",
       " 'Solyc08g007700',\n",
       " 'Solyc10g018170',\n",
       " 'Solyc09g011130',\n",
       " 'Solyc08g079850',\n",
       " 'Solyc01g006580',\n",
       " 'Solyc09g010000',\n",
       " 'Solyc08g074650',\n",
       " 'Solyc09g098000',\n",
       " 'Solyc01g090697',\n",
       " 'Solyc12g089310',\n",
       " 'Solyc01g108570',\n",
       " 'Solyc08g007610',\n",
       " 'Solyc00g500292',\n",
       " 'Solyc01g099170',\n",
       " 'Solyc11g039980',\n",
       " 'Solyc12g099480',\n",
       " 'Solyc01g059965',\n",
       " 'Solyc02g065740',\n",
       " 'Solyc12g008430',\n",
       " 'Solyc09g010040',\n",
       " 'Solyc05g005820',\n",
       " 'Solyc01g099150',\n",
       " 'Solyc10g085530',\n",
       " 'Solyc09g097960',\n",
       " 'Solyc07g005820',\n",
       " 'Solyc10g086460',\n",
       " 'Solyc08g062437',\n",
       " 'Solyc10g074440',\n",
       " 'Solyc04g050820',\n",
       " 'Solyc09g090990',\n",
       " 'Solyc02g086820',\n",
       " 'Solyc02g082960',\n",
       " 'Solyc09g092200',\n",
       " 'Solyc08g079920',\n",
       " 'Solyc08g074682',\n",
       " 'Solyc08g014240',\n",
       " 'Solyc04g010030',\n",
       " 'Solyc00g500064',\n",
       " 'Solyc08g062450',\n",
       " 'Solyc10g017620',\n",
       " 'Solyc00g500345',\n",
       " 'Solyc00g500203',\n",
       " 'Solyc06g082560',\n",
       " 'Solyc08g079900',\n",
       " 'Solyc10g085920',\n",
       " 'Solyc10g047030',\n",
       " 'Solyc01g108540',\n",
       " 'Solyc01g006610',\n",
       " 'Solyc03g117450',\n",
       " 'Solyc02g072370',\n",
       " 'Solyc10g086670',\n",
       " 'Solyc01g008620',\n",
       " 'Solyc08g008340',\n",
       " 'Solyc01g087460',\n",
       " 'Solyc08g007620',\n",
       " 'Solyc03g096660',\n",
       " 'Solyc02g061670',\n",
       " 'Solyc09g090970',\n",
       " 'Solyc00g500133',\n",
       " 'Solyc01g097380',\n",
       " 'Solyc02g061610',\n",
       " 'Solyc08g021990',\n",
       " 'Solyc12g044530',\n",
       " 'Solyc08g079970',\n",
       " 'Solyc04g078110',\n",
       " 'Solyc09g089770',\n",
       " 'Solyc01g006585',\n",
       " 'Solyc10g083650',\n",
       " 'Solyc09g089720',\n",
       " 'Solyc08g079990',\n",
       " 'Solyc06g005020',\n",
       " 'Solyc08g074683',\n",
       " 'Solyc07g041920',\n",
       " 'Solyc02g060570',\n",
       " 'Solyc08g074640',\n",
       " 'Solyc02g062410',\n",
       " 'Solyc03g095907',\n",
       " 'Solyc00g500332',\n",
       " 'Solyc10g024330',\n",
       " 'Solyc02g061720',\n",
       " 'Solyc10g079860',\n",
       " 'Solyc10g081560',\n",
       " 'Solyc04g071590',\n",
       " 'Solyc12g010020',\n",
       " 'Solyc04g072043',\n",
       " 'Solyc08g029000',\n",
       " 'Solyc10g018190',\n",
       " 'Solyc08g007680',\n",
       " 'Solyc01g060010',\n",
       " 'Solyc08g079860',\n",
       " 'Solyc06g005910',\n",
       " 'Solyc02g086740',\n",
       " 'Solyc10g074360',\n",
       " 'Solyc12g006003',\n",
       " 'Solyc04g072250',\n",
       " 'Solyc08g075180',\n",
       " 'Solyc08g079930',\n",
       " 'Solyc10g074390',\n",
       " 'Solyc04g071260',\n",
       " 'Solyc04g071580',\n",
       " 'Solyc03g006700',\n",
       " 'Solyc05g048820',\n",
       " 'Solyc01g097930',\n",
       " 'Solyc10g005430',\n",
       " 'Solyc08g074690',\n",
       " 'Solyc06g083480',\n",
       " 'Solyc00g500050',\n",
       " 'Solyc01g060020',\n",
       " 'Solyc02g067750',\n",
       " 'Solyc08g007600',\n",
       " 'Solyc10g074460',\n",
       " 'Solyc02g072280',\n",
       " 'Solyc08g079910',\n",
       " 'Solyc06g036500',\n",
       " 'Solyc08g076980',\n",
       " 'Solyc02g038818',\n",
       " 'Solyc00g500323',\n",
       " 'Solyc05g006890',\n",
       " 'Solyc00g187050',\n",
       " 'Solyc03g096650',\n",
       " 'Solyc04g015530',\n",
       " 'Solyc00g500358',\n",
       " 'Solyc10g017540',\n",
       " 'Solyc08g007660']"
      ]
     },
     "execution_count": 231,
     "metadata": {},
     "output_type": "execute_result"
    }
   ],
   "source": [
    "lista_locus_disjuntos"
   ]
  },
  {
   "cell_type": "code",
   "execution_count": null,
   "id": "361e356d",
   "metadata": {},
   "outputs": [],
   "source": []
  },
  {
   "cell_type": "code",
   "execution_count": null,
   "id": "98b84c93",
   "metadata": {},
   "outputs": [],
   "source": []
  },
  {
   "cell_type": "code",
   "execution_count": 229,
   "id": "af0c2943",
   "metadata": {},
   "outputs": [],
   "source": [
    "disjuntos_transcriptos = disjuntos_locus^set(medias_transcriptos['Locus'])"
   ]
  },
  {
   "cell_type": "code",
   "execution_count": 230,
   "id": "40e1320a",
   "metadata": {},
   "outputs": [
    {
     "data": {
      "text/plain": [
       "19387"
      ]
     },
     "execution_count": 230,
     "metadata": {},
     "output_type": "execute_result"
    }
   ],
   "source": [
    "len(disjuntos_transcriptos)"
   ]
  },
  {
   "cell_type": "code",
   "execution_count": null,
   "id": "22c882c5",
   "metadata": {},
   "outputs": [],
   "source": []
  },
  {
   "cell_type": "code",
   "execution_count": null,
   "id": "181e57c6",
   "metadata": {},
   "outputs": [],
   "source": []
  },
  {
   "cell_type": "code",
   "execution_count": null,
   "id": "efdbca2a",
   "metadata": {},
   "outputs": [],
   "source": [
    "#voy a probar otra forma de verificar que NO esten los valores de lista_locus_disjuntos en transcriptos"
   ]
  },
  {
   "cell_type": "code",
   "execution_count": 239,
   "id": "4e1118a8",
   "metadata": {},
   "outputs": [],
   "source": [
    "no_son_transcriptos = list(~transcriptos['Locus'].isin(lista_locus_disjuntos))"
   ]
  },
  {
   "cell_type": "code",
   "execution_count": 240,
   "id": "d21d8be3",
   "metadata": {},
   "outputs": [],
   "source": [
    "suma=0\n",
    "for i in range(0,len(no_son_transcriptos)):\n",
    "    if no_son_transcriptos[i]==True:\n",
    "        suma=suma+1"
   ]
  },
  {
   "cell_type": "code",
   "execution_count": 241,
   "id": "018ae6f3",
   "metadata": {},
   "outputs": [
    {
     "data": {
      "text/plain": [
       "19248"
      ]
     },
     "execution_count": 241,
     "metadata": {},
     "output_type": "execute_result"
    }
   ],
   "source": [
    "suma"
   ]
  },
  {
   "cell_type": "code",
   "execution_count": 242,
   "id": "8581979a",
   "metadata": {},
   "outputs": [
    {
     "data": {
      "text/plain": [
       "(19248, 25)"
      ]
     },
     "execution_count": 242,
     "metadata": {},
     "output_type": "execute_result"
    }
   ],
   "source": [
    "transcriptos.shape"
   ]
  },
  {
   "cell_type": "code",
   "execution_count": null,
   "id": "5c645b8d",
   "metadata": {},
   "outputs": [],
   "source": [
    "#entocnes no coincide ninguno de los elementos de la tabla de transcritpos originales, con los que no matchearon\n",
    "#de la tabla de anotaciones"
   ]
  },
  {
   "cell_type": "code",
   "execution_count": null,
   "id": "321ea24f",
   "metadata": {},
   "outputs": [],
   "source": []
  },
  {
   "cell_type": "code",
   "execution_count": 243,
   "id": "daef4b6b",
   "metadata": {},
   "outputs": [],
   "source": [
    "anotados_que_no_son_transcriptos = pd.DataFrame({'Locus':lista_locus_disjuntos})"
   ]
  },
  {
   "cell_type": "code",
   "execution_count": null,
   "id": "b746b744",
   "metadata": {},
   "outputs": [],
   "source": []
  },
  {
   "cell_type": "code",
   "execution_count": 244,
   "id": "5c45538a",
   "metadata": {},
   "outputs": [
    {
     "data": {
      "text/html": [
       "<div>\n",
       "<style scoped>\n",
       "    .dataframe tbody tr th:only-of-type {\n",
       "        vertical-align: middle;\n",
       "    }\n",
       "\n",
       "    .dataframe tbody tr th {\n",
       "        vertical-align: top;\n",
       "    }\n",
       "\n",
       "    .dataframe thead th {\n",
       "        text-align: right;\n",
       "    }\n",
       "</style>\n",
       "<table border=\"1\" class=\"dataframe\">\n",
       "  <thead>\n",
       "    <tr style=\"text-align: right;\">\n",
       "      <th></th>\n",
       "      <th>Locus</th>\n",
       "    </tr>\n",
       "  </thead>\n",
       "  <tbody>\n",
       "    <tr>\n",
       "      <th>0</th>\n",
       "      <td>Solyc06g009040</td>\n",
       "    </tr>\n",
       "    <tr>\n",
       "      <th>1</th>\n",
       "      <td>Solyc08g013680</td>\n",
       "    </tr>\n",
       "    <tr>\n",
       "      <th>2</th>\n",
       "      <td>Solyc09g097970</td>\n",
       "    </tr>\n",
       "    <tr>\n",
       "      <th>3</th>\n",
       "      <td>Solyc11g042850</td>\n",
       "    </tr>\n",
       "    <tr>\n",
       "      <th>4</th>\n",
       "      <td>Solyc04g064710</td>\n",
       "    </tr>\n",
       "    <tr>\n",
       "      <th>...</th>\n",
       "      <td>...</td>\n",
       "    </tr>\n",
       "    <tr>\n",
       "      <th>134</th>\n",
       "      <td>Solyc03g096650</td>\n",
       "    </tr>\n",
       "    <tr>\n",
       "      <th>135</th>\n",
       "      <td>Solyc04g015530</td>\n",
       "    </tr>\n",
       "    <tr>\n",
       "      <th>136</th>\n",
       "      <td>Solyc00g500358</td>\n",
       "    </tr>\n",
       "    <tr>\n",
       "      <th>137</th>\n",
       "      <td>Solyc10g017540</td>\n",
       "    </tr>\n",
       "    <tr>\n",
       "      <th>138</th>\n",
       "      <td>Solyc08g007660</td>\n",
       "    </tr>\n",
       "  </tbody>\n",
       "</table>\n",
       "<p>139 rows × 1 columns</p>\n",
       "</div>"
      ],
      "text/plain": [
       "              Locus\n",
       "0    Solyc06g009040\n",
       "1    Solyc08g013680\n",
       "2    Solyc09g097970\n",
       "3    Solyc11g042850\n",
       "4    Solyc04g064710\n",
       "..              ...\n",
       "134  Solyc03g096650\n",
       "135  Solyc04g015530\n",
       "136  Solyc00g500358\n",
       "137  Solyc10g017540\n",
       "138  Solyc08g007660\n",
       "\n",
       "[139 rows x 1 columns]"
      ]
     },
     "execution_count": 244,
     "metadata": {},
     "output_type": "execute_result"
    }
   ],
   "source": [
    "anotados_que_no_son_transcriptos#139 loci, distribuidos entre 279 filas"
   ]
  },
  {
   "cell_type": "code",
   "execution_count": null,
   "id": "878d1e27",
   "metadata": {},
   "outputs": [],
   "source": []
  },
  {
   "cell_type": "code",
   "execution_count": 245,
   "id": "f6dde3e0",
   "metadata": {},
   "outputs": [],
   "source": [
    "anotados_que_no_son_transcriptos.to_csv('Anotados_que_no_estan_en_tabla_original_transcriptos.csv')"
   ]
  },
  {
   "cell_type": "code",
   "execution_count": null,
   "id": "fb297996",
   "metadata": {},
   "outputs": [],
   "source": []
  },
  {
   "cell_type": "code",
   "execution_count": null,
   "id": "06d46ce6",
   "metadata": {},
   "outputs": [],
   "source": []
  },
  {
   "cell_type": "code",
   "execution_count": null,
   "id": "66ba87f3",
   "metadata": {},
   "outputs": [],
   "source": [
    "#ahora mergeo a Unicidad_disjuntos con anotacion, para que quede"
   ]
  },
  {
   "cell_type": "code",
   "execution_count": 254,
   "id": "587d629e",
   "metadata": {},
   "outputs": [
    {
     "ename": "ValueError",
     "evalue": "columns overlap but no suffix specified: Index(['Unicidad'], dtype='object')",
     "output_type": "error",
     "traceback": [
      "\u001b[0;31m---------------------------------------------------------------------------\u001b[0m",
      "\u001b[0;31mValueError\u001b[0m                                Traceback (most recent call last)",
      "Input \u001b[0;32mIn [254]\u001b[0m, in \u001b[0;36m<cell line: 1>\u001b[0;34m()\u001b[0m\n\u001b[0;32m----> 1\u001b[0m \u001b[43mUnicidad_disjuntos\u001b[49m\u001b[38;5;241;43m.\u001b[39;49m\u001b[43mjoin\u001b[49m\u001b[43m(\u001b[49m\u001b[43mproteinas_anotadas\u001b[49m\u001b[43m \u001b[49m\u001b[43m,\u001b[49m\u001b[43m \u001b[49m\u001b[43mon\u001b[49m\u001b[38;5;241;43m=\u001b[39;49m\u001b[38;5;124;43m'\u001b[39;49m\u001b[38;5;124;43mUnicidad\u001b[39;49m\u001b[38;5;124;43m'\u001b[39;49m\u001b[43m)\u001b[49m\n\u001b[1;32m      2\u001b[0m Unicidad_disjuntos\u001b[38;5;241m.\u001b[39mcolumns\n",
      "File \u001b[0;32m~/anaconda3/lib/python3.9/site-packages/pandas/core/frame.py:9248\u001b[0m, in \u001b[0;36mDataFrame.join\u001b[0;34m(self, other, on, how, lsuffix, rsuffix, sort)\u001b[0m\n\u001b[1;32m   9094\u001b[0m \u001b[38;5;28;01mdef\u001b[39;00m \u001b[38;5;21mjoin\u001b[39m(\n\u001b[1;32m   9095\u001b[0m     \u001b[38;5;28mself\u001b[39m,\n\u001b[1;32m   9096\u001b[0m     other: DataFrame \u001b[38;5;241m|\u001b[39m Series,\n\u001b[0;32m   (...)\u001b[0m\n\u001b[1;32m   9101\u001b[0m     sort: \u001b[38;5;28mbool\u001b[39m \u001b[38;5;241m=\u001b[39m \u001b[38;5;28;01mFalse\u001b[39;00m,\n\u001b[1;32m   9102\u001b[0m ) \u001b[38;5;241m-\u001b[39m\u001b[38;5;241m>\u001b[39m DataFrame:\n\u001b[1;32m   9103\u001b[0m     \u001b[38;5;124;03m\"\"\"\u001b[39;00m\n\u001b[1;32m   9104\u001b[0m \u001b[38;5;124;03m    Join columns of another DataFrame.\u001b[39;00m\n\u001b[1;32m   9105\u001b[0m \n\u001b[0;32m   (...)\u001b[0m\n\u001b[1;32m   9246\u001b[0m \u001b[38;5;124;03m    5  K1  A5   B1\u001b[39;00m\n\u001b[1;32m   9247\u001b[0m \u001b[38;5;124;03m    \"\"\"\u001b[39;00m\n\u001b[0;32m-> 9248\u001b[0m     \u001b[38;5;28;01mreturn\u001b[39;00m \u001b[38;5;28;43mself\u001b[39;49m\u001b[38;5;241;43m.\u001b[39;49m\u001b[43m_join_compat\u001b[49m\u001b[43m(\u001b[49m\n\u001b[1;32m   9249\u001b[0m \u001b[43m        \u001b[49m\u001b[43mother\u001b[49m\u001b[43m,\u001b[49m\u001b[43m \u001b[49m\u001b[43mon\u001b[49m\u001b[38;5;241;43m=\u001b[39;49m\u001b[43mon\u001b[49m\u001b[43m,\u001b[49m\u001b[43m \u001b[49m\u001b[43mhow\u001b[49m\u001b[38;5;241;43m=\u001b[39;49m\u001b[43mhow\u001b[49m\u001b[43m,\u001b[49m\u001b[43m \u001b[49m\u001b[43mlsuffix\u001b[49m\u001b[38;5;241;43m=\u001b[39;49m\u001b[43mlsuffix\u001b[49m\u001b[43m,\u001b[49m\u001b[43m \u001b[49m\u001b[43mrsuffix\u001b[49m\u001b[38;5;241;43m=\u001b[39;49m\u001b[43mrsuffix\u001b[49m\u001b[43m,\u001b[49m\u001b[43m \u001b[49m\u001b[43msort\u001b[49m\u001b[38;5;241;43m=\u001b[39;49m\u001b[43msort\u001b[49m\n\u001b[1;32m   9250\u001b[0m \u001b[43m    \u001b[49m\u001b[43m)\u001b[49m\n",
      "File \u001b[0;32m~/anaconda3/lib/python3.9/site-packages/pandas/core/frame.py:9279\u001b[0m, in \u001b[0;36mDataFrame._join_compat\u001b[0;34m(self, other, on, how, lsuffix, rsuffix, sort)\u001b[0m\n\u001b[1;32m   9270\u001b[0m     \u001b[38;5;28;01mif\u001b[39;00m how \u001b[38;5;241m==\u001b[39m \u001b[38;5;124m\"\u001b[39m\u001b[38;5;124mcross\u001b[39m\u001b[38;5;124m\"\u001b[39m:\n\u001b[1;32m   9271\u001b[0m         \u001b[38;5;28;01mreturn\u001b[39;00m merge(\n\u001b[1;32m   9272\u001b[0m             \u001b[38;5;28mself\u001b[39m,\n\u001b[1;32m   9273\u001b[0m             other,\n\u001b[0;32m   (...)\u001b[0m\n\u001b[1;32m   9277\u001b[0m             sort\u001b[38;5;241m=\u001b[39msort,\n\u001b[1;32m   9278\u001b[0m         )\n\u001b[0;32m-> 9279\u001b[0m     \u001b[38;5;28;01mreturn\u001b[39;00m \u001b[43mmerge\u001b[49m\u001b[43m(\u001b[49m\n\u001b[1;32m   9280\u001b[0m \u001b[43m        \u001b[49m\u001b[38;5;28;43mself\u001b[39;49m\u001b[43m,\u001b[49m\n\u001b[1;32m   9281\u001b[0m \u001b[43m        \u001b[49m\u001b[43mother\u001b[49m\u001b[43m,\u001b[49m\n\u001b[1;32m   9282\u001b[0m \u001b[43m        \u001b[49m\u001b[43mleft_on\u001b[49m\u001b[38;5;241;43m=\u001b[39;49m\u001b[43mon\u001b[49m\u001b[43m,\u001b[49m\n\u001b[1;32m   9283\u001b[0m \u001b[43m        \u001b[49m\u001b[43mhow\u001b[49m\u001b[38;5;241;43m=\u001b[39;49m\u001b[43mhow\u001b[49m\u001b[43m,\u001b[49m\n\u001b[1;32m   9284\u001b[0m \u001b[43m        \u001b[49m\u001b[43mleft_index\u001b[49m\u001b[38;5;241;43m=\u001b[39;49m\u001b[43mon\u001b[49m\u001b[43m \u001b[49m\u001b[38;5;129;43;01mis\u001b[39;49;00m\u001b[43m \u001b[49m\u001b[38;5;28;43;01mNone\u001b[39;49;00m\u001b[43m,\u001b[49m\n\u001b[1;32m   9285\u001b[0m \u001b[43m        \u001b[49m\u001b[43mright_index\u001b[49m\u001b[38;5;241;43m=\u001b[39;49m\u001b[38;5;28;43;01mTrue\u001b[39;49;00m\u001b[43m,\u001b[49m\n\u001b[1;32m   9286\u001b[0m \u001b[43m        \u001b[49m\u001b[43msuffixes\u001b[49m\u001b[38;5;241;43m=\u001b[39;49m\u001b[43m(\u001b[49m\u001b[43mlsuffix\u001b[49m\u001b[43m,\u001b[49m\u001b[43m \u001b[49m\u001b[43mrsuffix\u001b[49m\u001b[43m)\u001b[49m\u001b[43m,\u001b[49m\n\u001b[1;32m   9287\u001b[0m \u001b[43m        \u001b[49m\u001b[43msort\u001b[49m\u001b[38;5;241;43m=\u001b[39;49m\u001b[43msort\u001b[49m\u001b[43m,\u001b[49m\n\u001b[1;32m   9288\u001b[0m \u001b[43m    \u001b[49m\u001b[43m)\u001b[49m\n\u001b[1;32m   9289\u001b[0m \u001b[38;5;28;01melse\u001b[39;00m:\n\u001b[1;32m   9290\u001b[0m     \u001b[38;5;28;01mif\u001b[39;00m on \u001b[38;5;129;01mis\u001b[39;00m \u001b[38;5;129;01mnot\u001b[39;00m \u001b[38;5;28;01mNone\u001b[39;00m:\n",
      "File \u001b[0;32m~/anaconda3/lib/python3.9/site-packages/pandas/core/reshape/merge.py:122\u001b[0m, in \u001b[0;36mmerge\u001b[0;34m(left, right, how, on, left_on, right_on, left_index, right_index, sort, suffixes, copy, indicator, validate)\u001b[0m\n\u001b[1;32m     90\u001b[0m \u001b[38;5;129m@Substitution\u001b[39m(\u001b[38;5;124m\"\u001b[39m\u001b[38;5;130;01m\\n\u001b[39;00m\u001b[38;5;124mleft : DataFrame or named Series\u001b[39m\u001b[38;5;124m\"\u001b[39m)\n\u001b[1;32m     91\u001b[0m \u001b[38;5;129m@Appender\u001b[39m(_merge_doc, indents\u001b[38;5;241m=\u001b[39m\u001b[38;5;241m0\u001b[39m)\n\u001b[1;32m     92\u001b[0m \u001b[38;5;28;01mdef\u001b[39;00m \u001b[38;5;21mmerge\u001b[39m(\n\u001b[0;32m   (...)\u001b[0m\n\u001b[1;32m    105\u001b[0m     validate: \u001b[38;5;28mstr\u001b[39m \u001b[38;5;241m|\u001b[39m \u001b[38;5;28;01mNone\u001b[39;00m \u001b[38;5;241m=\u001b[39m \u001b[38;5;28;01mNone\u001b[39;00m,\n\u001b[1;32m    106\u001b[0m ) \u001b[38;5;241m-\u001b[39m\u001b[38;5;241m>\u001b[39m DataFrame:\n\u001b[1;32m    107\u001b[0m     op \u001b[38;5;241m=\u001b[39m _MergeOperation(\n\u001b[1;32m    108\u001b[0m         left,\n\u001b[1;32m    109\u001b[0m         right,\n\u001b[0;32m   (...)\u001b[0m\n\u001b[1;32m    120\u001b[0m         validate\u001b[38;5;241m=\u001b[39mvalidate,\n\u001b[1;32m    121\u001b[0m     )\n\u001b[0;32m--> 122\u001b[0m     \u001b[38;5;28;01mreturn\u001b[39;00m \u001b[43mop\u001b[49m\u001b[38;5;241;43m.\u001b[39;49m\u001b[43mget_result\u001b[49m\u001b[43m(\u001b[49m\u001b[43m)\u001b[49m\n",
      "File \u001b[0;32m~/anaconda3/lib/python3.9/site-packages/pandas/core/reshape/merge.py:718\u001b[0m, in \u001b[0;36m_MergeOperation.get_result\u001b[0;34m(self)\u001b[0m\n\u001b[1;32m    714\u001b[0m     \u001b[38;5;28mself\u001b[39m\u001b[38;5;241m.\u001b[39mleft, \u001b[38;5;28mself\u001b[39m\u001b[38;5;241m.\u001b[39mright \u001b[38;5;241m=\u001b[39m \u001b[38;5;28mself\u001b[39m\u001b[38;5;241m.\u001b[39m_indicator_pre_merge(\u001b[38;5;28mself\u001b[39m\u001b[38;5;241m.\u001b[39mleft, \u001b[38;5;28mself\u001b[39m\u001b[38;5;241m.\u001b[39mright)\n\u001b[1;32m    716\u001b[0m join_index, left_indexer, right_indexer \u001b[38;5;241m=\u001b[39m \u001b[38;5;28mself\u001b[39m\u001b[38;5;241m.\u001b[39m_get_join_info()\n\u001b[0;32m--> 718\u001b[0m llabels, rlabels \u001b[38;5;241m=\u001b[39m \u001b[43m_items_overlap_with_suffix\u001b[49m\u001b[43m(\u001b[49m\n\u001b[1;32m    719\u001b[0m \u001b[43m    \u001b[49m\u001b[38;5;28;43mself\u001b[39;49m\u001b[38;5;241;43m.\u001b[39;49m\u001b[43mleft\u001b[49m\u001b[38;5;241;43m.\u001b[39;49m\u001b[43m_info_axis\u001b[49m\u001b[43m,\u001b[49m\u001b[43m \u001b[49m\u001b[38;5;28;43mself\u001b[39;49m\u001b[38;5;241;43m.\u001b[39;49m\u001b[43mright\u001b[49m\u001b[38;5;241;43m.\u001b[39;49m\u001b[43m_info_axis\u001b[49m\u001b[43m,\u001b[49m\u001b[43m \u001b[49m\u001b[38;5;28;43mself\u001b[39;49m\u001b[38;5;241;43m.\u001b[39;49m\u001b[43msuffixes\u001b[49m\n\u001b[1;32m    720\u001b[0m \u001b[43m\u001b[49m\u001b[43m)\u001b[49m\n\u001b[1;32m    722\u001b[0m lindexers \u001b[38;5;241m=\u001b[39m {\u001b[38;5;241m1\u001b[39m: left_indexer} \u001b[38;5;28;01mif\u001b[39;00m left_indexer \u001b[38;5;129;01mis\u001b[39;00m \u001b[38;5;129;01mnot\u001b[39;00m \u001b[38;5;28;01mNone\u001b[39;00m \u001b[38;5;28;01melse\u001b[39;00m {}\n\u001b[1;32m    723\u001b[0m rindexers \u001b[38;5;241m=\u001b[39m {\u001b[38;5;241m1\u001b[39m: right_indexer} \u001b[38;5;28;01mif\u001b[39;00m right_indexer \u001b[38;5;129;01mis\u001b[39;00m \u001b[38;5;129;01mnot\u001b[39;00m \u001b[38;5;28;01mNone\u001b[39;00m \u001b[38;5;28;01melse\u001b[39;00m {}\n",
      "File \u001b[0;32m~/anaconda3/lib/python3.9/site-packages/pandas/core/reshape/merge.py:2313\u001b[0m, in \u001b[0;36m_items_overlap_with_suffix\u001b[0;34m(left, right, suffixes)\u001b[0m\n\u001b[1;32m   2310\u001b[0m lsuffix, rsuffix \u001b[38;5;241m=\u001b[39m suffixes\n\u001b[1;32m   2312\u001b[0m \u001b[38;5;28;01mif\u001b[39;00m \u001b[38;5;129;01mnot\u001b[39;00m lsuffix \u001b[38;5;129;01mand\u001b[39;00m \u001b[38;5;129;01mnot\u001b[39;00m rsuffix:\n\u001b[0;32m-> 2313\u001b[0m     \u001b[38;5;28;01mraise\u001b[39;00m \u001b[38;5;167;01mValueError\u001b[39;00m(\u001b[38;5;124mf\u001b[39m\u001b[38;5;124m\"\u001b[39m\u001b[38;5;124mcolumns overlap but no suffix specified: \u001b[39m\u001b[38;5;132;01m{\u001b[39;00mto_rename\u001b[38;5;132;01m}\u001b[39;00m\u001b[38;5;124m\"\u001b[39m)\n\u001b[1;32m   2315\u001b[0m \u001b[38;5;28;01mdef\u001b[39;00m \u001b[38;5;21mrenamer\u001b[39m(x, suffix):\n\u001b[1;32m   2316\u001b[0m     \u001b[38;5;124;03m\"\"\"\u001b[39;00m\n\u001b[1;32m   2317\u001b[0m \u001b[38;5;124;03m    Rename the left and right indices.\u001b[39;00m\n\u001b[1;32m   2318\u001b[0m \n\u001b[0;32m   (...)\u001b[0m\n\u001b[1;32m   2329\u001b[0m \u001b[38;5;124;03m    x : renamed column name\u001b[39;00m\n\u001b[1;32m   2330\u001b[0m \u001b[38;5;124;03m    \"\"\"\u001b[39;00m\n",
      "\u001b[0;31mValueError\u001b[0m: columns overlap but no suffix specified: Index(['Unicidad'], dtype='object')"
     ]
    }
   ],
   "source": [
    "Unicidad_disjuntos.join(proteinas_anotadas , on='Unicidad')\n",
    "Unicidad_disjuntos.columns"
   ]
  },
  {
   "cell_type": "code",
   "execution_count": null,
   "id": "b9f6d0c6",
   "metadata": {},
   "outputs": [],
   "source": []
  },
  {
   "cell_type": "code",
   "execution_count": null,
   "id": "a41829f7",
   "metadata": {},
   "outputs": [],
   "source": []
  },
  {
   "cell_type": "code",
   "execution_count": 253,
   "id": "c45e7188",
   "metadata": {},
   "outputs": [
    {
     "data": {
      "text/plain": [
       "pandas.core.frame.DataFrame"
      ]
     },
     "execution_count": 253,
     "metadata": {},
     "output_type": "execute_result"
    }
   ],
   "source": [
    "type(Unicidad_disjuntos)"
   ]
  },
  {
   "cell_type": "code",
   "execution_count": null,
   "id": "8dcaa669",
   "metadata": {},
   "outputs": [],
   "source": []
  },
  {
   "cell_type": "code",
   "execution_count": null,
   "id": "daba94dc",
   "metadata": {},
   "outputs": [],
   "source": []
  },
  {
   "cell_type": "code",
   "execution_count": null,
   "id": "e9290629",
   "metadata": {},
   "outputs": [],
   "source": []
  },
  {
   "cell_type": "code",
   "execution_count": null,
   "id": "c7e04820",
   "metadata": {},
   "outputs": [],
   "source": []
  }
 ],
 "metadata": {
  "kernelspec": {
   "display_name": "Python 3 (ipykernel)",
   "language": "python",
   "name": "python3"
  },
  "language_info": {
   "codemirror_mode": {
    "name": "ipython",
    "version": 3
   },
   "file_extension": ".py",
   "mimetype": "text/x-python",
   "name": "python",
   "nbconvert_exporter": "python",
   "pygments_lexer": "ipython3",
   "version": "3.9.7"
  }
 },
 "nbformat": 4,
 "nbformat_minor": 5
}
